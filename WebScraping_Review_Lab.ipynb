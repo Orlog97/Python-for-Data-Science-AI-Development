{
 "cells": [
  {
   "cell_type": "markdown",
   "metadata": {},
   "source": [
    "<center>\n",
    "    <img src=\"https://gitlab.com/ibm/skills-network/courses/placeholder101/-/raw/master/labs/module%201/images/IDSNlogo.png\" width=\"300\" alt=\"cognitiveclass.ai logo\"  />\n",
    "</center>\n"
   ]
  },
  {
   "cell_type": "markdown",
   "metadata": {},
   "source": [
    "# **Web Scraping Lab**\n"
   ]
  },
  {
   "cell_type": "markdown",
   "metadata": {},
   "source": [
    "Estimated time needed: **30** minutes\n"
   ]
  },
  {
   "cell_type": "markdown",
   "metadata": {},
   "source": [
    "## Objectives\n"
   ]
  },
  {
   "cell_type": "markdown",
   "metadata": {},
   "source": [
    "After completing this lab you will be able to:\n"
   ]
  },
  {
   "cell_type": "markdown",
   "metadata": {},
   "source": [
    "<h2>Table of Contents</h2>\n",
    "<div class=\"alert alert-block alert-info\" style=\"margin-top: 20px\">\n",
    "    <ul>\n",
    "        <li>\n",
    "            <a href=\"https://bso/?utm_medium=Exinfluencer&utm_source=Exinfluencer&utm_content=000026UJ&utm_term=10006555&utm_id=NA-SkillsNetwork-Channel-SkillsNetworkCoursesIBMDeveloperSkillsNetworkPY0220ENSkillsNetwork23455606-2021-01-01\">Beautiful Soup Object</a>\n",
    "            <ul>\n",
    "                <li>Tag</li>\n",
    "                <li>Children, Parents, and Siblings</li>\n",
    "                <li>HTML Attributes</li>\n",
    "                <li>Navigable String</li>\n",
    "            </ul>\n",
    "        </li>\n",
    "     </ul>\n",
    "    <ul>\n",
    "        <li>\n",
    "            <a href=\"https://filter/?utm_medium=Exinfluencer&utm_source=Exinfluencer&utm_content=000026UJ&utm_term=10006555&utm_id=NA-SkillsNetwork-Channel-SkillsNetworkCoursesIBMDeveloperSkillsNetworkPY0220ENSkillsNetwork23455606-2021-01-01\">Filter</a>\n",
    "            <ul>\n",
    "                <li>find All</li>\n",
    "                <li>find </li>\n",
    "                <li>HTML Attributes</li>\n",
    "                <li>Navigable String</li>\n",
    "            </ul>\n",
    "        </li>\n",
    "     </ul>\n",
    "     <ul>\n",
    "        <li>\n",
    "            <a href=\"https://dscw/?utm_medium=Exinfluencer&utm_source=Exinfluencer&utm_content=000026UJ&utm_term=10006555&utm_id=NA-SkillsNetwork-Channel-SkillsNetworkCoursesIBMDeveloperSkillsNetworkPY0220ENSkillsNetwork23455606-2021-01-01\">Downloading And Scraping The Contents Of A Web</a>\n",
    "    </li>\n",
    "         </ul>\n",
    "    <p>\n",
    "        Estimated time needed: <strong>25 min</strong>\n",
    "    </p>\n",
    "\n",
    "</div>\n",
    "\n",
    "<hr>\n"
   ]
  },
  {
   "cell_type": "markdown",
   "metadata": {},
   "source": []
  },
  {
   "cell_type": "markdown",
   "metadata": {},
   "source": [
    "For this lab, we are going to be using Python and several Python libraries. Some of these libraries might be installed in your lab environment or in SN Labs. Others may need to be installed by you. The cells below will install these libraries when executed.\n"
   ]
  },
  {
   "cell_type": "code",
   "execution_count": 1,
   "metadata": {},
   "outputs": [
    {
     "name": "stdout",
     "output_type": "stream",
     "text": [
      "Collecting bs4\n",
      "  Downloading https://files.pythonhosted.org/packages/10/ed/7e8b97591f6f456174139ec089c769f89a94a1a4025fe967691de971f314/bs4-0.0.1.tar.gz\n",
      "Collecting beautifulsoup4 (from bs4)\n",
      "\u001b[?25l  Downloading https://files.pythonhosted.org/packages/69/bf/f0f194d3379d3f3347478bd267f754fc68c11cbf2fe302a6ab69447b1417/beautifulsoup4-4.10.0-py3-none-any.whl (97kB)\n",
      "\u001b[K     |████████████████████████████████| 102kB 26.6MB/s ta 0:00:01\n",
      "\u001b[?25hCollecting soupsieve>1.2 (from beautifulsoup4->bs4)\n",
      "  Downloading https://files.pythonhosted.org/packages/36/69/d82d04022f02733bf9a72bc3b96332d360c0c5307096d76f6bb7489f7e57/soupsieve-2.2.1-py3-none-any.whl\n",
      "Building wheels for collected packages: bs4\n",
      "  Building wheel for bs4 (setup.py) ... \u001b[?25ldone\n",
      "\u001b[?25h  Stored in directory: /home/jupyterlab/.cache/pip/wheels/a0/b0/b2/4f80b9456b87abedbc0bf2d52235414c3467d8889be38dd472\n",
      "Successfully built bs4\n",
      "Installing collected packages: soupsieve, beautifulsoup4, bs4\n",
      "Successfully installed beautifulsoup4-4.10.0 bs4-0.0.1 soupsieve-2.2.1\n"
     ]
    }
   ],
   "source": [
    "!pip install bs4\n",
    "#!pip install requests"
   ]
  },
  {
   "cell_type": "markdown",
   "metadata": {},
   "source": [
    "Import the required modules and functions\n"
   ]
  },
  {
   "cell_type": "code",
   "execution_count": 2,
   "metadata": {},
   "outputs": [],
   "source": [
    "from bs4 import BeautifulSoup # this module helps in web scrapping.\n",
    "import requests  # this module helps us to download a web page"
   ]
  },
  {
   "cell_type": "markdown",
   "metadata": {},
   "source": [
    "<h2 id=\"BSO\">Beautiful Soup Objects</h2>\n"
   ]
  },
  {
   "cell_type": "markdown",
   "metadata": {},
   "source": [
    "Beautiful Soup is a Python library for pulling data out of HTML and XML files, we will focus on HTML files. This is accomplished by representing the HTML as a set of objects with methods used to parse the HTML.  We can navigate the HTML as a tree and/or filter out what we are looking for.\n",
    "\n",
    "Consider the following HTML:\n"
   ]
  },
  {
   "cell_type": "code",
   "execution_count": 5,
   "metadata": {},
   "outputs": [
    {
     "data": {
      "text/html": [
       "<!DOCTYPE html>\n",
       "<html>\n",
       "<head>\n",
       "<title>Page Title</title>\n",
       "</head>\n",
       "<body>\n",
       "<h3><b id='boldest'>Lebron James</b></h3>\n",
       "<p> Salary: $ 92,000,000 </p>\n",
       "<h3> Stephen Curry</h3>\n",
       "<p> Salary: $85,000, 000 </p>\n",
       "<h3> Kevin Durant </h3>\n",
       "<p> Salary: $73,200, 000</p>\n",
       "</body>\n",
       "</html>\n"
      ],
      "text/plain": [
       "<IPython.core.display.HTML object>"
      ]
     },
     "metadata": {},
     "output_type": "display_data"
    }
   ],
   "source": [
    "%%html\n",
    "<!DOCTYPE html>\n",
    "<html>\n",
    "<head>\n",
    "<title>Page Title</title>\n",
    "</head>\n",
    "<body>\n",
    "<h3><b id='boldest'>Lebron James</b></h3>\n",
    "<p> Salary: $ 92,000,000 </p>\n",
    "<h3> Stephen Curry</h3>\n",
    "<p> Salary: $85,000, 000 </p>\n",
    "<h3> Kevin Durant </h3>\n",
    "<p> Salary: $73,200, 000</p>\n",
    "</body>\n",
    "</html>"
   ]
  },
  {
   "cell_type": "markdown",
   "metadata": {},
   "source": [
    "We can store it as a string in the variable HTML:\n"
   ]
  },
  {
   "cell_type": "code",
   "execution_count": 6,
   "metadata": {},
   "outputs": [],
   "source": [
    "html=\"<!DOCTYPE html><html><head><title>Page Title</title></head><body><h3><b id='boldest'>Lebron James</b></h3><p> Salary: $ 92,000,000 </p><h3> Stephen Curry</h3><p> Salary: $85,000, 000 </p><h3> Kevin Durant </h3><p> Salary: $73,200, 000</p></body></html>\""
   ]
  },
  {
   "cell_type": "markdown",
   "metadata": {},
   "source": [
    "To parse a document, pass it into the <code>BeautifulSoup</code> constructor, the <code>BeautifulSoup</code> object, which represents the document as a nested data structure:\n"
   ]
  },
  {
   "cell_type": "code",
   "execution_count": 9,
   "metadata": {},
   "outputs": [],
   "source": [
    "soup = BeautifulSoup(html, 'html5lib')"
   ]
  },
  {
   "cell_type": "markdown",
   "metadata": {},
   "source": [
    "First, the document is converted to Unicode, (similar to ASCII),  and HTML entities are converted to Unicode characters. Beautiful Soup transforms a complex HTML document into a complex tree of Python objects. The <code>BeautifulSoup</code> object can create other types of objects. In this lab, we will cover <code>BeautifulSoup</code> and <code>Tag</code> objects that for the purposes of this lab are identical, and <code>NavigableString</code> objects.\n"
   ]
  },
  {
   "cell_type": "markdown",
   "metadata": {},
   "source": [
    "We can use the method <code>prettify()</code> to display the HTML in the nested structure:\n"
   ]
  },
  {
   "cell_type": "code",
   "execution_count": 10,
   "metadata": {},
   "outputs": [
    {
     "name": "stdout",
     "output_type": "stream",
     "text": [
      "<!DOCTYPE html>\n",
      "<html>\n",
      " <head>\n",
      "  <title>\n",
      "   Page Title\n",
      "  </title>\n",
      " </head>\n",
      " <body>\n",
      "  <h3>\n",
      "   <b id=\"boldest\">\n",
      "    Lebron James\n",
      "   </b>\n",
      "  </h3>\n",
      "  <p>\n",
      "   Salary: $ 92,000,000\n",
      "  </p>\n",
      "  <h3>\n",
      "   Stephen Curry\n",
      "  </h3>\n",
      "  <p>\n",
      "   Salary: $85,000, 000\n",
      "  </p>\n",
      "  <h3>\n",
      "   Kevin Durant\n",
      "  </h3>\n",
      "  <p>\n",
      "   Salary: $73,200, 000\n",
      "  </p>\n",
      " </body>\n",
      "</html>\n"
     ]
    }
   ],
   "source": [
    "print(soup.prettify())"
   ]
  },
  {
   "cell_type": "markdown",
   "metadata": {},
   "source": [
    "## Tags\n"
   ]
  },
  {
   "cell_type": "markdown",
   "metadata": {},
   "source": [
    "Let's say we want the  title of the page and the name of the top paid player we can use the <code>Tag</code>. The <code>Tag</code> object corresponds to an HTML tag in the original document, for example, the tag title.\n"
   ]
  },
  {
   "cell_type": "code",
   "execution_count": 11,
   "metadata": {},
   "outputs": [
    {
     "name": "stdout",
     "output_type": "stream",
     "text": [
      "tag object: <title>Page Title</title>\n"
     ]
    }
   ],
   "source": [
    "tag_object=soup.title\n",
    "print(\"tag object:\",tag_object)"
   ]
  },
  {
   "cell_type": "markdown",
   "metadata": {},
   "source": [
    "we can see the tag type <code>bs4.element.Tag</code>\n"
   ]
  },
  {
   "cell_type": "code",
   "execution_count": 12,
   "metadata": {},
   "outputs": [
    {
     "name": "stdout",
     "output_type": "stream",
     "text": [
      "tag object type: <class 'bs4.element.Tag'>\n"
     ]
    }
   ],
   "source": [
    "print(\"tag object type:\",type(tag_object))"
   ]
  },
  {
   "cell_type": "markdown",
   "metadata": {},
   "source": [
    "If there is more than one <code>Tag</code>  with the same name, the first element with that <code>Tag</code> name is called, this corresponds to the most paid player:\n"
   ]
  },
  {
   "cell_type": "code",
   "execution_count": 13,
   "metadata": {},
   "outputs": [
    {
     "data": {
      "text/plain": [
       "<h3><b id=\"boldest\">Lebron James</b></h3>"
      ]
     },
     "execution_count": 13,
     "metadata": {},
     "output_type": "execute_result"
    }
   ],
   "source": [
    "tag_object=soup.h3\n",
    "tag_object"
   ]
  },
  {
   "cell_type": "markdown",
   "metadata": {},
   "source": [
    "Enclosed in the bold attribute <code>b</code>, it helps to use the tree representation. We can navigate down the tree using the child attribute to get the name.\n"
   ]
  },
  {
   "cell_type": "markdown",
   "metadata": {},
   "source": [
    "### Children, Parents, and Siblings\n"
   ]
  },
  {
   "cell_type": "markdown",
   "metadata": {},
   "source": [
    "As stated above the <code>Tag</code> object is a tree of objects we can access the child of the tag or navigate down the branch as follows:\n"
   ]
  },
  {
   "cell_type": "code",
   "execution_count": 14,
   "metadata": {},
   "outputs": [
    {
     "data": {
      "text/plain": [
       "<b id=\"boldest\">Lebron James</b>"
      ]
     },
     "execution_count": 14,
     "metadata": {},
     "output_type": "execute_result"
    }
   ],
   "source": [
    "tag_child =tag_object.b\n",
    "tag_child"
   ]
  },
  {
   "cell_type": "markdown",
   "metadata": {},
   "source": [
    "You can access the parent with the <code> parent</code>\n"
   ]
  },
  {
   "cell_type": "code",
   "execution_count": 15,
   "metadata": {},
   "outputs": [
    {
     "data": {
      "text/plain": [
       "<h3><b id=\"boldest\">Lebron James</b></h3>"
      ]
     },
     "execution_count": 15,
     "metadata": {},
     "output_type": "execute_result"
    }
   ],
   "source": [
    "parent_tag=tag_child.parent\n",
    "parent_tag"
   ]
  },
  {
   "cell_type": "markdown",
   "metadata": {},
   "source": [
    "this is identical to\n"
   ]
  },
  {
   "cell_type": "code",
   "execution_count": 16,
   "metadata": {},
   "outputs": [
    {
     "data": {
      "text/plain": [
       "<h3><b id=\"boldest\">Lebron James</b></h3>"
      ]
     },
     "execution_count": 16,
     "metadata": {},
     "output_type": "execute_result"
    }
   ],
   "source": [
    "tag_object"
   ]
  },
  {
   "cell_type": "markdown",
   "metadata": {},
   "source": [
    "<code>tag_object</code> parent is the <code>body</code> element.\n"
   ]
  },
  {
   "cell_type": "code",
   "execution_count": 17,
   "metadata": {},
   "outputs": [
    {
     "data": {
      "text/plain": [
       "<body><h3><b id=\"boldest\">Lebron James</b></h3><p> Salary: $ 92,000,000 </p><h3> Stephen Curry</h3><p> Salary: $85,000, 000 </p><h3> Kevin Durant </h3><p> Salary: $73,200, 000</p></body>"
      ]
     },
     "execution_count": 17,
     "metadata": {},
     "output_type": "execute_result"
    }
   ],
   "source": [
    "tag_object.parent"
   ]
  },
  {
   "cell_type": "markdown",
   "metadata": {},
   "source": [
    "<code>tag_object</code> sibling is the <code>paragraph</code> element\n"
   ]
  },
  {
   "cell_type": "code",
   "execution_count": 18,
   "metadata": {},
   "outputs": [
    {
     "data": {
      "text/plain": [
       "<p> Salary: $ 92,000,000 </p>"
      ]
     },
     "execution_count": 18,
     "metadata": {},
     "output_type": "execute_result"
    }
   ],
   "source": [
    "sibling_1=tag_object.next_sibling\n",
    "sibling_1"
   ]
  },
  {
   "cell_type": "markdown",
   "metadata": {},
   "source": [
    "`sibling_2` is the `header` element which is also a sibling of both `sibling_1` and `tag_object`\n"
   ]
  },
  {
   "cell_type": "code",
   "execution_count": 19,
   "metadata": {},
   "outputs": [
    {
     "data": {
      "text/plain": [
       "<h3> Stephen Curry</h3>"
      ]
     },
     "execution_count": 19,
     "metadata": {},
     "output_type": "execute_result"
    }
   ],
   "source": [
    "sibling_2=sibling_1.next_sibling\n",
    "sibling_2"
   ]
  },
  {
   "cell_type": "markdown",
   "metadata": {},
   "source": [
    "<h3 id=\"first_question\">Exercise: <code>next_sibling</code></h3>\n"
   ]
  },
  {
   "cell_type": "markdown",
   "metadata": {},
   "source": [
    "Using the object <code>sibling\\_2</code> and the property <code>next_sibling</code> to find the salary of Stephen Curry:\n"
   ]
  },
  {
   "cell_type": "code",
   "execution_count": 20,
   "metadata": {},
   "outputs": [
    {
     "data": {
      "text/plain": [
       "<p> Salary: $85,000, 000 </p>"
      ]
     },
     "execution_count": 20,
     "metadata": {},
     "output_type": "execute_result"
    }
   ],
   "source": [
    "Salary_SC= sibling_2.next_sibling\n",
    "Salary_SC"
   ]
  },
  {
   "cell_type": "markdown",
   "metadata": {},
   "source": [
    "<details><summary>Click here for the solution</summary>\n",
    "\n",
    "```\n",
    "sibling_2.next_sibling\n",
    "\n",
    "```\n",
    "\n",
    "</details>\n"
   ]
  },
  {
   "cell_type": "markdown",
   "metadata": {},
   "source": [
    "### HTML Attributes\n"
   ]
  },
  {
   "cell_type": "markdown",
   "metadata": {},
   "source": [
    "If the tag has attributes, the tag <code>id=\"boldest\"</code> has an attribute <code>id</code> whose value is <code>boldest</code>. You can access a tag’s attributes by treating the tag like a dictionary:\n"
   ]
  },
  {
   "cell_type": "code",
   "execution_count": 21,
   "metadata": {},
   "outputs": [
    {
     "data": {
      "text/plain": [
       "'boldest'"
      ]
     },
     "execution_count": 21,
     "metadata": {},
     "output_type": "execute_result"
    }
   ],
   "source": [
    "tag_child['id']"
   ]
  },
  {
   "cell_type": "markdown",
   "metadata": {},
   "source": [
    "You can access that dictionary directly as <code>attrs</code>:\n"
   ]
  },
  {
   "cell_type": "code",
   "execution_count": 22,
   "metadata": {},
   "outputs": [
    {
     "data": {
      "text/plain": [
       "{'id': 'boldest'}"
      ]
     },
     "execution_count": 22,
     "metadata": {},
     "output_type": "execute_result"
    }
   ],
   "source": [
    "tag_child.attrs"
   ]
  },
  {
   "cell_type": "markdown",
   "metadata": {},
   "source": [
    "You can also work with Multi-valued attribute check out <a href=\"https://www.crummy.com/software/BeautifulSoup/bs4/doc/?utm_medium=Exinfluencer&utm_source=Exinfluencer&utm_content=000026UJ&utm_term=10006555&utm_id=NA-SkillsNetwork-Channel-SkillsNetworkCoursesIBMDeveloperSkillsNetworkPY0220ENSkillsNetwork23455606-2021-01-01\">\\[1]</a> for more.\n"
   ]
  },
  {
   "cell_type": "markdown",
   "metadata": {},
   "source": [
    "We can also obtain the content if the attribute of the <code>tag</code> using the Python <code>get()</code> method.\n"
   ]
  },
  {
   "cell_type": "code",
   "execution_count": 24,
   "metadata": {},
   "outputs": [
    {
     "data": {
      "text/plain": [
       "'boldest'"
      ]
     },
     "execution_count": 24,
     "metadata": {},
     "output_type": "execute_result"
    }
   ],
   "source": [
    "tag_child.get('id')"
   ]
  },
  {
   "cell_type": "markdown",
   "metadata": {},
   "source": [
    "### Navigable String\n"
   ]
  },
  {
   "cell_type": "markdown",
   "metadata": {},
   "source": [
    "A string corresponds to a bit of text or content within a tag. Beautiful Soup uses the <code>NavigableString</code> class to contain this text. In our HTML we can obtain the name of the first player by extracting the sting of the <code>Tag</code> object <code>tag_child</code> as follows:\n"
   ]
  },
  {
   "cell_type": "code",
   "execution_count": 25,
   "metadata": {},
   "outputs": [
    {
     "data": {
      "text/plain": [
       "'Lebron James'"
      ]
     },
     "execution_count": 25,
     "metadata": {},
     "output_type": "execute_result"
    }
   ],
   "source": [
    "tag_string=tag_child.string\n",
    "tag_string"
   ]
  },
  {
   "cell_type": "markdown",
   "metadata": {},
   "source": [
    "we can verify the type is Navigable String\n"
   ]
  },
  {
   "cell_type": "code",
   "execution_count": 26,
   "metadata": {},
   "outputs": [
    {
     "data": {
      "text/plain": [
       "bs4.element.NavigableString"
      ]
     },
     "execution_count": 26,
     "metadata": {},
     "output_type": "execute_result"
    }
   ],
   "source": [
    "type(tag_string)"
   ]
  },
  {
   "cell_type": "markdown",
   "metadata": {},
   "source": [
    "A NavigableString is just like a Python string or Unicode string, to be more precise. The main difference is that it also supports some  <code>BeautifulSoup</code> features. We can covert it to sting object in Python:\n"
   ]
  },
  {
   "cell_type": "code",
   "execution_count": 27,
   "metadata": {},
   "outputs": [
    {
     "data": {
      "text/plain": [
       "'Lebron James'"
      ]
     },
     "execution_count": 27,
     "metadata": {},
     "output_type": "execute_result"
    }
   ],
   "source": [
    "unicode_string = str(tag_string)\n",
    "unicode_string"
   ]
  },
  {
   "cell_type": "markdown",
   "metadata": {},
   "source": [
    "<h2 id=\"filter\">Filter</h2>\n"
   ]
  },
  {
   "cell_type": "markdown",
   "metadata": {},
   "source": [
    "Filters allow you to find complex patterns, the simplest filter is a string. In this section we will pass a string to a different filter method and Beautiful Soup will perform a match against that exact string.  Consider the following HTML of rocket launchs:\n"
   ]
  },
  {
   "cell_type": "code",
   "execution_count": 28,
   "metadata": {},
   "outputs": [
    {
     "data": {
      "text/html": [
       "<table>\n",
       "  <tr>\n",
       "    <td id='flight' >Flight No</td>\n",
       "    <td>Launch site</td> \n",
       "    <td>Payload mass</td>\n",
       "   </tr>\n",
       "  <tr> \n",
       "    <td>1</td>\n",
       "    <td><a href='https://en.wikipedia.org/wiki/Florida'>Florida</a></td>\n",
       "    <td>300 kg</td>\n",
       "  </tr>\n",
       "  <tr>\n",
       "    <td>2</td>\n",
       "    <td><a href='https://en.wikipedia.org/wiki/Texas'>Texas</a></td>\n",
       "    <td>94 kg</td>\n",
       "  </tr>\n",
       "  <tr>\n",
       "    <td>3</td>\n",
       "    <td><a href='https://en.wikipedia.org/wiki/Florida'>Florida<a> </td>\n",
       "    <td>80 kg</td>\n",
       "  </tr>\n",
       "</table>\n"
      ],
      "text/plain": [
       "<IPython.core.display.HTML object>"
      ]
     },
     "metadata": {},
     "output_type": "display_data"
    }
   ],
   "source": [
    "%%html\n",
    "<table>\n",
    "  <tr>\n",
    "    <td id='flight' >Flight No</td>\n",
    "    <td>Launch site</td> \n",
    "    <td>Payload mass</td>\n",
    "   </tr>\n",
    "  <tr> \n",
    "    <td>1</td>\n",
    "    <td><a href='https://en.wikipedia.org/wiki/Florida'>Florida</a></td>\n",
    "    <td>300 kg</td>\n",
    "  </tr>\n",
    "  <tr>\n",
    "    <td>2</td>\n",
    "    <td><a href='https://en.wikipedia.org/wiki/Texas'>Texas</a></td>\n",
    "    <td>94 kg</td>\n",
    "  </tr>\n",
    "  <tr>\n",
    "    <td>3</td>\n",
    "    <td><a href='https://en.wikipedia.org/wiki/Florida'>Florida<a> </td>\n",
    "    <td>80 kg</td>\n",
    "  </tr>\n",
    "</table>"
   ]
  },
  {
   "cell_type": "markdown",
   "metadata": {},
   "source": [
    "We can store it as a string in the variable <code>table</code>:\n"
   ]
  },
  {
   "cell_type": "code",
   "execution_count": 29,
   "metadata": {},
   "outputs": [],
   "source": [
    "table=\"<table><tr><td id='flight'>Flight No</td><td>Launch site</td> <td>Payload mass</td></tr><tr> <td>1</td><td><a href='https://en.wikipedia.org/wiki/Florida'>Florida<a></td><td>300 kg</td></tr><tr><td>2</td><td><a href='https://en.wikipedia.org/wiki/Texas'>Texas</a></td><td>94 kg</td></tr><tr><td>3</td><td><a href='https://en.wikipedia.org/wiki/Florida'>Florida<a> </td><td>80 kg</td></tr></table>\""
   ]
  },
  {
   "cell_type": "code",
   "execution_count": 33,
   "metadata": {},
   "outputs": [],
   "source": [
    "table_bs = BeautifulSoup(table, 'html5lib')\n",
    "#print(table_bs.prettify())"
   ]
  },
  {
   "cell_type": "markdown",
   "metadata": {},
   "source": [
    "## find All\n"
   ]
  },
  {
   "cell_type": "markdown",
   "metadata": {},
   "source": [
    "The <code>find_all()</code> method looks through a tag’s descendants and retrieves all descendants that match your filters.\n",
    "\n",
    "<p>\n",
    "The Method signature for <code>find_all(name, attrs, recursive, string, limit, **kwargs)<c/ode>\n",
    "</p>\n"
   ]
  },
  {
   "cell_type": "markdown",
   "metadata": {},
   "source": [
    "### Name\n"
   ]
  },
  {
   "cell_type": "markdown",
   "metadata": {},
   "source": [
    "When we set the <code>name</code> parameter to a tag name, the method will extract all the tags with that name and its children.\n"
   ]
  },
  {
   "cell_type": "code",
   "execution_count": 34,
   "metadata": {},
   "outputs": [
    {
     "data": {
      "text/plain": [
       "[<tr><td id=\"flight\">Flight No</td><td>Launch site</td> <td>Payload mass</td></tr>,\n",
       " <tr> <td>1</td><td><a href=\"https://en.wikipedia.org/wiki/Florida\">Florida</a><a></a></td><td>300 kg</td></tr>,\n",
       " <tr><td>2</td><td><a href=\"https://en.wikipedia.org/wiki/Texas\">Texas</a></td><td>94 kg</td></tr>,\n",
       " <tr><td>3</td><td><a href=\"https://en.wikipedia.org/wiki/Florida\">Florida</a><a> </a></td><td>80 kg</td></tr>]"
      ]
     },
     "execution_count": 34,
     "metadata": {},
     "output_type": "execute_result"
    }
   ],
   "source": [
    "table_rows=table_bs.find_all('tr')\n",
    "table_rows"
   ]
  },
  {
   "cell_type": "markdown",
   "metadata": {},
   "source": [
    "The result is a Python Iterable just like a list, each element is a <code>tag</code> object:\n"
   ]
  },
  {
   "cell_type": "code",
   "execution_count": 35,
   "metadata": {},
   "outputs": [
    {
     "data": {
      "text/plain": [
       "<tr><td id=\"flight\">Flight No</td><td>Launch site</td> <td>Payload mass</td></tr>"
      ]
     },
     "execution_count": 35,
     "metadata": {},
     "output_type": "execute_result"
    }
   ],
   "source": [
    "first_row =table_rows[0]\n",
    "first_row"
   ]
  },
  {
   "cell_type": "markdown",
   "metadata": {},
   "source": [
    "The type is <code>tag</code>\n"
   ]
  },
  {
   "cell_type": "code",
   "execution_count": 36,
   "metadata": {},
   "outputs": [
    {
     "name": "stdout",
     "output_type": "stream",
     "text": [
      "<class 'bs4.element.Tag'>\n"
     ]
    }
   ],
   "source": [
    "print(type(first_row))"
   ]
  },
  {
   "cell_type": "markdown",
   "metadata": {},
   "source": [
    "we can obtain the child\n"
   ]
  },
  {
   "cell_type": "code",
   "execution_count": 37,
   "metadata": {},
   "outputs": [
    {
     "data": {
      "text/plain": [
       "<td id=\"flight\">Flight No</td>"
      ]
     },
     "execution_count": 37,
     "metadata": {},
     "output_type": "execute_result"
    }
   ],
   "source": [
    "first_row.td"
   ]
  },
  {
   "cell_type": "markdown",
   "metadata": {},
   "source": [
    "If we iterate through the list, each element corresponds to a row in the table:\n"
   ]
  },
  {
   "cell_type": "code",
   "execution_count": 38,
   "metadata": {},
   "outputs": [
    {
     "name": "stdout",
     "output_type": "stream",
     "text": [
      "row 0 is <tr><td id=\"flight\">Flight No</td><td>Launch site</td> <td>Payload mass</td></tr>\n",
      "row 1 is <tr> <td>1</td><td><a href=\"https://en.wikipedia.org/wiki/Florida\">Florida</a><a></a></td><td>300 kg</td></tr>\n",
      "row 2 is <tr><td>2</td><td><a href=\"https://en.wikipedia.org/wiki/Texas\">Texas</a></td><td>94 kg</td></tr>\n",
      "row 3 is <tr><td>3</td><td><a href=\"https://en.wikipedia.org/wiki/Florida\">Florida</a><a> </a></td><td>80 kg</td></tr>\n"
     ]
    }
   ],
   "source": [
    "for i,row in enumerate(table_rows):\n",
    "    print(\"row\",i,\"is\",row)\n",
    "    "
   ]
  },
  {
   "cell_type": "markdown",
   "metadata": {},
   "source": [
    "As <code>row</code> is a <code>cell</code> object, we can apply the method <code>find_all</code> to it and extract table cells in the object <code>cells</code> using the tag <code>td</code>, this is all the children with the name <code>td</code>. The result is a list, each element corresponds to a cell and is a <code>Tag</code> object, we can iterate through this list as well. We can extract the content using the <code>string</code>  attribute.\n"
   ]
  },
  {
   "cell_type": "code",
   "execution_count": 39,
   "metadata": {},
   "outputs": [
    {
     "name": "stdout",
     "output_type": "stream",
     "text": [
      "row 0\n",
      "colunm 0 cell <td id=\"flight\">Flight No</td>\n",
      "colunm 1 cell <td>Launch site</td>\n",
      "colunm 2 cell <td>Payload mass</td>\n",
      "row 1\n",
      "colunm 0 cell <td>1</td>\n",
      "colunm 1 cell <td><a href=\"https://en.wikipedia.org/wiki/Florida\">Florida</a><a></a></td>\n",
      "colunm 2 cell <td>300 kg</td>\n",
      "row 2\n",
      "colunm 0 cell <td>2</td>\n",
      "colunm 1 cell <td><a href=\"https://en.wikipedia.org/wiki/Texas\">Texas</a></td>\n",
      "colunm 2 cell <td>94 kg</td>\n",
      "row 3\n",
      "colunm 0 cell <td>3</td>\n",
      "colunm 1 cell <td><a href=\"https://en.wikipedia.org/wiki/Florida\">Florida</a><a> </a></td>\n",
      "colunm 2 cell <td>80 kg</td>\n"
     ]
    }
   ],
   "source": [
    "for i,row in enumerate(table_rows):\n",
    "    print(\"row\",i)\n",
    "    cells=row.find_all('td')\n",
    "    for j,cell in enumerate(cells):\n",
    "        print('colunm',j,\"cell\",cell)"
   ]
  },
  {
   "cell_type": "markdown",
   "metadata": {},
   "source": [
    "If we use a list we can match against any item in that list.\n"
   ]
  },
  {
   "cell_type": "code",
   "execution_count": 40,
   "metadata": {},
   "outputs": [
    {
     "data": {
      "text/plain": [
       "[<tr><td id=\"flight\">Flight No</td><td>Launch site</td> <td>Payload mass</td></tr>,\n",
       " <td id=\"flight\">Flight No</td>,\n",
       " <td>Launch site</td>,\n",
       " <td>Payload mass</td>,\n",
       " <tr> <td>1</td><td><a href=\"https://en.wikipedia.org/wiki/Florida\">Florida</a><a></a></td><td>300 kg</td></tr>,\n",
       " <td>1</td>,\n",
       " <td><a href=\"https://en.wikipedia.org/wiki/Florida\">Florida</a><a></a></td>,\n",
       " <td>300 kg</td>,\n",
       " <tr><td>2</td><td><a href=\"https://en.wikipedia.org/wiki/Texas\">Texas</a></td><td>94 kg</td></tr>,\n",
       " <td>2</td>,\n",
       " <td><a href=\"https://en.wikipedia.org/wiki/Texas\">Texas</a></td>,\n",
       " <td>94 kg</td>,\n",
       " <tr><td>3</td><td><a href=\"https://en.wikipedia.org/wiki/Florida\">Florida</a><a> </a></td><td>80 kg</td></tr>,\n",
       " <td>3</td>,\n",
       " <td><a href=\"https://en.wikipedia.org/wiki/Florida\">Florida</a><a> </a></td>,\n",
       " <td>80 kg</td>]"
      ]
     },
     "execution_count": 40,
     "metadata": {},
     "output_type": "execute_result"
    }
   ],
   "source": [
    "list_input=table_bs .find_all(name=[\"tr\", \"td\"])\n",
    "list_input"
   ]
  },
  {
   "cell_type": "markdown",
   "metadata": {},
   "source": [
    "## Attributes\n"
   ]
  },
  {
   "cell_type": "markdown",
   "metadata": {},
   "source": [
    "If the argument is not recognized it will be turned into a filter on the tag’s attributes. For example the <code>id</code>  argument, Beautiful Soup will filter against each tag’s <code>id</code> attribute. For example, the first <code>td</code> elements have a value of <code>id</code> of <code>flight</code>, therefore we can filter based on that <code>id</code> value.\n"
   ]
  },
  {
   "cell_type": "code",
   "execution_count": 41,
   "metadata": {},
   "outputs": [
    {
     "data": {
      "text/plain": [
       "[<td id=\"flight\">Flight No</td>]"
      ]
     },
     "execution_count": 41,
     "metadata": {},
     "output_type": "execute_result"
    }
   ],
   "source": [
    "table_bs.find_all(id=\"flight\")"
   ]
  },
  {
   "cell_type": "markdown",
   "metadata": {},
   "source": [
    "We can find all the elements that have links to the Florida Wikipedia page:\n"
   ]
  },
  {
   "cell_type": "code",
   "execution_count": 42,
   "metadata": {},
   "outputs": [
    {
     "data": {
      "text/plain": [
       "[<a href=\"https://en.wikipedia.org/wiki/Florida\">Florida</a>,\n",
       " <a href=\"https://en.wikipedia.org/wiki/Florida\">Florida</a>]"
      ]
     },
     "execution_count": 42,
     "metadata": {},
     "output_type": "execute_result"
    }
   ],
   "source": [
    "list_input=table_bs.find_all(href=\"https://en.wikipedia.org/wiki/Florida\")\n",
    "list_input"
   ]
  },
  {
   "cell_type": "markdown",
   "metadata": {},
   "source": [
    "If we set the  <code>href</code> attribute to True, regardless of what the value is, the code finds all tags with <code>href</code> value:\n"
   ]
  },
  {
   "cell_type": "code",
   "execution_count": 43,
   "metadata": {},
   "outputs": [
    {
     "data": {
      "text/plain": [
       "[<a href=\"https://en.wikipedia.org/wiki/Florida\">Florida</a>,\n",
       " <a href=\"https://en.wikipedia.org/wiki/Texas\">Texas</a>,\n",
       " <a href=\"https://en.wikipedia.org/wiki/Florida\">Florida</a>]"
      ]
     },
     "execution_count": 43,
     "metadata": {},
     "output_type": "execute_result"
    }
   ],
   "source": [
    "table_bs.find_all(href=True)"
   ]
  },
  {
   "cell_type": "markdown",
   "metadata": {},
   "source": [
    "There are other methods for dealing with attributes and other related methods; Check out the following <a href='https://www.crummy.com/software/BeautifulSoup/bs4/doc/?utm_medium=Exinfluencer&utm_source=Exinfluencer&utm_content=000026UJ&utm_term=10006555&utm_id=NA-SkillsNetwork-Channel-SkillsNetworkCoursesIBMDeveloperSkillsNetworkPY0220ENSkillsNetwork23455606-2021-01-01#css-selectors'>link</a>\n"
   ]
  },
  {
   "cell_type": "markdown",
   "metadata": {},
   "source": [
    "<h3 id=\"exer_type\">Exercise: <code>find_all</code></h3>\n"
   ]
  },
  {
   "cell_type": "markdown",
   "metadata": {},
   "source": [
    "Using the logic above, find all the elements without <code>href</code> value\n"
   ]
  },
  {
   "cell_type": "code",
   "execution_count": 44,
   "metadata": {},
   "outputs": [
    {
     "data": {
      "text/plain": [
       "[<html><head></head><body><table><tbody><tr><td id=\"flight\">Flight No</td><td>Launch site</td> <td>Payload mass</td></tr><tr> <td>1</td><td><a href=\"https://en.wikipedia.org/wiki/Florida\">Florida</a><a></a></td><td>300 kg</td></tr><tr><td>2</td><td><a href=\"https://en.wikipedia.org/wiki/Texas\">Texas</a></td><td>94 kg</td></tr><tr><td>3</td><td><a href=\"https://en.wikipedia.org/wiki/Florida\">Florida</a><a> </a></td><td>80 kg</td></tr></tbody></table></body></html>,\n",
       " <head></head>,\n",
       " <body><table><tbody><tr><td id=\"flight\">Flight No</td><td>Launch site</td> <td>Payload mass</td></tr><tr> <td>1</td><td><a href=\"https://en.wikipedia.org/wiki/Florida\">Florida</a><a></a></td><td>300 kg</td></tr><tr><td>2</td><td><a href=\"https://en.wikipedia.org/wiki/Texas\">Texas</a></td><td>94 kg</td></tr><tr><td>3</td><td><a href=\"https://en.wikipedia.org/wiki/Florida\">Florida</a><a> </a></td><td>80 kg</td></tr></tbody></table></body>,\n",
       " <table><tbody><tr><td id=\"flight\">Flight No</td><td>Launch site</td> <td>Payload mass</td></tr><tr> <td>1</td><td><a href=\"https://en.wikipedia.org/wiki/Florida\">Florida</a><a></a></td><td>300 kg</td></tr><tr><td>2</td><td><a href=\"https://en.wikipedia.org/wiki/Texas\">Texas</a></td><td>94 kg</td></tr><tr><td>3</td><td><a href=\"https://en.wikipedia.org/wiki/Florida\">Florida</a><a> </a></td><td>80 kg</td></tr></tbody></table>,\n",
       " <tbody><tr><td id=\"flight\">Flight No</td><td>Launch site</td> <td>Payload mass</td></tr><tr> <td>1</td><td><a href=\"https://en.wikipedia.org/wiki/Florida\">Florida</a><a></a></td><td>300 kg</td></tr><tr><td>2</td><td><a href=\"https://en.wikipedia.org/wiki/Texas\">Texas</a></td><td>94 kg</td></tr><tr><td>3</td><td><a href=\"https://en.wikipedia.org/wiki/Florida\">Florida</a><a> </a></td><td>80 kg</td></tr></tbody>,\n",
       " <tr><td id=\"flight\">Flight No</td><td>Launch site</td> <td>Payload mass</td></tr>,\n",
       " <td id=\"flight\">Flight No</td>,\n",
       " <td>Launch site</td>,\n",
       " <td>Payload mass</td>,\n",
       " <tr> <td>1</td><td><a href=\"https://en.wikipedia.org/wiki/Florida\">Florida</a><a></a></td><td>300 kg</td></tr>,\n",
       " <td>1</td>,\n",
       " <td><a href=\"https://en.wikipedia.org/wiki/Florida\">Florida</a><a></a></td>,\n",
       " <a></a>,\n",
       " <td>300 kg</td>,\n",
       " <tr><td>2</td><td><a href=\"https://en.wikipedia.org/wiki/Texas\">Texas</a></td><td>94 kg</td></tr>,\n",
       " <td>2</td>,\n",
       " <td><a href=\"https://en.wikipedia.org/wiki/Texas\">Texas</a></td>,\n",
       " <td>94 kg</td>,\n",
       " <tr><td>3</td><td><a href=\"https://en.wikipedia.org/wiki/Florida\">Florida</a><a> </a></td><td>80 kg</td></tr>,\n",
       " <td>3</td>,\n",
       " <td><a href=\"https://en.wikipedia.org/wiki/Florida\">Florida</a><a> </a></td>,\n",
       " <a> </a>,\n",
       " <td>80 kg</td>]"
      ]
     },
     "execution_count": 44,
     "metadata": {},
     "output_type": "execute_result"
    }
   ],
   "source": [
    "table_bs.find_all(href=False)"
   ]
  },
  {
   "cell_type": "markdown",
   "metadata": {},
   "source": [
    "<details><summary>Click here for the solution</summary>\n",
    "\n",
    "```\n",
    "table_bs.find_all(href=False)\n",
    "\n",
    "```\n",
    "\n",
    "</details>\n"
   ]
  },
  {
   "cell_type": "markdown",
   "metadata": {},
   "source": [
    "Using the soup object <code>soup</code>, find the element with the <code>id</code> attribute content set to <code>\"boldest\"</code>.\n"
   ]
  },
  {
   "cell_type": "code",
   "execution_count": 45,
   "metadata": {},
   "outputs": [
    {
     "data": {
      "text/plain": [
       "[<b id=\"boldest\">Lebron James</b>]"
      ]
     },
     "execution_count": 45,
     "metadata": {},
     "output_type": "execute_result"
    }
   ],
   "source": [
    "soup.find_all(id='boldest')"
   ]
  },
  {
   "cell_type": "markdown",
   "metadata": {},
   "source": [
    "<details><summary>Click here for the solution</summary>\n",
    "\n",
    "```\n",
    "soup.find_all(id=\"boldest\")\n",
    "\n",
    "```\n",
    "\n",
    "</details>\n"
   ]
  },
  {
   "cell_type": "markdown",
   "metadata": {},
   "source": [
    "### string\n"
   ]
  },
  {
   "cell_type": "markdown",
   "metadata": {},
   "source": [
    "With string you can search for strings instead of tags, where we find all the elments with Florida:\n"
   ]
  },
  {
   "cell_type": "code",
   "execution_count": 48,
   "metadata": {},
   "outputs": [
    {
     "data": {
      "text/plain": [
       "['Florida', 'Florida']"
      ]
     },
     "execution_count": 48,
     "metadata": {},
     "output_type": "execute_result"
    }
   ],
   "source": [
    "table_bs.find_all(string=\"Florida\")"
   ]
  },
  {
   "cell_type": "markdown",
   "metadata": {},
   "source": [
    "## find\n"
   ]
  },
  {
   "cell_type": "markdown",
   "metadata": {},
   "source": [
    "The <code>find_all()</code> method scans the entire document looking for results, it’s if you are looking for one element you can use the <code>find()</code> method to find the first element in the document. Consider the following two table:\n"
   ]
  },
  {
   "cell_type": "code",
   "execution_count": 51,
   "metadata": {},
   "outputs": [
    {
     "data": {
      "text/html": [
       "<h3>Rocket Launch </h3>\n",
       "\n",
       "<p>\n",
       "<table class='rocket'>\n",
       "  <tr>\n",
       "    <td>Flight No</td>\n",
       "    <td>Launch site</td> \n",
       "    <td>Payload mass</td>\n",
       "  </tr>\n",
       "  <tr>\n",
       "    <td>1</td>\n",
       "    <td>Florida</td>\n",
       "    <td>300 kg</td>\n",
       "  </tr>\n",
       "  <tr>\n",
       "    <td>2</td>\n",
       "    <td>Texas</td>\n",
       "    <td>94 kg</td>\n",
       "  </tr>\n",
       "  <tr>\n",
       "    <td>3</td>\n",
       "    <td>Florida </td>\n",
       "    <td>80 kg</td>\n",
       "  </tr>\n",
       "</table>\n",
       "</p>\n",
       "<p>\n",
       "\n",
       "<h2>Pizza Party  </h2>\n",
       "  \n",
       "    \n",
       "<table class='pizza'>\n",
       "  <tr>\n",
       "    <td>Pizza Place</td>\n",
       "    <td>Orders</td> \n",
       "    <td>Slices </td>\n",
       "   </tr>\n",
       "  <tr>\n",
       "    <td>Domino's Pizza</td>\n",
       "    <td>10</td>\n",
       "    <td>100</td>\n",
       "  </tr>\n",
       "  <tr>\n",
       "    <td>Little Caesars</td>\n",
       "    <td>12</td>\n",
       "    <td >144 </td>\n",
       "  </tr>\n",
       "  <tr>\n",
       "    <td>Papa John's </td>\n",
       "    <td>15 </td>\n",
       "    <td>165</td>\n",
       "  </tr>\n"
      ],
      "text/plain": [
       "<IPython.core.display.HTML object>"
      ]
     },
     "metadata": {},
     "output_type": "display_data"
    }
   ],
   "source": [
    "%%html\n",
    "<h3>Rocket Launch </h3>\n",
    "\n",
    "<p>\n",
    "<table class='rocket'>\n",
    "  <tr>\n",
    "    <td>Flight No</td>\n",
    "    <td>Launch site</td> \n",
    "    <td>Payload mass</td>\n",
    "  </tr>\n",
    "  <tr>\n",
    "    <td>1</td>\n",
    "    <td>Florida</td>\n",
    "    <td>300 kg</td>\n",
    "  </tr>\n",
    "  <tr>\n",
    "    <td>2</td>\n",
    "    <td>Texas</td>\n",
    "    <td>94 kg</td>\n",
    "  </tr>\n",
    "  <tr>\n",
    "    <td>3</td>\n",
    "    <td>Florida </td>\n",
    "    <td>80 kg</td>\n",
    "  </tr>\n",
    "</table>\n",
    "</p>\n",
    "<p>\n",
    "\n",
    "<h2>Pizza Party  </h2>\n",
    "  \n",
    "    \n",
    "<table class='pizza'>\n",
    "  <tr>\n",
    "    <td>Pizza Place</td>\n",
    "    <td>Orders</td> \n",
    "    <td>Slices </td>\n",
    "   </tr>\n",
    "  <tr>\n",
    "    <td>Domino's Pizza</td>\n",
    "    <td>10</td>\n",
    "    <td>100</td>\n",
    "  </tr>\n",
    "  <tr>\n",
    "    <td>Little Caesars</td>\n",
    "    <td>12</td>\n",
    "    <td >144 </td>\n",
    "  </tr>\n",
    "  <tr>\n",
    "    <td>Papa John's </td>\n",
    "    <td>15 </td>\n",
    "    <td>165</td>\n",
    "  </tr>\n"
   ]
  },
  {
   "cell_type": "markdown",
   "metadata": {},
   "source": [
    "We store the HTML as a Python string and assign <code>two_tables</code>:\n"
   ]
  },
  {
   "cell_type": "code",
   "execution_count": 52,
   "metadata": {},
   "outputs": [],
   "source": [
    "two_tables=\"<h3>Rocket Launch </h3><p><table class='rocket'><tr><td>Flight No</td><td>Launch site</td> <td>Payload mass</td></tr><tr><td>1</td><td>Florida</td><td>300 kg</td></tr><tr><td>2</td><td>Texas</td><td>94 kg</td></tr><tr><td>3</td><td>Florida </td><td>80 kg</td></tr></table></p><p><h3>Pizza Party  </h3><table class='pizza'><tr><td>Pizza Place</td><td>Orders</td> <td>Slices </td></tr><tr><td>Domino's Pizza</td><td>10</td><td>100</td></tr><tr><td>Little Caesars</td><td>12</td><td >144 </td></tr><tr><td>Papa John's </td><td>15 </td><td>165</td></tr>\""
   ]
  },
  {
   "cell_type": "markdown",
   "metadata": {},
   "source": [
    "We create a <code>BeautifulSoup</code> object  <code>two_tables_bs</code>\n"
   ]
  },
  {
   "cell_type": "code",
   "execution_count": 53,
   "metadata": {},
   "outputs": [],
   "source": [
    "two_tables_bs= BeautifulSoup(two_tables, 'html.parser')"
   ]
  },
  {
   "cell_type": "markdown",
   "metadata": {},
   "source": [
    "We can find the first table using the tag name table\n"
   ]
  },
  {
   "cell_type": "code",
   "execution_count": 54,
   "metadata": {},
   "outputs": [
    {
     "data": {
      "text/plain": [
       "<table class=\"rocket\"><tr><td>Flight No</td><td>Launch site</td> <td>Payload mass</td></tr><tr><td>1</td><td>Florida</td><td>300 kg</td></tr><tr><td>2</td><td>Texas</td><td>94 kg</td></tr><tr><td>3</td><td>Florida </td><td>80 kg</td></tr></table>"
      ]
     },
     "execution_count": 54,
     "metadata": {},
     "output_type": "execute_result"
    }
   ],
   "source": [
    "two_tables_bs.find(\"table\")"
   ]
  },
  {
   "cell_type": "markdown",
   "metadata": {},
   "source": [
    "We can filter on the class attribute to find the second table, but because class is a keyword in Python, we add an underscore.\n"
   ]
  },
  {
   "cell_type": "code",
   "execution_count": 55,
   "metadata": {},
   "outputs": [
    {
     "data": {
      "text/plain": [
       "<table class=\"pizza\"><tr><td>Pizza Place</td><td>Orders</td> <td>Slices </td></tr><tr><td>Domino's Pizza</td><td>10</td><td>100</td></tr><tr><td>Little Caesars</td><td>12</td><td>144 </td></tr><tr><td>Papa John's </td><td>15 </td><td>165</td></tr></table>"
      ]
     },
     "execution_count": 55,
     "metadata": {},
     "output_type": "execute_result"
    }
   ],
   "source": [
    "two_tables_bs.find(\"table\",class_='pizza')"
   ]
  },
  {
   "cell_type": "markdown",
   "metadata": {},
   "source": [
    "<h2 id=\"DSCW\">Downloading And Scraping The Contents Of A Web Page</h2> \n"
   ]
  },
  {
   "cell_type": "markdown",
   "metadata": {},
   "source": [
    "We Download the contents of the web page:\n"
   ]
  },
  {
   "cell_type": "code",
   "execution_count": 56,
   "metadata": {},
   "outputs": [],
   "source": [
    "url = \"http://www.ibm.com\""
   ]
  },
  {
   "cell_type": "markdown",
   "metadata": {},
   "source": [
    "We use <code>get</code> to download the contents of the webpage in text format and store in a variable called <code>data</code>:\n"
   ]
  },
  {
   "cell_type": "code",
   "execution_count": 57,
   "metadata": {},
   "outputs": [],
   "source": [
    "data  = requests.get(url).text "
   ]
  },
  {
   "cell_type": "markdown",
   "metadata": {},
   "source": [
    "We create a <code>BeautifulSoup</code> object using the <code>BeautifulSoup</code> constructor\n"
   ]
  },
  {
   "cell_type": "code",
   "execution_count": 59,
   "metadata": {},
   "outputs": [
    {
     "data": {
      "text/plain": [
       "<!DOCTYPE html>\n",
       "<html lang=\"en-US\"><head><meta content=\"width=device-width\" name=\"viewport\"/><meta charset=\"utf-8\"/><title>IBM - United States</title><link href=\"https://www.ibm.com/us-en/\" rel=\"canonical\"/><meta content=\"index,follow\" name=\"robots\"/><meta content=\"For more than a century IBM has been dedicated to every client's success and to creating innovations that matter for the world\" name=\"description\"/><meta content=\"IBM\" name=\"keywords\"/><meta content=\"IE=Edge\" http-equiv=\"X-UA-Compatible\"/><meta content=\"no-cache, no-store, must-revalidate\" http-equiv=\"Cache-Control\"/><meta content=\"no-cache\" http-equiv=\"Pragma\"/><meta content=\"0\" http-equiv=\"Expires\"/><link href=\"//www.ibm.com/favicon.ico\" rel=\"icon\"/><meta content=\"1.19.0\" name=\"ibmdotcom.version.react\"/><meta content=\"1.19.0\" name=\"ibmdotcom.version.styles\"/><meta content=\"2021-09-10T16:46:20.518Z\" name=\"ibmdotcom.build.time\"/><meta content=\"2015-10-01\" name=\"dcterms.date\"/><meta content=\"Â© Copyright IBM Corp. 2020\" name=\"dcterms.rights\"/><meta content=\"US\" name=\"geo.country\"/><script>digitalData={\"page\":{\"category\":{\"primaryCategory\":\"SB03\"},\"pageInfo\":{\"effectiveDate\":\"2015-10-01\",\"expiryDate\":\"2020-12-18\",\"language\":\"en-us\",\"publishDate\":\"2015-10-01\",\"publisher\":\"IBM Corporation\",\"version\":\"Carbon:IBM.com Library v1.19.0\",\"ibm\":{\"contentDelivery\":\"Hand coded\",\"contentProducer\":\"Lance Tappana\",\"country\":\"us\",\"industry\":\"ZZ\",\"owner\":\"Corporate Webmaster/New York/IBM\",\"siteID\":\"GLOBAL\",\"subject\":\"IBM000\",\"type\":\"CT052\",\"messaging\":{\"routing\":{\"focusArea\":\"Miscellaneous - Cross IBM\",\"languageCode\":\"en\",\"regionCode\":\"US\"},\"translation\":{\"languageCode\":\"en\",\"regionCode\":\"US\"}}},\"hotjar\":{\"enabled\":0}}}};</script><script>\n",
       "            window.hj=window.hj||function(){(hj.q=hj.q||[]).push(arguments)};\n",
       "            window.hj('tagRecording', ['hjLoaded']);\n",
       "            document.addEventListener('onMegaMenuToggle', e => {\n",
       "              if(e.target.getAttribute(\"data-title\") == 'products-solutions') {\n",
       "                window.hj('trigger', 'MM_products-solutions');\n",
       "              }\n",
       "              if(e.target.getAttribute(\"data-title\") == 'services-consulting') {\n",
       "                window.hj('trigger', 'MM_services-consulting');\n",
       "              }\n",
       "              if(e.target.getAttribute(\"data-title\") == 'learn-support') {\n",
       "                window.hj('trigger', 'MM_learn-support');\n",
       "              }\n",
       "              if(e.target.getAttribute(\"data-title\") == 'explore-more') {\n",
       "                window.hj('trigger', 'MM_explore-more');\n",
       "              }\n",
       "            });\n",
       "\n",
       "            </script><link href=\"https://www.ibm.com/us-en/\" hreflang=\"en-us\" rel=\"alternate\"/><link href=\"https://www.ibm.com\" hreflang=\"x-default\" rel=\"alternate\"/><link href=\"https://www.ibm.com/af-en\" hreflang=\"en-af\" rel=\"alternate\"/><link href=\"https://www.ibm.com/dz-fr\" hreflang=\"fr-dz\" rel=\"alternate\"/><link href=\"https://www.ibm.com/ao-pt\" hreflang=\"pt-ao\" rel=\"alternate\"/><link href=\"https://www.ibm.com/ai-en\" hreflang=\"en-ai\" rel=\"alternate\"/><link href=\"https://www.ibm.com/ag-en\" hreflang=\"en-ag\" rel=\"alternate\"/><link href=\"https://www.ibm.com/ar-es\" hreflang=\"es-ar\" rel=\"alternate\"/><link href=\"https://www.ibm.com/aw-en\" hreflang=\"en-aw\" rel=\"alternate\"/><link href=\"https://www.ibm.com/au-en\" hreflang=\"en-au\" rel=\"alternate\"/><link href=\"https://www.ibm.com/at-de\" hreflang=\"de-at\" rel=\"alternate\"/><link href=\"https://www.ibm.com/bs-en\" hreflang=\"en-bs\" rel=\"alternate\"/><link href=\"https://www.ibm.com/bh-en\" hreflang=\"en-bh\" rel=\"alternate\"/><link href=\"https://www.ibm.com/bd-en\" hreflang=\"en-bd\" rel=\"alternate\"/><link href=\"https://www.ibm.com/bb-en\" hreflang=\"en-bb\" rel=\"alternate\"/><link href=\"https://www.ibm.com/be-en\" hreflang=\"en-be\" rel=\"alternate\"/><link href=\"https://www.ibm.com/bm-en\" hreflang=\"en-bm\" rel=\"alternate\"/><link href=\"https://www.ibm.com/bo-es\" hreflang=\"es-bo\" rel=\"alternate\"/><link href=\"https://www.ibm.com/bw-en\" hreflang=\"en-bw\" rel=\"alternate\"/><link href=\"https://www.ibm.com/br-pt\" hreflang=\"pt-br\" rel=\"alternate\"/><link href=\"https://www.ibm.com/vg-en\" hreflang=\"en-vg\" rel=\"alternate\"/><link href=\"https://www.ibm.com/bn-en\" hreflang=\"en-bn\" rel=\"alternate\"/><link href=\"https://www.ibm.com/bg-en\" hreflang=\"en-bg\" rel=\"alternate\"/><link href=\"https://www.ibm.com/bf-fr\" hreflang=\"fr-bf\" rel=\"alternate\"/><link href=\"https://www.ibm.com/kh-en\" hreflang=\"en-kh\" rel=\"alternate\"/><link href=\"https://www.ibm.com/cm-fr\" hreflang=\"fr-cm\" rel=\"alternate\"/><link href=\"https://www.ibm.com/ca-en\" hreflang=\"en-ca\" rel=\"alternate\"/><link href=\"https://www.ibm.com/ca-fr\" hreflang=\"fr-ca\" rel=\"alternate\"/><link href=\"https://www.ibm.com/ky-en\" hreflang=\"en-ky\" rel=\"alternate\"/><link href=\"https://www.ibm.com/td-fr\" hreflang=\"fr-td\" rel=\"alternate\"/><link href=\"https://www.ibm.com/cl-es\" hreflang=\"es-cl\" rel=\"alternate\"/><link href=\"https://www.ibm.com/cn-zh\" hreflang=\"zh-cn\" rel=\"alternate\"/><link href=\"https://www.ibm.com/co-es\" hreflang=\"es-co\" rel=\"alternate\"/><link href=\"https://www.ibm.com/cd-fr\" hreflang=\"fr-cd\" rel=\"alternate\"/><link href=\"https://www.ibm.com/cg-fr\" hreflang=\"fr-cg\" rel=\"alternate\"/><link href=\"https://www.ibm.com/cr-es\" hreflang=\"es-cr\" rel=\"alternate\"/><link href=\"https://www.ibm.com/hr-en\" hreflang=\"en-hr\" rel=\"alternate\"/><link href=\"https://www.ibm.com/cw-en\" hreflang=\"en-cw\" rel=\"alternate\"/><link href=\"https://www.ibm.com/cy-en\" hreflang=\"en-cy\" rel=\"alternate\"/><link href=\"https://www.ibm.com/cz-en\" hreflang=\"en-cz\" rel=\"alternate\"/><link href=\"https://www.ibm.com/dm-en\" hreflang=\"en-dm\" rel=\"alternate\"/><link href=\"https://www.ibm.com/dk-en\" hreflang=\"en-dk\" rel=\"alternate\"/><link href=\"https://www.ibm.com/ec-es\" hreflang=\"es-ec\" rel=\"alternate\"/><link href=\"https://www.ibm.com/eg-en\" hreflang=\"en-eg\" rel=\"alternate\"/><link href=\"https://www.ibm.com/ee-en\" hreflang=\"en-ee\" rel=\"alternate\"/><link href=\"https://www.ibm.com/et-en\" hreflang=\"en-et\" rel=\"alternate\"/><link href=\"https://www.ibm.com/fi-en\" hreflang=\"en-fi\" rel=\"alternate\"/><link href=\"https://www.ibm.com/fr-fr\" hreflang=\"fr-fr\" rel=\"alternate\"/><link href=\"https://www.ibm.com/ga-fr\" hreflang=\"fr-ga\" rel=\"alternate\"/><link href=\"https://www.ibm.com/de-de\" hreflang=\"de-de\" rel=\"alternate\"/><link href=\"https://www.ibm.com/gh-en\" hreflang=\"en-gh\" rel=\"alternate\"/><link href=\"https://www.ibm.com/gr-en\" hreflang=\"en-gr\" rel=\"alternate\"/><link href=\"https://www.ibm.com/gd-en\" hreflang=\"en-gd\" rel=\"alternate\"/><link href=\"https://www.ibm.com/gy-en\" hreflang=\"en-gy\" rel=\"alternate\"/><link href=\"https://www.ibm.com/hk-en\" hreflang=\"en-hk\" rel=\"alternate\"/><link href=\"https://www.ibm.com/hu-en\" hreflang=\"en-hu\" rel=\"alternate\"/><link href=\"https://www.ibm.com/in-en\" hreflang=\"en-in\" rel=\"alternate\"/><link href=\"https://www.ibm.com/id-en\" hreflang=\"en-id\" rel=\"alternate\"/><link href=\"https://www.ibm.com/iq-en\" hreflang=\"en-iq\" rel=\"alternate\"/><link href=\"https://www.ibm.com/ie-en\" hreflang=\"en-ie\" rel=\"alternate\"/><link href=\"https://www.ibm.com/il-en\" hreflang=\"en-il\" rel=\"alternate\"/><link href=\"https://www.ibm.com/it-it\" hreflang=\"it-it\" rel=\"alternate\"/><link href=\"https://www.ibm.com/ci-fr\" hreflang=\"fr-ci\" rel=\"alternate\"/><link href=\"https://www.ibm.com/jm-en\" hreflang=\"en-jm\" rel=\"alternate\"/><link href=\"https://www.ibm.com/jp-ja\" hreflang=\"ja-jp\" rel=\"alternate\"/><link href=\"https://www.ibm.com/jo-en\" hreflang=\"en-jo\" rel=\"alternate\"/><link href=\"https://www.ibm.com/kz-en\" hreflang=\"en-kz\" rel=\"alternate\"/><link href=\"https://www.ibm.com/ke-en\" hreflang=\"en-ke\" rel=\"alternate\"/><link href=\"https://www.ibm.com/kr-ko\" hreflang=\"ko-kr\" rel=\"alternate\"/><link href=\"https://www.ibm.com/kw-en\" hreflang=\"en-kw\" rel=\"alternate\"/><link href=\"https://www.ibm.com/lv-en\" hreflang=\"en-lv\" rel=\"alternate\"/><link href=\"https://www.ibm.com/lb-en\" hreflang=\"en-lb\" rel=\"alternate\"/><link href=\"https://www.ibm.com/ly-en\" hreflang=\"en-ly\" rel=\"alternate\"/><link href=\"https://www.ibm.com/lt-en\" hreflang=\"en-lt\" rel=\"alternate\"/><link href=\"https://www.ibm.com/mw-en\" hreflang=\"en-mw\" rel=\"alternate\"/><link href=\"https://www.ibm.com/my-en\" hreflang=\"en-my\" rel=\"alternate\"/><link href=\"https://www.ibm.com/mu-fr\" hreflang=\"fr-mu\" rel=\"alternate\"/><link href=\"https://www.ibm.com/mx-es\" hreflang=\"es-mx\" rel=\"alternate\"/><link href=\"https://www.ibm.com/ms-en\" hreflang=\"en-ms\" rel=\"alternate\"/><link href=\"https://www.ibm.com/ma-fr\" hreflang=\"fr-ma\" rel=\"alternate\"/><link href=\"https://www.ibm.com/mz-pt\" hreflang=\"pt-mz\" rel=\"alternate\"/><link href=\"https://www.ibm.com/na-en\" hreflang=\"en-na\" rel=\"alternate\"/><link href=\"https://www.ibm.com/np-en\" hreflang=\"en-np\" rel=\"alternate\"/><link href=\"https://www.ibm.com/nl-en\" hreflang=\"en-nl\" rel=\"alternate\"/><link href=\"https://www.ibm.com/nz-en\" hreflang=\"en-nz\" rel=\"alternate\"/><link href=\"https://www.ibm.com/ne-fr\" hreflang=\"fr-ne\" rel=\"alternate\"/><link href=\"https://www.ibm.com/ng-en\" hreflang=\"en-ng\" rel=\"alternate\"/><link href=\"https://www.ibm.com/no-en\" hreflang=\"en-no\" rel=\"alternate\"/><link href=\"https://www.ibm.com/om-en\" hreflang=\"en-om\" rel=\"alternate\"/><link href=\"https://www.ibm.com/pk-en\" hreflang=\"en-pk\" rel=\"alternate\"/><link href=\"https://www.ibm.com/py-es\" hreflang=\"es-py\" rel=\"alternate\"/><link href=\"https://www.ibm.com/pe-es\" hreflang=\"es-pe\" rel=\"alternate\"/><link href=\"https://www.ibm.com/ph-en\" hreflang=\"en-ph\" rel=\"alternate\"/><link href=\"https://www.ibm.com/pl-pl\" hreflang=\"pl-pl\" rel=\"alternate\"/><link href=\"https://www.ibm.com/pt-en\" hreflang=\"en-pt\" rel=\"alternate\"/><link href=\"https://www.ibm.com/qa-en\" hreflang=\"en-qa\" rel=\"alternate\"/><link href=\"https://www.ibm.com/ro-en\" hreflang=\"en-ro\" rel=\"alternate\"/><link href=\"https://www.ibm.com/ru-ru\" hreflang=\"ru-ru\" rel=\"alternate\"/><link href=\"https://www.ibm.com/kn-en\" hreflang=\"en-kn\" rel=\"alternate\"/><link href=\"https://www.ibm.com/lc-en\" hreflang=\"en-lc\" rel=\"alternate\"/><link href=\"https://www.ibm.com/vc-en\" hreflang=\"en-vc\" rel=\"alternate\"/><link href=\"https://www.ibm.com/sa-en\" hreflang=\"en-sa\" rel=\"alternate\"/><link href=\"https://www.ibm.com/sn-fr\" hreflang=\"fr-sn\" rel=\"alternate\"/><link href=\"https://www.ibm.com/rs-en\" hreflang=\"en-rs\" rel=\"alternate\"/><link href=\"https://www.ibm.com/sc-fr\" hreflang=\"fr-sc\" rel=\"alternate\"/><link href=\"https://www.ibm.com/sl-en\" hreflang=\"en-sl\" rel=\"alternate\"/><link href=\"https://www.ibm.com/sg-en\" hreflang=\"en-sg\" rel=\"alternate\"/><link href=\"https://www.ibm.com/sk-en\" hreflang=\"en-sk\" rel=\"alternate\"/><link href=\"https://www.ibm.com/si-en\" hreflang=\"en-si\" rel=\"alternate\"/><link href=\"https://www.ibm.com/za-en\" hreflang=\"en-za\" rel=\"alternate\"/><link href=\"https://www.ibm.com/es-es\" hreflang=\"es-es\" rel=\"alternate\"/><link href=\"https://www.ibm.com/lk-en\" hreflang=\"en-lk\" rel=\"alternate\"/><link href=\"https://www.ibm.com/sr-en\" hreflang=\"en-sr\" rel=\"alternate\"/><link href=\"https://www.ibm.com/se-en\" hreflang=\"en-se\" rel=\"alternate\"/><link href=\"https://www.ibm.com/ch-fr\" hreflang=\"fr-ch\" rel=\"alternate\"/><link href=\"https://www.ibm.com/ch-de\" hreflang=\"de-ch\" rel=\"alternate\"/><link href=\"https://www.ibm.com/tw-zh\" hreflang=\"zh-tw\" rel=\"alternate\"/><link href=\"https://www.ibm.com/tz-en\" hreflang=\"en-tz\" rel=\"alternate\"/><link href=\"https://www.ibm.com/th-en\" hreflang=\"en-th\" rel=\"alternate\"/><link href=\"https://www.ibm.com/tt-en\" hreflang=\"en-tt\" rel=\"alternate\"/><link href=\"https://www.ibm.com/tn-fr\" hreflang=\"fr-tn\" rel=\"alternate\"/><link href=\"https://www.ibm.com/tr-tr\" hreflang=\"tr-tr\" rel=\"alternate\"/><link href=\"https://www.ibm.com/ye-en\" hreflang=\"en-ye\" rel=\"alternate\"/><link href=\"https://www.ibm.com/tc-en\" hreflang=\"en-tc\" rel=\"alternate\"/><link href=\"https://www.ibm.com/ua-en\" hreflang=\"en-ua\" rel=\"alternate\"/><link href=\"https://www.ibm.com/ug-en\" hreflang=\"en-ug\" rel=\"alternate\"/><link href=\"https://www.ibm.com/ae-en\" hreflang=\"en-ae\" rel=\"alternate\"/><link href=\"https://www.ibm.com/uk-en\" hreflang=\"en-gb\" rel=\"alternate\"/><link href=\"https://www.ibm.com/uy-es\" hreflang=\"es-uy\" rel=\"alternate\"/><link href=\"https://www.ibm.com/uz-en\" hreflang=\"en-uz\" rel=\"alternate\"/><link href=\"https://www.ibm.com/ve-es\" hreflang=\"es-ve\" rel=\"alternate\"/><link href=\"https://www.ibm.com/vn-en\" hreflang=\"en-vn\" rel=\"alternate\"/><link href=\"https://www.ibm.com/zm-en\" hreflang=\"en-zm\" rel=\"alternate\"/><link href=\"https://www.ibm.com/zw-en\" hreflang=\"en-zw\" rel=\"alternate\"/><link as=\"image\" href=\"https://1.dam.s81c.com/public/content/dam/worldwide-content/homepage/ul/g/ce/a9/20210517-ls-cloud-paks-25904-720x360.jpg\" rel=\"preload\"/><link as=\"image\" href=\"https://1.dam.s81c.com/public/content/dam/worldwide-content/homepage/ul/g/5b/de/2020913-cloud-pak-power10-b-26119-444x320.jpg\" rel=\"preload\"/><link as=\"image\" href=\"https://1.dam.s81c.com/public/content/dam/worldwide-content/homepage/ul/g/74/53/20210830-sekou-remy-innovation-explanations-444x320.jpg\" rel=\"preload\"/><link as=\"image\" href=\"https://1.dam.s81c.com/public/content/dam/worldwide-content/homepage/ul/g/8e/34/2020913-it-modernization-ebook-26079444x320.jpg\" rel=\"preload\"/><link as=\"image\" href=\"https://1.dam.s81c.com/public/content/dam/worldwide-content/homepage/ul/g/3f/97/2020913-ai-vs-neonatal-sepsis-26072-444x320.jpg\" rel=\"preload\"/><meta content=\"159\" name=\"next-head-count\"/><link as=\"style\" href=\"/us-en/_next/static/css/styles.c9451680.chunk.css\" rel=\"preload\"/><link data-n-g=\"\" href=\"/us-en/_next/static/css/styles.c9451680.chunk.css\" rel=\"stylesheet\"/><noscript data-n-css=\"\"></noscript><link as=\"script\" href=\"/us-en/_next/static/chunks/commons.adb99aeee4c41d00e60e.js\" rel=\"preload\"/><link as=\"script\" href=\"/us-en/_next/static/chunks/12.702e733b0c0d59f22b4c.js\" rel=\"preload\"/><link as=\"script\" href=\"/us-en/_next/static/chunks/17.9788ba91d4e361f18729.js\" rel=\"preload\"/><link as=\"script\" href=\"/us-en/_next/static/chunks/14.8c5ef361f85a57d0dac6.js\" rel=\"preload\"/><link as=\"script\" href=\"/us-en/_next/static/chunks/c8f7fe3b0e41be846d5687592cf2018ff6e22687.c69ae5862af97b0d669b.js\" rel=\"preload\"/><link as=\"script\" href=\"/us-en/_next/static/chunks/16.f63486d2fe38b94f980a.js\" rel=\"preload\"/><link as=\"script\" href=\"/us-en/_next/static/chunks/13.d5fc8f965189e4e3aece.js\" rel=\"preload\"/><link as=\"script\" href=\"/us-en/_next/static/chunks/webpack-6c23e3718676ca1a1d36.js\" rel=\"preload\"/><link as=\"script\" href=\"/us-en/_next/static/chunks/framework.9acfb6d543179d07991b.js\" rel=\"preload\"/><link as=\"script\" href=\"/us-en/_next/static/chunks/commons.adb99aeee4c41d00e60e.js\" rel=\"preload\"/><link as=\"script\" href=\"/us-en/_next/static/chunks/f6078781a05fe1bcb0902d23dbbb2662c8d200b3.52adfedbeb346ab0ce2b.js\" rel=\"preload\"/><link as=\"script\" href=\"/us-en/_next/static/chunks/main-aa24c2b3a7779ac78cf1.js\" rel=\"preload\"/><link as=\"script\" href=\"/us-en/_next/static/chunks/styles.7b27c848b04a5792aacf.js\" rel=\"preload\"/><link as=\"script\" href=\"/us-en/_next/static/chunks/pages/_app-72dadb3994e2ca6fac70.js\" rel=\"preload\"/><link as=\"script\" href=\"/us-en/_next/static/chunks/pages/index-54ad10d188496946ab02.js\" rel=\"preload\"/></head><body><div id=\"__next\"><div><div class=\"bx--masthead\"><div class=\"bx--masthead__l0\"><header aria-label=\"IBM\" class=\"bx--header\" data-autoid=\"dds--masthead\"><a class=\"bx--skip-to-content\" href=\"#main-content\" tabindex=\"0\">Skip to main content</a><button aria-label=\"Open menu\" class=\"bx--header__action bx--header__menu-trigger bx--header__menu-toggle bx--header__menu-toggle__hidden\" data-autoid=\"dds--masthead-default-sidenav__l0-menu\" title=\"Open menu\" type=\"button\"><svg aria-hidden=\"true\" fill=\"currentColor\" focusable=\"false\" height=\"20\" preserveAspectRatio=\"xMidYMid meet\" viewBox=\"0 0 20 20\" width=\"20\" xmlns=\"http://www.w3.org/2000/svg\"><path d=\"M2 14.8H18V16H2zM2 11.2H18V12.399999999999999H2zM2 7.6H18V8.799999999999999H2zM2 4H18V5.2H2z\"></path></svg></button><div class=\"bx--side-nav__overlay\"></div><nav aria-hidden=\"true\" aria-label=\"Side navigation\" class=\"bx--side-nav__navigation bx--side-nav bx--side-nav--ux bx--side-nav--hidden\"><nav data-autoid=\"dds--masthead-default-sidenav__l0\"><ul class=\"bx--side-nav__items\"><div class=\"bx--side-nav__header-navigation\"><div><div aria-hidden=\"false\" class=\"bx--side-nav__menu-section bx--side-nav__menu-section--expanded\" id=\"panel__(-1,-1)\"><button aria-hidden=\"true\" class=\"bx--masthead__focus\"></button></div></div></div></ul></nav></nav><div class=\"bx--header__logo\"><a aria-label=\"IBMÂ®\" data-autoid=\"dds--masthead-default__l0-logo\" href=\"http://www.ibm.com\"><svg height=\"23\" viewBox=\"0 0 58 23\" width=\"58\" xmlns=\"http://www.w3.org/2000/svg\"><path d=\"M58 21.467V23h-7.632v-1.533H58zm-18.316 0V23h-7.631v-1.533h7.631zm5.955 0L45.025 23l-.606-1.533h1.22zm-17.097 0A6.285 6.285 0 0 1 24.391 23H12.21v-1.533zm-17.858 0V23H0v-1.533h10.684zm29-3.067v1.533h-7.631V18.4h7.631zm7.148 0l-.594 1.533H43.82l-.598-1.533h3.609zm-16.764 0a5.719 5.719 0 0 1-.64 1.533H12.21V18.4zm-19.384 0v1.533H0V18.4h10.684zM58 18.4v1.533h-7.632V18.4H58zm-3.053-3.067v1.534h-4.579v-1.534h4.58zm-15.263 0v1.534h-4.579v-1.534h4.58zm8.345 0l-.6 1.534h-4.806l-.604-1.534h6.01zm-18.174 0c.137.49.213 1.003.213 1.534h-5.647v-1.534zm-10.013 0v1.534h-4.579v-1.534h4.58zm-12.21 0v1.534h-4.58v-1.534h4.58zm47.315-3.066V13.8h-4.579v-1.533h4.58zm-15.263 0V13.8h-4.579v-1.533h4.58zm9.541 0l-.597 1.533h-7.22l-.591-1.533h8.408zm-21.248 0c.527.432.98.951 1.328 1.533H15.263v-1.533zm-20.345 0V13.8h-4.58v-1.533h4.58zM44.599 9.2l.427 1.24.428-1.24h9.493v1.533h-4.579V9.324l-.519 1.41h-9.661l-.504-1.41v1.41h-4.579V9.2H44.6zm-36.967 0v1.533h-4.58V9.2h4.58zm21.673 0a5.95 5.95 0 0 1-1.328 1.533H15.263V9.2zm25.642-3.067v1.534h-8.964l.54-1.534h8.424zm-11.413 0l.54 1.534h-8.969V6.133h8.43zm-13.466 0c0 .531-.076 1.045-.213 1.534H24.42V6.133zm-10.226 0v1.534h-4.579V6.133h4.58zm-12.21 0v1.534h-4.58V6.133h4.58zm34.845-3.066l.53 1.533H32.054V3.067h10.424zm15.523 0V4.6H47.04l.55-1.533H58zm-28.573 0c.284.473.504.988.641 1.533H12.211V3.067zm-18.743 0V4.6H0V3.067h10.684zM41.406 0l.54 1.533h-9.893V0h9.353zM58 0v1.533h-9.881L48.647 0H58zM24.39 0c1.601 0 3.057.581 4.152 1.533H12.211V0zM10.685 0v1.533H0V0h10.684z\" fill=\"#161616\" fill-rule=\"evenodd\"></path></svg></a></div><div class=\"bx--header__search\"><div class=\"bx--header__nav-container\"><div class=\"bx--header__nav-content\"><div class=\"bx--sub-content-left\"></div><div class=\"bx--sub-content-right\"></div><nav aria-label=\"IBM\" class=\"bx--header__nav\" data-autoid=\"dds--masthead__l0-nav\"><ul aria-label=\"IBM\" class=\"bx--header__menu-bar\"></ul></nav></div><div class=\"bx--header__nav-caret-left-container\" hidden=\"\"><button aria-hidden=\"true\" aria-label=\"Masthead left caret\" class=\"bx--header__nav-caret-left\" tabindex=\"-1\"><svg aria-hidden=\"true\" fill=\"currentColor\" focusable=\"false\" height=\"20\" preserveAspectRatio=\"xMidYMid meet\" viewBox=\"0 0 32 32\" width=\"20\" xmlns=\"http://www.w3.org/2000/svg\"><path d=\"M20 24L10 16 20 8z\"></path></svg></button><div class=\"bx--header__nav-caret-left-gradient\"></div></div><div class=\"bx--header__nav-caret-right-container\" hidden=\"\"><div class=\"bx--header__nav-caret-right-gradient\"></div><button aria-hidden=\"true\" aria-label=\"Masthead right caret\" class=\"bx--header__nav-caret-right\" tabindex=\"-1\"><svg aria-hidden=\"true\" fill=\"currentColor\" focusable=\"false\" height=\"20\" preserveAspectRatio=\"xMidYMid meet\" viewBox=\"0 0 32 32\" width=\"20\" xmlns=\"http://www.w3.org/2000/svg\"><path d=\"M12 8L22 16 12 24z\"></path></svg></button></div></div><div class=\"bx--masthead__overlay\"></div><div class=\"bx--masthead__search\" data-autoid=\"dds--masthead__search\"><div class=\"bx--header__search--actions\"><button aria-label=\"Open IBM search field\" class=\"bx--header__search--search bx--header__action bx--btn bx--btn--primary bx--btn--icon-only bx--tooltip__trigger bx--tooltip--a11y bx--btn--icon-only--bottom bx--tooltip--align-center\" data-autoid=\"dds--masthead-default__l0-search\" tabindex=\"0\" type=\"button\"><div class=\"bx--assistive-text\">Open IBM search field</div><svg aria-hidden=\"true\" fill=\"currentColor\" focusable=\"false\" height=\"20\" preserveAspectRatio=\"xMidYMid meet\" viewBox=\"0 0 32 32\" width=\"20\" xmlns=\"http://www.w3.org/2000/svg\"><path d=\"M29,27.5859l-7.5521-7.5521a11.0177,11.0177,0,1,0-1.4141,1.4141L27.5859,29ZM4,13a9,9,0,1,1,9,9A9.01,9.01,0,0,1,4,13Z\"></path></svg></button><button aria-label=\"Close\" class=\"bx--header__search--close bx--header__action bx--btn bx--btn--primary bx--btn--icon-only bx--tooltip__trigger bx--tooltip--a11y bx--btn--icon-only--bottom bx--tooltip--align-center\" data-autoid=\"dds--masthead-default__l0-search--close\" tabindex=\"0\" type=\"button\"><div class=\"bx--assistive-text\">Close</div><svg aria-hidden=\"true\" fill=\"currentColor\" focusable=\"false\" height=\"20\" preserveAspectRatio=\"xMidYMid meet\" viewBox=\"0 0 32 32\" width=\"20\" xmlns=\"http://www.w3.org/2000/svg\"><path d=\"M24 9.4L22.6 8 16 14.6 9.4 8 8 9.4 14.6 16 8 22.6 9.4 24 16 17.4 22.6 24 24 22.6 17.4 16 24 9.4z\"></path></svg></button></div></div></div><div class=\"bx--header__global bx--header__profile\"><button aria-expanded=\"false\" aria-haspopup=\"true\" aria-label=\"User Profile\" class=\"bx--header__action bx--overflow-menu\" data-autoid=\"dds--masthead-default__l0-account\" style=\"width:3rem\" type=\"button\"><svg aria-hidden=\"true\" fill=\"currentColor\" focusable=\"false\" height=\"20\" preserveAspectRatio=\"xMidYMid meet\" viewBox=\"0 0 32 32\" width=\"20\" xmlns=\"http://www.w3.org/2000/svg\"><path d=\"M16 4a5 5 0 11-5 5 5 5 0 015-5m0-2a7 7 0 107 7A7 7 0 0016 2zM26 30H24V25a5 5 0 00-5-5H13a5 5 0 00-5 5v5H6V25a7 7 0 017-7h6a7 7 0 017 7z\"></path></svg></button></div></header></div></div><div class=\"bx--dotcom-shell\" data-autoid=\"dds--dotcom-shell\"><div class=\"bx--dotcom-shell__content\" data-autoid=\"dds--dotcom-shell__content\"><main><div class=\"newsflash-placeholder\"></div><header aria-labelledby=\"ibm-leadspace-title\" style=\"background-color:#000000\"><div class=\"ibm-alternate-background\" id=\"ibm-cci_carbon-leadspace-head\" style=\"background-image:url('https://1.dam.s81c.com/public/content/dam/worldwide-content/homepage/ul/g/19/f0/20210517-ls-cloud-paks-25904-2304x983.jpg');background-position:center right;background-size:cover;background-repeat:no-repeat;background-color:#000000;position:relative\"><a class=\"ibm-blocklink ibm-no-border\" href=\"https://www.ibm.com/cloud/paks?lnk=ushpv18l1\" id=\"ibm-homepage-ls-full-cta\"><div class=\"ibm_cci-grid-hidden-large ibm-hidden-xlarge ibm-pb-0 ibm__hp-mobile-image\"><div style=\"display:inline-block;max-width:100%;overflow:hidden;position:relative;box-sizing:border-box;margin:0\"><div style=\"box-sizing:border-box;display:block;max-width:100%\"><img alt=\"\" aria-hidden=\"true\" role=\"presentation\" src=\"data:image/svg+xml;base64,PHN2ZyB3aWR0aD0iMTA1NSIgaGVpZ2h0PSI1MjcuNSIgeG1sbnM9Imh0dHA6Ly93d3cudzMub3JnLzIwMDAvc3ZnIiB2ZXJzaW9uPSIxLjEiLz4=\" style=\"max-width:100%;display:block;margin:0;border:none;padding:0\"/></div><img alt=\"leadspace mobile image\" class=\"ibm-resize\" decoding=\"async\" src=\"https://1.dam.s81c.com/public/content/dam/worldwide-content/homepage/ul/g/ce/a9/20210517-ls-cloud-paks-25904-720x360.jpg\" style=\"position:absolute;top:0;left:0;bottom:0;right:0;box-sizing:border-box;padding:0;border:none;margin:auto;display:block;width:0;height:0;min-width:100%;max-width:100%;min-height:100%;max-height:100%\"/></div></div><div class=\"ibm-pt-4 ibm-pb-4 bx--grid\" id=\"ibm-cci_carbon-leadspace-body\"><div class=\"bx--row\"><div class=\"bx--col-sm-4 bx--col-md-8 bx--col-lg-6 ibm_cci-flex-column\"><h1 class=\"bx--type-expressive-heading-06 ibm-pb-10 ibm-mb-4\" id=\"ibm-leadspace-title\">AI-powered hybrid cloud software\n",
       "</h1><div class=\"bx--col-sm-4 bx--col-lg-16 bx--col-xlg-12 bx--grid-col-seamless ibm_cci-flex-column-inner ibm-pt-10\"><p class=\"bx--type-expressive-heading-03 ibm-mb-4 ibm-pb-0 ibm-textcolor-gray-30\" id=\"ibm-leadspace-copy\">Build, manage and modernize applications securely across any environment</p><div class=\"bx--buttongroup ibm-pt-0\"><button class=\"bx--btn bx--btn--primary\" tabindex=\"-1\" type=\"button\">Explore IBM Cloud Paks</button></div></div></div></div></div></a></div></header><div id=\"main-content\" style=\"background-color:#FFF\"><div class=\"bx--grid ibm-4-cards flex-cards\" id=\"ibm-featured-row\"><div class=\"bx--row\"><div class=\"bx--col-sm-4 bx--col-md-8 bx--col-lg-16\"><h2 class=\"bx--type-expressive-heading-03 ibm-pb-4 ibm-pt-3\">Inside IBM</h2></div></div><div class=\"bx--row ibm-pb-4\"><div class=\"bx--col-sm-4 bx--col-md-4 bx--col-lg-4 featured-card featured card-0\"><a class=\"ibm-blocklink ibm-no-border ibm-ab-link\" href=\"https://www.ibm.com/it-infrastructure/power/power10?lnk=ushpv18f1\" id=\"ibm-cci__feature-1\"><div class=\"ibm-card ibm-fullwidth ibm-card--noborder ibm-flex ibm-flex--column\"><div class=\"ibm-card__content ibm-nospacing\"><div style=\"display:inline-block;max-width:100%;overflow:hidden;position:relative;box-sizing:border-box;margin:0\"><div style=\"box-sizing:border-box;display:block;max-width:100%\"><img alt=\"\" aria-hidden=\"true\" role=\"presentation\" src=\"data:image/svg+xml;base64,PHN2ZyB3aWR0aD0iNDQwIiBoZWlnaHQ9IjMyMCIgeG1sbnM9Imh0dHA6Ly93d3cudzMub3JnLzIwMDAvc3ZnIiB2ZXJzaW9uPSIxLjEiLz4=\" style=\"max-width:100%;display:block;margin:0;border:none;padding:0\"/></div><img alt=\"Next&amp;#8209;generation IBM Power10\" class=\"ibm-resize ibm-ab-image featured-image\" decoding=\"async\" src=\"https://1.dam.s81c.com/public/content/dam/worldwide-content/homepage/ul/g/5b/de/2020913-cloud-pak-power10-b-26119-444x320.jpg\" style=\"position:absolute;top:0;left:0;bottom:0;right:0;box-sizing:border-box;padding:0;border:none;margin:auto;display:block;width:0;height:0;min-width:100%;max-width:100%;min-height:100%;max-height:100%\"/></div></div><div class=\"ibm-card__content-inner copy\"><p class=\"bx--type-body-long-02 ibm-type-semibold ibm-pb-0 ibm-mb-0 ibm-pt-2 ibm-ab-eyebrow\">Next‑generation IBM Power10</p><p class=\"bx--type-body-long-02 ibm-pb-0 ibm-mb-2 ibm-ab-copy\">Engineered for agility, it protects your data from core to cloud</p></div><div class=\"ibm-card__content-inner cta ibm-pt-2 ibm-pb-2\"><p class=\"bx--type-body-long-01 ibm-nospacing\"><span class=\"ibm_cci-link-fade ibm-ab-cta\">Fuel your ready-for-anything enterprise with a new generation of IBM processors</span></p></div></div></a></div><div class=\"bx--col-sm-4 bx--col-md-4 bx--col-lg-4 featured-card featured card-1\"><a class=\"ibm-blocklink ibm-no-border ibm-ab-link\" href=\"https://www.ibm.com/thought-leadership/innovation-explanations/sekou-remy?lnk=ushpv18f2\" id=\"ibm-cci__feature-2\"><div class=\"ibm-card ibm-fullwidth ibm-card--noborder ibm-flex ibm-flex--column\"><div class=\"ibm-card__content ibm-nospacing\"><div style=\"display:inline-block;max-width:100%;overflow:hidden;position:relative;box-sizing:border-box;margin:0\"><div style=\"box-sizing:border-box;display:block;max-width:100%\"><img alt=\"\" aria-hidden=\"true\" role=\"presentation\" src=\"data:image/svg+xml;base64,PHN2ZyB3aWR0aD0iNDQwIiBoZWlnaHQ9IjMyMCIgeG1sbnM9Imh0dHA6Ly93d3cudzMub3JnLzIwMDAvc3ZnIiB2ZXJzaW9uPSIxLjEiLz4=\" style=\"max-width:100%;display:block;margin:0;border:none;padding:0\"/></div><img alt=\"Superhuman decision&amp;#8209;making\n",
       "\" class=\"ibm-resize ibm-ab-image featured-image\" decoding=\"async\" src=\"https://1.dam.s81c.com/public/content/dam/worldwide-content/homepage/ul/g/74/53/20210830-sekou-remy-innovation-explanations-444x320.jpg\" style=\"position:absolute;top:0;left:0;bottom:0;right:0;box-sizing:border-box;padding:0;border:none;margin:auto;display:block;width:0;height:0;min-width:100%;max-width:100%;min-height:100%;max-height:100%\"/></div></div><div class=\"ibm-card__content-inner copy\"><p class=\"bx--type-body-long-02 ibm-type-semibold ibm-pb-0 ibm-mb-0 ibm-pt-2 ibm-ab-eyebrow\">Superhuman decision‑making\n",
       "</p><p class=\"bx--type-body-long-02 ibm-pb-0 ibm-mb-2 ibm-ab-copy\">Researcher Sekou Remy is using the power of AI to tackle COVID and malaria\n",
       "</p></div><div class=\"ibm-card__content-inner cta ibm-pt-2 ibm-pb-2\"><p class=\"bx--type-body-long-01 ibm-nospacing\"><span class=\"ibm_cci-link-fade ibm-ab-cta\">Learn how AI helps scientists and policymakers drive better outcomes</span></p></div></div></a></div><div class=\"bx--col-sm-4 bx--col-md-4 bx--col-lg-4 featured-card featured card-2\"><a class=\"ibm-blocklink ibm-no-border ibm-ab-link\" href=\"https://www.ibm.com/it-infrastructure/us-en/resources/technology-modernization-ebook/?lnk=ushpv18f3\" id=\"ibm-cci__feature-3\"><div class=\"ibm-card ibm-fullwidth ibm-card--noborder ibm-flex ibm-flex--column\"><div class=\"ibm-card__content ibm-nospacing\"><div style=\"display:inline-block;max-width:100%;overflow:hidden;position:relative;box-sizing:border-box;margin:0\"><div style=\"box-sizing:border-box;display:block;max-width:100%\"><img alt=\"\" aria-hidden=\"true\" role=\"presentation\" src=\"data:image/svg+xml;base64,PHN2ZyB3aWR0aD0iNDQwIiBoZWlnaHQ9IjMyMCIgeG1sbnM9Imh0dHA6Ly93d3cudzMub3JnLzIwMDAvc3ZnIiB2ZXJzaW9uPSIxLjEiLz4=\" style=\"max-width:100%;display:block;margin:0;border:none;padding:0\"/></div><img alt=\"Build a culture of change\" class=\"ibm-resize ibm-ab-image featured-image\" decoding=\"async\" src=\"https://1.dam.s81c.com/public/content/dam/worldwide-content/homepage/ul/g/8e/34/2020913-it-modernization-ebook-26079444x320.jpg\" style=\"position:absolute;top:0;left:0;bottom:0;right:0;box-sizing:border-box;padding:0;border:none;margin:auto;display:block;width:0;height:0;min-width:100%;max-width:100%;min-height:100%;max-height:100%\"/></div></div><div class=\"ibm-card__content-inner copy\"><p class=\"bx--type-body-long-02 ibm-type-semibold ibm-pb-0 ibm-mb-0 ibm-pt-2 ibm-ab-eyebrow\">Build a culture of change</p><p class=\"bx--type-body-long-02 ibm-pb-0 ibm-mb-2 ibm-ab-copy\">Update your company’s technology, people and processes at your own pace</p></div><div class=\"ibm-card__content-inner cta ibm-pt-2 ibm-pb-2\"><p class=\"bx--type-body-long-01 ibm-nospacing\"><span class=\"ibm_cci-link-fade ibm-ab-cta\">Read the free IT modernization ebook to learn how to draw your roadmap</span></p></div></div></a></div><div class=\"bx--col-sm-4 bx--col-md-4 bx--col-lg-4 featured-card featured card-3\"><a class=\"ibm-blocklink ibm-no-border ibm-ab-link\" href=\"https://www.ibm.com/blogs/journey-to-ai/2021/06/reduce-sepsis-related-neonate-mortality-rates-with-ai-and-edge-computing/?lnk=ushpv18f4\" id=\"ibm-cci__feature-4\"><div class=\"ibm-card ibm-fullwidth ibm-card--noborder ibm-flex ibm-flex--column\"><div class=\"ibm-card__content ibm-nospacing\"><div style=\"display:inline-block;max-width:100%;overflow:hidden;position:relative;box-sizing:border-box;margin:0\"><div style=\"box-sizing:border-box;display:block;max-width:100%\"><img alt=\"\" aria-hidden=\"true\" role=\"presentation\" src=\"data:image/svg+xml;base64,PHN2ZyB3aWR0aD0iNDQwIiBoZWlnaHQ9IjMyMCIgeG1sbnM9Imh0dHA6Ly93d3cudzMub3JnLzIwMDAvc3ZnIiB2ZXJzaW9uPSIxLjEiLz4=\" style=\"max-width:100%;display:block;margin:0;border:none;padding:0\"/></div><img alt=\"Artificial intelligence vs. neonatal sepsis\" class=\"ibm-resize ibm-ab-image featured-image\" decoding=\"async\" src=\"https://1.dam.s81c.com/public/content/dam/worldwide-content/homepage/ul/g/3f/97/2020913-ai-vs-neonatal-sepsis-26072-444x320.jpg\" style=\"position:absolute;top:0;left:0;bottom:0;right:0;box-sizing:border-box;padding:0;border:none;margin:auto;display:block;width:0;height:0;min-width:100%;max-width:100%;min-height:100%;max-height:100%\"/></div></div><div class=\"ibm-card__content-inner copy\"><p class=\"bx--type-body-long-02 ibm-type-semibold ibm-pb-0 ibm-mb-0 ibm-pt-2 ibm-ab-eyebrow\">Artificial intelligence vs. neonatal sepsis</p><p class=\"bx--type-body-long-02 ibm-pb-0 ibm-mb-2 ibm-ab-copy\">The Innocens Project aims to help doctors quickly diagnose and treat preemies</p></div><div class=\"ibm-card__content-inner cta ibm-pt-2 ibm-pb-2\"><p class=\"bx--type-body-long-01 ibm-nospacing\"><span class=\"ibm_cci-link-fade ibm-ab-cta\">Learn how IBM Cloud Pak for Data uses AI modeling to detect signs and trends</span></p></div></div></a></div></div></div></div><div class=\"ibm-cci__gray-background\" style=\"background-color:#F2F4F8\"><div class=\"bx--grid ibm-4-cards\" id=\"ibm-trials-row\"><div class=\"bx--row ibm-mb-4\"><div class=\"bx--col-sm-4 bx--col-md-8 bx--col-lg-16\"><h2 class=\"bx--type-expressive-heading-03 ibm-pb-0 ibm-mb-2 ibm-pt-4\">Explore product trials and offers</h2><a class=\"ibm_cci-link-fade\" href=\"https://www.ibm.com/products/offers-and-discounts?link=ushpv18t5&amp;lnk2=trial_mktpl_MPDISC\">See current deals</a></div></div><div class=\"bx--row\"><div class=\"bx--col-sm-4 bx--col-md-4 bx--col-lg-4 featured-card trials\"><a class=\"ibm-blocklink ibm-no-border ibm-ab-link\" href=\"https://www.ibm.com/cloud/cloud-pak-for-integration?lnk=ushpv18t1&amp;lnk2=trial_CloudPakInt&amp;psrc=none&amp;pexp=def\" id=\"ibm-cci__trial-1\"><div class=\"ibm-card ibm-fullwidth ibm-card--noborder ibm-flex ibm-flex--column\"><div class=\"ibm-card__content ibm-nospacing\"><div style=\"display:inline-block;max-width:100%;overflow:hidden;position:relative;box-sizing:border-box;margin:0\"><div style=\"box-sizing:border-box;display:block;max-width:100%\"><img alt=\"\" aria-hidden=\"true\" role=\"presentation\" src=\"data:image/svg+xml;base64,PHN2ZyB3aWR0aD0iNDQwIiBoZWlnaHQ9IjI2MCIgeG1sbnM9Imh0dHA6Ly93d3cudzMub3JnLzIwMDAvc3ZnIiB2ZXJzaW9uPSIxLjEiLz4=\" style=\"max-width:100%;display:block;margin:0;border:none;padding:0\"/></div><noscript>&lt;img alt=\"IBM Cloud Pak for Integration\" src=\"https://1.dam.s81c.com/public/content/dam/worldwide-content/homepage/ul/g/25/ff/cloud-pak-for-integration-444x254.png\" decoding=\"async\" style=\"position:absolute;top:0;left:0;bottom:0;right:0;box-sizing:border-box;padding:0;border:none;margin:auto;display:block;width:0;height:0;min-width:100%;max-width:100%;min-height:100%;max-height:100%\" class=\"ibm-resize ibm-ab-image trials-image\"/&gt;</noscript><img alt=\"IBM Cloud Pak for Integration\" class=\"ibm-resize ibm-ab-image trials-image\" decoding=\"async\" src=\"data:image/gif;base64,R0lGODlhAQABAIAAAAAAAP///yH5BAEAAAAALAAAAAABAAEAAAIBRAA7\" style=\"position:absolute;top:0;left:0;bottom:0;right:0;box-sizing:border-box;padding:0;border:none;margin:auto;display:block;width:0;height:0;min-width:100%;max-width:100%;min-height:100%;max-height:100%\"/></div></div><div class=\"ibm-card__content-inner copy\"><p class=\"bx--type-body-long-02 ibm-type-semibold ibm-pb-0 ibm-mb-0 ibm-pt-2 ibm-ab-eyebrow\">IBM Cloud Pak for Integration</p><p class=\"bx--type-body-long-02 ibm-pb-0 ibm-mb-2 ibm-ab-copy\">Level up your integration architecture and AI augmentation</p></div><div class=\"ibm-card__content-inner cta ibm-pt-2 ibm-pb-2\"><p class=\"bx--type-body-long-01 ibm-nospacing\"><span class=\"ibm_cci-link-fade ibm-ab-cta\">Start your free trial now</span></p></div></div></a></div><div class=\"bx--col-sm-4 bx--col-md-4 bx--col-lg-4 featured-card trials\"><a class=\"ibm-blocklink ibm-no-border ibm-ab-link\" href=\"https://www.ibm.com/products/micromedex-with-watson?lnk=ushpv18t2&amp;psrc=none&amp;pexp=def&amp;lnk2=trial_MicromedexWat\" id=\"ibm-cci__trial-2\"><div class=\"ibm-card ibm-fullwidth ibm-card--noborder ibm-flex ibm-flex--column\"><div class=\"ibm-card__content ibm-nospacing\"><div style=\"display:inline-block;max-width:100%;overflow:hidden;position:relative;box-sizing:border-box;margin:0\"><div style=\"box-sizing:border-box;display:block;max-width:100%\"><img alt=\"\" aria-hidden=\"true\" role=\"presentation\" src=\"data:image/svg+xml;base64,PHN2ZyB3aWR0aD0iNDQwIiBoZWlnaHQ9IjI2MCIgeG1sbnM9Imh0dHA6Ly93d3cudzMub3JnLzIwMDAvc3ZnIiB2ZXJzaW9uPSIxLjEiLz4=\" style=\"max-width:100%;display:block;margin:0;border:none;padding:0\"/></div><noscript>&lt;img alt=\"IBM Micromedex with Watson\" src=\"https://1.dam.s81c.com/public/content/dam/worldwide-content/homepage/ul/g/57/ad/Micromodex-red-book-23404-700x420.png\" decoding=\"async\" style=\"position:absolute;top:0;left:0;bottom:0;right:0;box-sizing:border-box;padding:0;border:none;margin:auto;display:block;width:0;height:0;min-width:100%;max-width:100%;min-height:100%;max-height:100%\" class=\"ibm-resize ibm-ab-image trials-image\"/&gt;</noscript><img alt=\"IBM Micromedex with Watson\" class=\"ibm-resize ibm-ab-image trials-image\" decoding=\"async\" src=\"data:image/gif;base64,R0lGODlhAQABAIAAAAAAAP///yH5BAEAAAAALAAAAAABAAEAAAIBRAA7\" style=\"position:absolute;top:0;left:0;bottom:0;right:0;box-sizing:border-box;padding:0;border:none;margin:auto;display:block;width:0;height:0;min-width:100%;max-width:100%;min-height:100%;max-height:100%\"/></div></div><div class=\"ibm-card__content-inner copy\"><p class=\"bx--type-body-long-02 ibm-type-semibold ibm-pb-0 ibm-mb-0 ibm-pt-2 ibm-ab-eyebrow\">IBM Micromedex with Watson</p><p class=\"bx--type-body-long-02 ibm-pb-0 ibm-mb-2 ibm-ab-copy\">Use AI for quick access to evidence‑based clinical data</p></div><div class=\"ibm-card__content-inner cta ibm-pt-2 ibm-pb-2\"><p class=\"bx--type-body-long-01 ibm-nospacing\"><span class=\"ibm_cci-link-fade ibm-ab-cta\">Register for a free trial</span></p></div></div></a></div><div class=\"bx--col-sm-4 bx--col-md-4 bx--col-lg-4 featured-card trials\"><a class=\"ibm-blocklink ibm-no-border ibm-ab-link\" href=\"https://www.ibm.com/products/cognos-analytics?lnk=ushpv18t3&amp;lnk2=trial_CogAnalytics&amp;psrc=none&amp;pexp=def\" id=\"ibm-cci__trial-3\"><div class=\"ibm-card ibm-fullwidth ibm-card--noborder ibm-flex ibm-flex--column\"><div class=\"ibm-card__content ibm-nospacing\"><div style=\"display:inline-block;max-width:100%;overflow:hidden;position:relative;box-sizing:border-box;margin:0\"><div style=\"box-sizing:border-box;display:block;max-width:100%\"><img alt=\"\" aria-hidden=\"true\" role=\"presentation\" src=\"data:image/svg+xml;base64,PHN2ZyB3aWR0aD0iNDQwIiBoZWlnaHQ9IjI2MCIgeG1sbnM9Imh0dHA6Ly93d3cudzMub3JnLzIwMDAvc3ZnIiB2ZXJzaW9uPSIxLjEiLz4=\" style=\"max-width:100%;display:block;margin:0;border:none;padding:0\"/></div><noscript>&lt;img alt=\"IBM Cognos Analytics\" src=\"https://1.dam.s81c.com/public/content/dam/worldwide-content/homepage/ul/g/6a/a5/Cognos-Analytics-20626-700x420.png\" decoding=\"async\" style=\"position:absolute;top:0;left:0;bottom:0;right:0;box-sizing:border-box;padding:0;border:none;margin:auto;display:block;width:0;height:0;min-width:100%;max-width:100%;min-height:100%;max-height:100%\" class=\"ibm-resize ibm-ab-image trials-image\"/&gt;</noscript><img alt=\"IBM Cognos Analytics\" class=\"ibm-resize ibm-ab-image trials-image\" decoding=\"async\" src=\"data:image/gif;base64,R0lGODlhAQABAIAAAAAAAP///yH5BAEAAAAALAAAAAABAAEAAAIBRAA7\" style=\"position:absolute;top:0;left:0;bottom:0;right:0;box-sizing:border-box;padding:0;border:none;margin:auto;display:block;width:0;height:0;min-width:100%;max-width:100%;min-height:100%;max-height:100%\"/></div></div><div class=\"ibm-card__content-inner copy\"><p class=\"bx--type-body-long-02 ibm-type-semibold ibm-pb-0 ibm-mb-0 ibm-pt-2 ibm-ab-eyebrow\">IBM Cognos Analytics</p><p class=\"bx--type-body-long-02 ibm-pb-0 ibm-mb-2 ibm-ab-copy\">Unearth hidden insights with personalized analytics driven by AI</p></div><div class=\"ibm-card__content-inner cta ibm-pt-2 ibm-pb-2\"><p class=\"bx--type-body-long-01 ibm-nospacing\"><span class=\"ibm_cci-link-fade ibm-ab-cta\">Get a 30-day trial</span></p></div></div></a></div><div class=\"bx--col-sm-4 bx--col-md-4 bx--col-lg-4 featured-card trials\"><a class=\"ibm-blocklink ibm-no-border ibm-ab-link\" href=\"https://www.ibm.com/cloud/vmware/shared?lnk=ushpv18t4&amp;lnk2=trial_VMware&amp;psrc=none&amp;pexp=def\" id=\"ibm-cci__trial-4\"><div class=\"ibm-card ibm-fullwidth ibm-card--noborder ibm-flex ibm-flex--column\"><div class=\"ibm-card__content ibm-nospacing\"><div style=\"display:inline-block;max-width:100%;overflow:hidden;position:relative;box-sizing:border-box;margin:0\"><div style=\"box-sizing:border-box;display:block;max-width:100%\"><img alt=\"\" aria-hidden=\"true\" role=\"presentation\" src=\"data:image/svg+xml;base64,PHN2ZyB3aWR0aD0iNDQwIiBoZWlnaHQ9IjI2MCIgeG1sbnM9Imh0dHA6Ly93d3cudzMub3JnLzIwMDAvc3ZnIiB2ZXJzaW9uPSIxLjEiLz4=\" style=\"max-width:100%;display:block;margin:0;border:none;padding:0\"/></div><noscript>&lt;img alt=\"IBM Cloud for VMWare Solutions\" src=\"https://1.dam.s81c.com/public/content/dam/worldwide-content/homepage/ul/g/54/79/IBM-Cloud-23059-700x420.png\" decoding=\"async\" style=\"position:absolute;top:0;left:0;bottom:0;right:0;box-sizing:border-box;padding:0;border:none;margin:auto;display:block;width:0;height:0;min-width:100%;max-width:100%;min-height:100%;max-height:100%\" class=\"ibm-resize ibm-ab-image trials-image\"/&gt;</noscript><img alt=\"IBM Cloud for VMWare Solutions\" class=\"ibm-resize ibm-ab-image trials-image\" decoding=\"async\" src=\"data:image/gif;base64,R0lGODlhAQABAIAAAAAAAP///yH5BAEAAAAALAAAAAABAAEAAAIBRAA7\" style=\"position:absolute;top:0;left:0;bottom:0;right:0;box-sizing:border-box;padding:0;border:none;margin:auto;display:block;width:0;height:0;min-width:100%;max-width:100%;min-height:100%;max-height:100%\"/></div></div><div class=\"ibm-card__content-inner copy\"><p class=\"bx--type-body-long-02 ibm-type-semibold ibm-pb-0 ibm-mb-0 ibm-pt-2 ibm-ab-eyebrow\">IBM Cloud for VMWare Solutions</p><p class=\"bx--type-body-long-02 ibm-pb-0 ibm-mb-2 ibm-ab-copy\">Seamlessly migrate or deploy VMware workloads to the cloud</p></div><div class=\"ibm-card__content-inner cta ibm-pt-2 ibm-pb-2\"><p class=\"bx--type-body-long-01 ibm-nospacing\"><span class=\"ibm_cci-link-fade ibm-ab-cta\">Try it with a $500 credit</span></p></div></div></a></div></div></div></div><section aria-labelledby=\"ibm-tech-row-title\" class=\"ibm-background-white-core ibm-tech-section visible\" id=\"ibm-tech-section-b\"><div class=\"bx--grid\"><div class=\"bx--row\"><div class=\"bx--col-sm-4 bx--col-md-8 bx--col-lg-4\"><h2 class=\"bx--type-expressive-heading-03 ibm-pb-2\" style=\"padding-right:10%\">Search for products and services</h2></div><div class=\"bx--col-sm-4 bx--col-md-4 bx--col-lg-8\"><div class=\"ibm-gmktp-search\"><form action=\"https://www.ibm.com/search?lnk=ushpv18srch&amp;locale=en-us&amp;q=\" class=\"ibm-row-form\" id=\"ibm-gmktp-search-form-b\" method=\"get\"><p class=\"ibm-pb-0 ibm__animated-placeholder\" id=\"ibm__animated-placeholder-0-b\"><label for=\"ibm-gmktp-input\" style=\"display:none\">Search term</label><span style=\"display:block\"><input class=\"tech-search\" id=\"ibm-gmktp-input-b\" name=\"q\" placeholder=\"Search IBM\" size=\"40\" style=\"width:100%\" type=\"text\" value=\"\"/></span></p><a class=\"ibm-search-link ibm__linky-skip\" href=\"https://www.ibm.com/search?lnk=ushpv18srch&amp;locale=en-us&amp;q=\" id=\"ibm-gmktp-search-bttn-b\"><span>Search IBM</span></a><div class=\"ibm-spinner\" style=\"display:none\"></div></form><div id=\"ibm-gmktp-output-container-b\"><ul aria-label=\"Use down and up arrow keys to navigate through the results.\" aria-live=\"polite\" class=\"ibm-plain-list ibm-pb-0 output\" id=\"ibm-gmktp-output-b\" role=\"listbox\"></ul></div></div><p class=\"bx--type-body-long-02 ibm-pb-0 ibm-mb-10 ibm-pt-1 ibm-mb-sm-3\"><a class=\"ibm_cci-link-fade\" href=\"https://www.ibm.com/products?lnk=ushpv18p1&amp;lnk2=trial_mktpl&amp;psrc=none&amp;pexp=def\" id=\"ibm-homepage-lpsw-see-more-b\">See all products</a></p></div></div><div class=\"bx--row\"><div class=\"bx--col-lg-4 tableofcontents__col\"><h2 class=\"bx--type-expressive-heading-03 ibm-pt-1 ibm-pb-0\" id=\"ibm-tech-row-title-b\" style=\"padding-right:10%\">Explore trending technologies</h2></div><div class=\"bx--col-md-8 bx--col-lg-3 percent-25\"><div class=\"bx--link-list\" data-autoid=\"dds--link-list\"><h4 class=\"bx--link-list__heading\"></h4><ul class=\"bx--link-list__list bx--link-list__list--card\"><li class=\"bx--link-list__list__CTA bx--link-list__list--local\"><div><div ariarole=\"listitem\" class=\"bx--tile bx--card bx--card__CTA\" data-autoid=\"dds--card\" href=\"https://www.ibm.com/cloud/hybrid?lnk=ushpv18pt14\"><div class=\"bx--card__wrapper\"><div class=\"bx--card__content\"><h3 class=\"bx--card__heading\">Hybrid cloud</h3><div class=\"bx--card__copy\"><p>Blend cloud and on-premises resources for flexibility</p> </div><a aria-label=\"Hybrid cloud\" class=\"bx--link bx--card__footer\" href=\"https://www.ibm.com/cloud/hybrid?lnk=ushpv18pt14\"><svg aria-hidden=\"true\" class=\"bx--card__cta\" fill=\"currentColor\" focusable=\"false\" height=\"20\" preserveAspectRatio=\"xMidYMid meet\" src=\"[object Object]\" viewBox=\"0 0 20 20\" width=\"20\" xmlns=\"http://www.w3.org/2000/svg\"><path d=\"M11.8 2.8L10.8 3.8 16.2 9.3 1 9.3 1 10.7 16.2 10.7 10.8 16.2 11.8 17.2 19 10z\"></path></svg></a></div></div></div></div></li><li class=\"bx--link-list__list__CTA bx--link-list__list--local\"><div><div ariarole=\"listitem\" class=\"bx--tile bx--card bx--card__CTA\" data-autoid=\"dds--card\" href=\"https://www.ibm.com/watson?lnk=ushpv18pt17\"><div class=\"bx--card__wrapper\"><div class=\"bx--card__content\"><h3 class=\"bx--card__heading\">Watson</h3><div class=\"bx--card__copy\"><p>See why Watson is AI for smarter business</p> </div><a aria-label=\"Watson\" class=\"bx--link bx--card__footer\" href=\"https://www.ibm.com/watson?lnk=ushpv18pt17\"><svg aria-hidden=\"true\" class=\"bx--card__cta\" fill=\"currentColor\" focusable=\"false\" height=\"20\" preserveAspectRatio=\"xMidYMid meet\" src=\"[object Object]\" viewBox=\"0 0 20 20\" width=\"20\" xmlns=\"http://www.w3.org/2000/svg\"><path d=\"M11.8 2.8L10.8 3.8 16.2 9.3 1 9.3 1 10.7 16.2 10.7 10.8 16.2 11.8 17.2 19 10z\"></path></svg></a></div></div></div></div></li><li class=\"bx--link-list__list__CTA bx--link-list__list--local\"><div><div ariarole=\"listitem\" class=\"bx--tile bx--card bx--card__CTA\" data-autoid=\"dds--card\" href=\"https://www.ibm.com/it-infrastructure?lnk=ushpv18pt19\"><div class=\"bx--card__wrapper\"><div class=\"bx--card__content\"><h3 class=\"bx--card__heading\">IT infrastructure</h3><div class=\"bx--card__copy\"><p>Discover servers, storage, and software designed for your enterprise</p> </div><a aria-label=\"IT infrastructure\" class=\"bx--link bx--card__footer\" href=\"https://www.ibm.com/it-infrastructure?lnk=ushpv18pt19\"><svg aria-hidden=\"true\" class=\"bx--card__cta\" fill=\"currentColor\" focusable=\"false\" height=\"20\" preserveAspectRatio=\"xMidYMid meet\" src=\"[object Object]\" viewBox=\"0 0 20 20\" width=\"20\" xmlns=\"http://www.w3.org/2000/svg\"><path d=\"M11.8 2.8L10.8 3.8 16.2 9.3 1 9.3 1 10.7 16.2 10.7 10.8 16.2 11.8 17.2 19 10z\"></path></svg></a></div></div></div></div></li><li class=\"bx--link-list__list__CTA bx--link-list__list--local\"><div><div ariarole=\"listitem\" class=\"bx--tile bx--card bx--card__CTA\" data-autoid=\"dds--card\" href=\"https://www.ibm.com/us-en/products/categories?technologyTopics%5B0%5D%5B0%5D=cat.topic:Blockchain&amp;isIBMOffering%5B0%5D=true&amp;lnk=ushpv18pt4\"><div class=\"bx--card__wrapper\"><div class=\"bx--card__content\"><h3 class=\"bx--card__heading\">Blockchain</h3><div class=\"bx--card__copy\"><p>Bring trust and transparency to every transaction</p> </div><a aria-label=\"Blockchain\" class=\"bx--link bx--card__footer\" href=\"https://www.ibm.com/us-en/products/categories?technologyTopics%5B0%5D%5B0%5D=cat.topic:Blockchain&amp;isIBMOffering%5B0%5D=true&amp;lnk=ushpv18pt4\"><svg aria-hidden=\"true\" class=\"bx--card__cta\" fill=\"currentColor\" focusable=\"false\" height=\"20\" preserveAspectRatio=\"xMidYMid meet\" src=\"[object Object]\" viewBox=\"0 0 20 20\" width=\"20\" xmlns=\"http://www.w3.org/2000/svg\"><path d=\"M11.8 2.8L10.8 3.8 16.2 9.3 1 9.3 1 10.7 16.2 10.7 10.8 16.2 11.8 17.2 19 10z\"></path></svg></a></div></div></div></div></li></ul></div></div><div class=\"bx--col-sm-0 bx--col-md-0 bx--col-lg-1\"></div><div class=\"bx--col-md-8 bx--col-lg-3 percent-25\"><div class=\"bx--link-list\" data-autoid=\"dds--link-list\"><h4 class=\"bx--link-list__heading\"></h4><ul class=\"bx--link-list__list bx--link-list__list--card\"><li class=\"bx--link-list__list__CTA bx--link-list__list--local\"><div><div ariarole=\"listitem\" class=\"bx--tile bx--card bx--card__CTA\" data-autoid=\"dds--card\" href=\"https://www.ibm.com/us-en/products/category/technology/security?lnk=ushpv18pt9\"><div class=\"bx--card__wrapper\"><div class=\"bx--card__content\"><h3 class=\"bx--card__heading\">Security</h3><div class=\"bx--card__copy\"><p>Protect your data â and your customers</p> </div><a aria-label=\"Security\" class=\"bx--link bx--card__footer\" href=\"https://www.ibm.com/us-en/products/category/technology/security?lnk=ushpv18pt9\"><svg aria-hidden=\"true\" class=\"bx--card__cta\" fill=\"currentColor\" focusable=\"false\" height=\"20\" preserveAspectRatio=\"xMidYMid meet\" src=\"[object Object]\" viewBox=\"0 0 20 20\" width=\"20\" xmlns=\"http://www.w3.org/2000/svg\"><path d=\"M11.8 2.8L10.8 3.8 16.2 9.3 1 9.3 1 10.7 16.2 10.7 10.8 16.2 11.8 17.2 19 10z\"></path></svg></a></div></div></div></div></li><li class=\"bx--link-list__list__CTA bx--link-list__list--local\"><div><div ariarole=\"listitem\" class=\"bx--tile bx--card bx--card__CTA\" data-autoid=\"dds--card\" href=\"https://www.ibm.com/us-en/products/category/technology/analytics?lnk=ushpv18pt1\"><div class=\"bx--card__wrapper\"><div class=\"bx--card__content\"><h3 class=\"bx--card__heading\">Analytics</h3><div class=\"bx--card__copy\"><p>Make data simple and accessible</p> </div><a aria-label=\"Analytics\" class=\"bx--link bx--card__footer\" href=\"https://www.ibm.com/us-en/products/category/technology/analytics?lnk=ushpv18pt1\"><svg aria-hidden=\"true\" class=\"bx--card__cta\" fill=\"currentColor\" focusable=\"false\" height=\"20\" preserveAspectRatio=\"xMidYMid meet\" src=\"[object Object]\" viewBox=\"0 0 20 20\" width=\"20\" xmlns=\"http://www.w3.org/2000/svg\"><path d=\"M11.8 2.8L10.8 3.8 16.2 9.3 1 9.3 1 10.7 16.2 10.7 10.8 16.2 11.8 17.2 19 10z\"></path></svg></a></div></div></div></div></li><li class=\"bx--link-list__list__CTA bx--link-list__list--local\"><div><div ariarole=\"listitem\" class=\"bx--tile bx--card bx--card__CTA\" data-autoid=\"dds--card\" href=\"https://www.ibm.com/cloud/automation?lnk=ushpv18ct21\"><div class=\"bx--card__wrapper\"><div class=\"bx--card__content\"><h3 class=\"bx--card__heading\">Automation</h3><div class=\"bx--card__copy\"><p>Automate workflows from IT to business processes</p> </div><a aria-label=\"Automation\" class=\"bx--link bx--card__footer\" href=\"https://www.ibm.com/cloud/automation?lnk=ushpv18ct21\"><svg aria-hidden=\"true\" class=\"bx--card__cta\" fill=\"currentColor\" focusable=\"false\" height=\"20\" preserveAspectRatio=\"xMidYMid meet\" src=\"[object Object]\" viewBox=\"0 0 20 20\" width=\"20\" xmlns=\"http://www.w3.org/2000/svg\"><path d=\"M11.8 2.8L10.8 3.8 16.2 9.3 1 9.3 1 10.7 16.2 10.7 10.8 16.2 11.8 17.2 19 10z\"></path></svg></a></div></div></div></div></li><li class=\"bx--link-list__list__CTA bx--link-list__list--local\"><div><div ariarole=\"listitem\" class=\"bx--tile bx--card bx--card__CTA\" data-autoid=\"dds--card\" href=\"https://www.ibm.com/quantum-computing?lnk=ushpv18pt16\"><div class=\"bx--card__wrapper\"><div class=\"bx--card__content\"><h3 class=\"bx--card__heading\">Quantum computing</h3><div class=\"bx--card__copy\"><p>Prepare for the quantum advantage with a trusted partner</p> </div><a aria-label=\"Quantum computing\" class=\"bx--link bx--card__footer\" href=\"https://www.ibm.com/quantum-computing?lnk=ushpv18pt16\"><svg aria-hidden=\"true\" class=\"bx--card__cta\" fill=\"currentColor\" focusable=\"false\" height=\"20\" preserveAspectRatio=\"xMidYMid meet\" src=\"[object Object]\" viewBox=\"0 0 20 20\" width=\"20\" xmlns=\"http://www.w3.org/2000/svg\"><path d=\"M11.8 2.8L10.8 3.8 16.2 9.3 1 9.3 1 10.7 16.2 10.7 10.8 16.2 11.8 17.2 19 10z\"></path></svg></a></div></div></div></div></li></ul></div></div><div class=\"bx--offset-lg-1 bx--col-lg-4\"><div class=\"trending-col\" style=\"position:sticky;top:52px;padding-top:34px\"><h4 class=\"bx--type-expressive-heading-02 ibm-pb-2 ibm-margin-bottom-0\">Support and training</h4><h3 class=\"bx--type-body-long-02 ibm-pb-0 ibm-mb-3\"><a class=\"ibm_cci-link-fade\" href=\"https://www.ibm.com/mysupport/s/?language=en_US&amp;lnk=ushpv18ct11\" id=\"ibm-homepage-tech-support\">Support</a></h3><h3 class=\"bx--type-body-long-02 ibm-pb-0 ibm-mb-3\"><a class=\"ibm_cci-link-fade\" href=\"https://www.ibm.com/training/?lnk=ushpv18ct15\" id=\"ibm-homepage-tech-training\">Training and skills</a></h3><h3 class=\"bx--type-body-long-02 ibm-pb-0 ibm-mb-3\"><a class=\"ibm_cci-link-fade\" href=\"https://developer.ibm.com/?lnk=ushpv18ct9\" id=\"ibm-homepage-tech-ibm-developer\">IBM Developer</a></h3><h3 class=\"bx--type-body-long-02 ibm-pb-0 ibm-mb-3\"><a class=\"ibm_cci-link-fade\" href=\"https://www.ibm.com/garage?lnk=ushpv18pt18\" id=\"ibm-homepage-tech-ibm-garage\">IBM Garage</a></h3><h3 class=\"bx--type-body-long-02 ibm-pb-0 ibm-mb-3\"><a class=\"ibm_cci-link-fade\" href=\"https://www.ibm.com/docs/en?lnk=ushpv18ct14\" id=\"ibm-homepage-tech-ibm-documentation\">IBM Documentation</a></h3><h3 class=\"bx--type-body-long-02 ibm-pb-0 ibm-mb-3\"><a class=\"ibm_cci-link-fade\" href=\"https://www.redbooks.ibm.com/?lnk=ushpv18ct10\" id=\"ibm-homepage-tech-redbooks\">Redbooks</a></h3><h3 class=\"bx--type-body-long-02 ibm-pb-0 ibm-mb-3\"><a class=\"ibm_cci-link-fade\" href=\"https://www-03.ibm.com/employment/technicaltalent/developer/?lnk=ushpv18ct2\" id=\"ibm-homepage-tech-careers\">Careers</a></h3></div></div></div></div></section><div class=\"ibm-pb-10\" id=\"ibm-certifications-row\"><div class=\"bx--grid\"><div class=\"bx--row\"><div class=\"bx--col-sm-4 bx--col-md-8 bx--col-lg-16\"><h2 class=\"bx--type-expressive-heading-03 ibm-pb-0 ibm-mb-2 ibm-pt-4\">Get training and certification from IBM</h2><a class=\"ibm_cci-link-fade\" href=\"https://www.ibm.com/training?link=ushpv18tc0\">Explore all training and certification</a></div></div><div class=\"bx--row ibm-pt-7\"><div class=\"bx--col-sm-4 bx--col-md-4 bx--col-lg-8 featured-card certification-1\"><div class=\"bx--feature-card\" data-autoid=\"dds--feature-card\"><div class=\"bx--tile bx--card bx--feature-card__card\" data-autoid=\"dds--card\"><div class=\"bx--image\" data-autoid=\"dds--image__longdescription\"><picture><source media=\"(min-width: 672px)\" srcset=\"https://1.dam.s81c.com/public/content/dam/worldwide-content/homepage/ul/g/0f/2f/20210913-center-for-cloud-training-26116.jpg\"/><img alt=\"IBM Center for Cloud Training\" class=\"bx--image__img bx--card__img\" src=\"https://1.dam.s81c.com/public/content/dam/worldwide-content/homepage/ul/g/0f/2f/20210913-center-for-cloud-training-26116.jpg\"/></picture></div><div class=\"bx--card__wrapper\"><div class=\"bx--card__content\"><h3 class=\"bx--card__heading\">IBM Center for Cloud Training</h3><a aria-label=\"\" class=\"bx--link bx--card__footer bx--card__footer__copy\" href=\"https://www.ibm.com/training/cloud?lnk=ushpv18tc1\"><span class=\"bx--card__cta__copy\">Get the credentials you need to compete and grow your career with role-based training</span></a></div></div></div></div></div><div class=\"bx--col-sm-4 bx--col-md-4 bx--col-lg-8 featured-card certification-2\"><div class=\"bx--feature-card\" data-autoid=\"dds--feature-card\"><div class=\"bx--tile bx--card bx--feature-card__card\" data-autoid=\"dds--card\"><div class=\"bx--image\" data-autoid=\"dds--image__longdescription\"><picture><source media=\"(min-width: 672px)\" srcset=\"https://1.dam.s81c.com/public/content/dam/worldwide-content/homepage/ul/g/3a/f8/20210913-cert-tech-u-modern-data-protection-26117.png\"/><img alt=\"IBM TechU: data protection\" class=\"bx--image__img bx--card__img\" src=\"https://1.dam.s81c.com/public/content/dam/worldwide-content/homepage/ul/g/3a/f8/20210913-cert-tech-u-modern-data-protection-26117.png\"/></picture></div><div class=\"bx--card__wrapper\"><div class=\"bx--card__content\"><h3 class=\"bx--card__heading\">IBM TechU: data protection</h3><a aria-label=\"\" class=\"bx--link bx--card__footer bx--card__footer__copy\" href=\"https://www.ibm.com/training/course/TU00012G?lnk=ushpv18tc2\"><span class=\"bx--card__cta__copy\">Learn how to establish a storage strategy for data protection in a hybrid cloud environment</span></a></div></div></div></div></div></div></div></div><div class=\"ibm-background-black-core\" id=\"ibm-cs-row\"><div class=\"bx--lazyload--wrapper\"><div class=\"bx--lazyload--placeholder\" style=\"height:480px\"></div></div></div></main></div></div><footer class=\"bx--footer\" data-autoid=\"dds--footer\"><section class=\"bx--footer__main\"><div class=\"bx--footer__main-container\"><div class=\"bx--footer-logo\" data-autoid=\"dds--footer-logo\"><a class=\"bx--footer-logo__link\" data-autoid=\"dds--footer-logo__link\" href=\"https://www.ibm.com/\"><svg class=\"bx--footer-logo__logo\" height=\"65\" viewBox=\"0 0 157 65\" width=\"157\" xmlns=\"http://www.w3.org/2000/svg\"><title>IBM Logo</title><path d=\"M30.444 60.208v4.03H0v-4.03h30.444zm78.291-.001v4.03H86.983v-4.03h21.752zm47.858 0v4.03H134.84v-4.03h21.753zm-33.416 0l-1.398 4.03-1.38-4.03h2.778zm-88.384 0h42.775c-2.797 2.426-6.39 3.925-10.327 4.025l-.423.006H34.793v-4.03h42.775zm-4.35-8.46v4.03H0v-4.03h30.444zm52.402 0c-.332 1.248-.8 2.44-1.389 3.555l-.259.474H34.793v-4.029h48.052zm73.748-.005v4.031H134.84v-4.03h21.753zm-47.858 0v4.031H86.983v-4.03h21.752zm17.375 0l-1.398 4.031h-5.85l-1.395-4.03h8.643zM21.745 43.285v4.03H8.698v-4.03h13.047zm61.195 0a17.32 17.32 0 0 1 .476 3.51l.008.52H68.796v-4.03H82.94zm-26.401 0v4.03H43.491v-4.03H56.54zm72.502-.007l-1.396 4.03H115.93l-1.397-4.03h14.507zm18.85 0v4.03h-13.05v-4.03h13.05zm-39.156 0v4.03H95.684v-4.03h13.051zm-86.99-8.454v4.03H8.698v-4.03h13.047zm56.117 0a16.945 16.945 0 0 1 2.926 3.582l.264.447h-37.56v-4.03h34.37zm30.873-.01v4.03H95.684v-4.03h13.051zm39.157 0v4.03H134.84v-4.03h13.052zm-15.919 0l-1.396 4.03h-17.579l-1.396-4.03h20.371zm-50.778-8.452a16.963 16.963 0 0 1-2.82 3.674l-.37.355H43.49v-4.029h37.704zm-59.45 0v4.03H8.698v-4.03h13.047zm126.147-.013v4.031H134.84v-3.839l-1.33 3.839h-11.456l1.373-4.03h24.465zm-27.743 0l1.372 4.031h-11.456l-1.33-3.839v3.84H95.684v-4.032h24.465zm-98.404-8.448v4.03H8.698V17.9h13.047zm61.68 0c0 1.215-.134 2.399-.375 3.542l-.11.487H68.796V17.9h14.628zM56.538 17.9v4.03H43.491V17.9H56.54zm91.352-.015v4.03h-22.954l1.37-4.03h21.584zm-30.624 0l1.372 4.03H95.684v-4.03h21.583zM30.444 9.437v4.03H0v-4.03h30.444zm50.753 0a17.048 17.048 0 0 1 1.498 3.499l.15.531H34.794v-4.03h46.403zm75.396-.018v4.03h-28.776l1.373-4.03h27.403zm-42.207 0l1.372 4.031H86.982V9.42h27.404zM30.444.978v4.03H0V.977h30.444zm36.374 0c3.96 0 7.594 1.415 10.448 3.772l.303.257H34.794V.977h32.024zm89.775-.022v4.031h-25.894l1.372-4.03h24.522zm-45.098 0l1.372 4.03H86.982V.955h24.513z\"></path></svg></a></div><div class=\"bx--locale-btn__container\"><button aria-label=\"\" class=\"bx--locale-btn bx--btn bx--btn--secondary\" data-autoid=\"dds--locale-btn\" tabindex=\"0\" type=\"button\"><svg aria-hidden=\"true\" aria-label=\"Earth Filled Icon\" class=\"bx--btn__icon\" fill=\"currentColor\" focusable=\"false\" height=\"20\" preserveAspectRatio=\"xMidYMid meet\" role=\"img\" viewBox=\"0 0 32 32\" width=\"20\" xmlns=\"http://www.w3.org/2000/svg\"><path d=\"M16,2A14,14,0,1,0,30,16,14.0158,14.0158,0,0,0,16,2ZM4.02,16.394l1.3384.4458L7,19.3027v1.2831a1,1,0,0,0,.2929.7071L10,24v2.3765A11.9941,11.9941,0,0,1,4.02,16.394ZM16,28a11.9682,11.9682,0,0,1-2.5718-.2847L14,26l1.8046-4.5116a1,1,0,0,0-.0964-.9261l-1.4113-2.117A1,1,0,0,0,13.4648,18h-4.93L7.2866,16.1274,9.4141,14H11v2h2V13.2656l3.8682-6.7695-1.7364-.9922L14.2769,7H11.5352l-1.086-1.6289A11.861,11.861,0,0,1,20,4.7V8a1,1,0,0,0,1,1h1.4648a1,1,0,0,0,.8321-.4453l.8769-1.3154A12.0331,12.0331,0,0,1,26.8945,11H22.82a1,1,0,0,0-.9806.8039l-.7221,4.4708a1,1,0,0,0,.54,1.0539L25,19l.6851,4.0557A11.9793,11.9793,0,0,1,16,28Z\"></path></svg></button></div></div></section></footer></div><script defer=\"\" src=\"//1.www.s81c.com/common/stats/ibm-common.js\"></script><link href=\"//1.www.s81c.com/common/v18/css/forms.css\" rel=\"stylesheet\"/></div><script id=\"__NEXT_DATA__\" type=\"application/json\">{\"props\":{\"pageProps\":{\"data\":{\"_id\":\"7ec18a83cb1c595406965cba92f231c4\",\"_rev\":\"7499-78e0b8f21fc75dfc5875f29177c5b1ec\",\"type\":\"production\",\"sections\":{\"leadspace\":{\"data\":{\"content\":[{\"blocklink\":true,\"largeCol\":false,\"imagePos\":\"center right\",\"bgColor\":\"#000000\",\"ctaType\":\"links\",\"ctaColor\":\"gray-90\",\"webm\":\"\",\"gif\":\"\",\"videoImage\":\"\",\"ibmEvLinkTitle\":\"\",\"ibmEvGroup\":\"\",\"ibmEvName\":\"\",\"ibmEvSection\":\"L1\",\"ibmEvTarget\":\"\",\"lsPaddingTop\":\"ibm-pt-10\",\"lsPaddingBottom\":\"ibm-pb-10\",\"ctaOneVideoID\":\"\",\"ctaOneIcon\":\"forward\",\"videoID\":\"\",\"mp4\":\"\",\"type\":\"carbon\",\"ctaTwoVideoID\":\"\",\"ctaTwoIcon\":\"forward\",\"videoType\":\"kaltura\",\"alternate\":true,\"titleType\":\"bx--type-expressive-heading-06\",\"title\":\"AI-powered hybrid cloud software\\n\",\"copy\":\"Build, manage and modernize applications securely across any environment\",\"timestamp\":1631290845565,\"ctaOne\":\"Explore IBM Cloud Paks\",\"ctaOneLink\":\"https://www.ibm.com/cloud/paks?lnk=ushpv18l1\",\"image\":\"https://1.dam.s81c.com/public/content/dam/worldwide-content/homepage/ul/g/19/f0/20210517-ls-cloud-paks-25904-2304x983.jpg\",\"airtableID\":\"26104\",\"imageMobile\":\"https://1.dam.s81c.com/public/content/dam/worldwide-content/homepage/ul/g/ce/a9/20210517-ls-cloud-paks-25904-720x360.jpg\"}]}},\"newsflash\":{\"data\":{\"content\":[{\"active\":false,\"videoID\":\"\",\"bgColor\":\"#001d6c\",\"videoType\":\"kaltura\",\"sandbox\":false,\"stage\":false,\"ibmEvSection\":\"NF1\",\"title\":\"\\u003ci\\u003e\\u003cstrong\\u003eNew\\u003c/strong\\u003e: \\u003c/i\\u003e\",\"timestamp\":1631279354382,\"airtableID\":\"\",\"videoTitle\":\"\",\"link\":\"\"},{\"active\":false,\"videoID\":\"\",\"bgColor\":\"#001d6c\",\"videoType\":\"kaltura\",\"ibmEvSection\":\"NF2\",\"airtableID\":\"\",\"sandbox\":false,\"title\":\"\\u003ci\\u003e\\u003cstrong\\u003eNew\\u003c/strong\\u003e: \\u003c/i\\u003e\",\"stage\":false,\"timestamp\":1631217471443},{\"active\":false,\"videoID\":\"\",\"bgColor\":\"#001d6c\",\"videoType\":\"kaltura\",\"ibmEvSection\":\"NF3\",\"airtableID\":\"\",\"sandbox\":false,\"title\":\"\\u003ci\\u003e\\u003cstrong\\u003eNew\\u003c/strong\\u003e: \\u003c/i\\u003e\",\"stage\":false,\"timestamp\":1630673003896,\"videoDesc\":\"\",\"link\":\"\"},{\"active\":false,\"videoID\":\"\",\"bgColor\":\"#001d6c\",\"videoType\":\"kaltura\",\"ibmEvSection\":\"NF4\",\"airtableID\":\"\",\"sandbox\":false,\"title\":\"\\u003ci\\u003e\\u003cstrong\\u003eNew\\u003c/strong\\u003e: \\u003c/i\\u003e\",\"stage\":false,\"timestamp\":1628005754149,\"videoTitle\":\"\",\"videoDesc\":\"\",\"link\":\"\"},{\"active\":false,\"videoID\":\"\",\"bgColor\":\"#001d6c\",\"videoType\":\"kaltura\",\"ibmEvSection\":\"NF5\",\"airtableID\":\"\",\"sandbox\":false,\"title\":\"\\u003ci\\u003e\\u003cstrong\\u003eNew\\u003c/strong\\u003e: \\u003c/i\\u003e\",\"stage\":false,\"timestamp\":1631217415354},{\"active\":false,\"videoID\":\"\",\"bgColor\":\"#001d6c\",\"videoType\":\"kaltura\",\"ibmEvSection\":\"NF6\",\"airtableID\":\"\",\"sandbox\":false,\"title\":\"\\u003ci\\u003e\\u003cstrong\\u003eNew\\u003c/strong\\u003e: \\u003c/i\\u003e\",\"stage\":false,\"timestamp\":1631217430272,\"link\":\"\"},{\"active\":false,\"videoID\":\"\",\"bgColor\":\"#001d6c\",\"videoType\":\"kaltura\",\"ibmEvSection\":\"NF7\",\"airtableID\":\"\",\"sandbox\":false,\"title\":\"\\u003ci\\u003e\\u003cstrong\\u003eCollege students\\u003c/strong\\u003e: Help address global education inequality by joining the Education Innovation Case Competition\\u003c/i\\u003e\",\"stage\":false,\"timestamp\":1631217415355},{\"active\":false,\"videoID\":\"\",\"bgColor\":\"#001d6c\",\"videoType\":\"kaltura\",\"ibmEvSection\":\"NF8\",\"airtableID\":\"26121\",\"sandbox\":false,\"title\":\"\\u003ci\\u003e\\u003cstrong\\u003eApply now\\u003c/strong\\u003e: IBM Quantum summer 2022 internships are open to developers, engineers and researchers\\u003c/i\\u003e\",\"stage\":false,\"timestamp\":1631217417310,\"videoDesc\":\"\",\"link\":\"https://research.ibm.com/blog/2022-quantum-internships?lnk=ushpv18nf8\"}]}},\"mastheadbtn\":{\"data\":{\"content\":[{\"stage\":false,\"tool\":false,\"title\":\"Stay safe, y\\u0026#8217;all.\",\"link\":\"https://www.ibm.com/impact/covid-19/?lnk=ushpv18mb\",\"active\":false,\"timestamp\":1591040701251}]}},\"featured\":{\"data\":{\"content\":[{\"videoID\":\"\",\"videoImage\":\"\",\"videoType\":\"youtube\",\"ibmEvLinkTitle\":\"\",\"ibmEvGroup\":\"\",\"ibmEvName\":\"\",\"ibmEvSection\":\"F1\",\"ibmEvTarget\":\"\",\"damVideoMP4\":\"\",\"damVideoWebM\":\"\",\"icon\":\"forward\",\"image\":\"https://1.dam.s81c.com/public/content/dam/worldwide-content/homepage/ul/g/5b/de/2020913-cloud-pak-power10-b-26119-444x320.jpg\",\"eyebrow\":\"Next\\u0026#8209;generation IBM Power10\",\"title\":\"26118 Power10 launch\",\"button\":\"Fuel your ready-for-anything enterprise with a new generation of IBM processors\",\"copy\":\"Engineered for agility, it protects your data from core to\\u0026nbsp;cloud\",\"timestamp\":1631290917691,\"airtableID\":\"26118\",\"link\":\"https://www.ibm.com/it-infrastructure/power/power10?lnk=ushpv18f1\"},{\"videoImage\":\"\",\"videoType\":\"kaltura\",\"ibmEvLinkTitle\":\"\",\"ibmEvGroup\":\"\",\"ibmEvName\":\"\",\"ibmEvSection\":\"F2\",\"ibmEvTarget\":\"\",\"damVideoMP4\":\"\",\"damVideoWebM\":\"\",\"icon\":\"forward\",\"videoID\":\"\",\"title\":\"26063 IE Sekou Remy\",\"timestamp\":1631291143580,\"airtableID\":\"26063\",\"image\":\"https://1.dam.s81c.com/public/content/dam/worldwide-content/homepage/ul/g/74/53/20210830-sekou-remy-innovation-explanations-444x320.jpg\",\"copy\":\"Researcher Sekou Remy is using the power of AI to tackle COVID and malaria\\n\",\"eyebrow\":\"Superhuman decision\\u0026#8209;making\\n\",\"button\":\"Learn how AI helps scientists and policymakers drive better outcomes\",\"link\":\"https://www.ibm.com/thought-leadership/innovation-explanations/sekou-remy?lnk=ushpv18f2\"},{\"videoImage\":\"\",\"videoType\":\"youtube\",\"ibmEvLinkTitle\":\"\",\"ibmEvGroup\":\"\",\"ibmEvName\":\"\",\"ibmEvSection\":\"F3\",\"ibmEvTarget\":\"\",\"damVideoMP4\":\"\",\"damVideoWebM\":\"\",\"icon\":\"forward\",\"videoID\":\"\",\"title\":\"26079 IT modernization ebook\",\"timestamp\":1631291316514,\"airtableID\":\"26079\",\"copy\":\"Update your company\\u0026#8217;s technology, people and processes at your own\\u0026nbsp;pace\",\"image\":\"https://1.dam.s81c.com/public/content/dam/worldwide-content/homepage/ul/g/8e/34/2020913-it-modernization-ebook-26079444x320.jpg\",\"mobileImg\":\"https://1.dam.s81c.com/public/content/dam/worldwide-content/homepage/ul/g/9e/7c/20210823-f-swiss-re-case-study-26069.jpg\",\"eyebrow\":\"Build a culture of change\",\"link\":\"https://www.ibm.com/it-infrastructure/us-en/resources/technology-modernization-ebook/?lnk=ushpv18f3\",\"button\":\"Read the free IT modernization ebook to learn how to draw your roadmap\"},{\"videoID\":\"\",\"videoImage\":\"\",\"videoType\":\"youtube\",\"ibmEvLinkTitle\":\"\",\"ibmEvGroup\":\"\",\"ibmEvName\":\"\",\"ibmEvSection\":\"F4\",\"ibmEvTarget\":\"\",\"damVideoMP4\":\"\",\"damVideoWebM\":\"\",\"icon\":\"forward\",\"eyebrow\":\"Artificial intelligence vs. neonatal sepsis\",\"title\":\"26072 AI vs neonatal sepsis\",\"timestamp\":1631291475515,\"airtableID\":\"26072\",\"button\":\"Learn how IBM Cloud Pak for Data uses AI modeling to detect signs and trends\",\"image\":\"https://1.dam.s81c.com/public/content/dam/worldwide-content/homepage/ul/g/3f/97/2020913-ai-vs-neonatal-sepsis-26072-444x320.jpg\",\"copy\":\"The Innocens Project aims to help doctors quickly diagnose and treat preemies\",\"link\":\"https://www.ibm.com/blogs/journey-to-ai/2021/06/reduce-sepsis-related-neonate-mortality-rates-with-ai-and-edge-computing/?lnk=ushpv18f4\"},{\"videoID\":\"\",\"videoImage\":\"\",\"videoType\":\"youtube\",\"ibmEvLinkTitle\":\"\",\"ibmEvGroup\":\"\",\"ibmEvName\":\"\",\"ibmEvSection\":\"F5\",\"ibmEvTarget\":\"\",\"damVideoMP4\":\"\",\"damVideoWebM\":\"\",\"icon\":\"forward\",\"image\":\"https://1.dam.s81c.com/public/content/dam/worldwide-content/homepage/ul/g/b5/52/20200906-Power10-launch-26061-doublewide.jpg\",\"eyebrow\":\"Next-generation IBM Power10\\n\",\"title\":\"26118 Power10 launch\",\"button\":\"Fuel your ready-for-anything enterprise with a new generation of IBM processors\",\"copy\":\"Engineered for agility, it protects your data from core to cloud\\n\",\"timestamp\":1631046531402,\"airtableID\":\"26118\",\"link\":\"https://www.ibm.com/it-infrastructure/power/power10?lnk=ushpv18f1\"},{\"subcopy\":\"\",\"ibmEvLinkTitle\":\"\",\"ibmEvGroup\":\"\",\"ibmEvName\":\"\",\"ibmEvSection\":\"F6\",\"ibmEvTarget\":\"\",\"button_mobile\":\"t1\",\"videoID\":\"\",\"icon\":\"forward\",\"image\":\"\",\"title\":\"\",\"eyebrow\":\"\",\"copy\":\"\",\"button\":\"\",\"timestamp\":1606329949220,\"airtableID\":\"\",\"link\":\"\"},{\"videoImage\":\"\",\"videoType\":\"youtube\",\"ibmEvLinkTitle\":\"\",\"ibmEvGroup\":\"\",\"ibmEvName\":\"\",\"ibmEvSection\":\"F7\",\"ibmEvTarget\":\"\",\"damVideoMP4\":\"\",\"damVideoWebM\":\"\",\"icon\":\"forward\",\"videoID\":\"\",\"title\":\"\",\"link\":\"\",\"image\":\"\",\"eyebrow\":\"\",\"copy\":\"\",\"button\":\"\",\"timestamp\":1601925375625,\"airtableID\":\"\"},{\"videoID\":\"\",\"videoImage\":\"\",\"videoType\":\"youtube\",\"ibmEvLinkTitle\":\"\",\"ibmEvGroup\":\"\",\"ibmEvName\":\"\",\"ibmEvSection\":\"F8\",\"ibmEvTarget\":\"\",\"damVideoMP4\":\"\",\"damVideoWebM\":\"\",\"icon\":\"forward\",\"timestamp\":1606329895939,\"title\":\"25578 Podcast: AI for Advertising Privacy\",\"eyebrow\":\"AI, privacy and predictive advertising\\n\",\"button\":\"Hear how anonymized data can win customers on the Smart Talks podcast\",\"copy\":\"Targeted ads work, but users don\\u0026#8217;t want you to use their personal information\",\"image\":\"https://1.dam.s81c.com/public/content/dam/worldwide-content/homepage/ul/g/da/08/20201123-ai-online-security-podcast-444x320.jpg\",\"link\":\"https://www.ibm.com/thought-leadership/smart/talks/?episode=12\\u0026lnk=ushpv18f8\",\"airtableID\":\"25578\"},{\"videoImage\":\"\",\"videoType\":\"kaltura\",\"ibmEvLinkTitle\":\"\",\"ibmEvGroup\":\"\",\"ibmEvName\":\"\",\"ibmEvSection\":\"F9\",\"ibmEvTarget\":\"\",\"damVideoMP4\":\"\",\"damVideoWebM\":\"\",\"icon\":\"forward\",\"videoID\":\"\",\"title\":\"24654 Emerge Smarter\",\"image\":\"https://1.dam.s81c.com/m/68ae74cccd732125/original/07272020-f-emerge-smarter-444x320.jpg\",\"link\":\"https://www.ibm.com/impact/covid-19/business-solutions?lnk=ushpv18f1\",\"button\":\"Take action in six key areas\",\"eyebrow\":\"Emerge smarter\",\"copy\":\"Meet the future with resilience and agility by rethinking how your business works\",\"timestamp\":1595532304626,\"airtableID\":0},{\"subcopy\":\"\",\"ibmEvLinkTitle\":\"\",\"ibmEvGroup\":\"\",\"ibmEvName\":\"\",\"ibmEvSection\":\"F10\",\"ibmEvTarget\":\"\",\"button_mobile\":\"t1\",\"videoID\":\"\",\"icon\":\"forward\",\"image\":\"https://1.dam.s81c.com/m/123448a3d06b18ff/original/07202020-f-SAP-Power-24833-444x320.png\",\"title\":\"24833 SAP/Power Systems\",\"eyebrow\":\"Make your move to SAP S/4HANA\",\"copy\":\"Migration is fast and easy on the most powerful SAP\\u0026#8209;ready servers available\",\"button\":\"See how SAP on IBM Cloud checks all the boxes\",\"link\":\"https://www.ibm.com/cloud/sap?lnk=ushpv18f2\",\"timestamp\":1595532479480,\"airtableID\":0},{\"subcopy\":\"\",\"ibmEvLinkTitle\":\"\",\"ibmEvGroup\":\"\",\"ibmEvName\":\"\",\"ibmEvSection\":\"F11\",\"ibmEvTarget\":\"\",\"button_mobile\":\"t1\",\"videoID\":\"\",\"icon\":\"forward\",\"image\":\"https://1.dam.s81c.com/m/79b8a1e5fe5f0571/original/07212020-f-adobe-ibm-444x320.jpg\",\"title\":\"24856 Adobe\",\"eyebrow\":\"Partnership for CX transformation\",\"copy\":\"Protect sensitive data while delivering personalized customer experiences\",\"button\":\"Find out what this collaboration means for\\u0026nbsp;you\",\"link\":\"https://www.ibm.com/services/adobe-services?lnk=ushpv18f3\",\"timestamp\":1595532479480,\"airtableID\":0},{\"videoImage\":\"\",\"videoType\":\"kaltura\",\"ibmEvLinkTitle\":\"\",\"ibmEvGroup\":\"\",\"ibmEvName\":\"\",\"ibmEvSection\":\"F12\",\"ibmEvTarget\":\"\",\"damVideoMP4\":\"\",\"damVideoWebM\":\"\",\"icon\":\"forward\",\"videoID\":\"\",\"title\":\"24700 Environmental report\",\"eyebrow\":\"Bluer skies and cleaner water\",\"copy\":\"COVID hit \\u0026#8216;pause\\u0026#8217; on pollution, and the earth breathed its thanks\",\"button\":\"Learn what IBM is doing to sustain the momentum\",\"image\":\"https://1.dam.s81c.com/m/52b81d1b9bd3dd2e/original/07202020-f-environmental-report-24835-444x320.jpg\",\"link\":\"https://www.ibm.com/blogs/think/2020/07/30-years-and-counting-why-ibms-environmental-report-matters-more-than-ever?lnk=ushpv18f4\",\"timestamp\":1595079708595,\"airtableID\":0}]},\"config\":{\"type\":\"quatro\",\"totalCards\":8}},\"tech\":{\"data\":{\"content\":[{\"imageMobile\":\"10312017-n-episode6-starwars-600x260.jpg\",\"videoType\":\"kaltura\",\"ibmEvLinkTitle\":\"Dear Tech Sonoma\",\"ibmEvGroup\":\"Advertising\",\"ibmEvName\":\"Ad support\",\"ibmEvSection\":\"DT\",\"ibmEvTarget\":\"\",\"damVideoMP4\":\"\",\"damVideoWebM\":\"\",\"videoID\":\"\",\"icon\":\"forward\",\"copy\":\"\",\"link\":\"\",\"airtableID\":\"\",\"title\":\"\",\"eyebrow\":\"\",\"button\":\"\",\"image\":\"\",\"timestamp\":1598626304757},{\"icon\":\"forward\",\"videoID\":\"\",\"videoType\":\"kaltura\",\"ibmEvLinkTitle\":\"Network Consulting Services\",\"ibmEvGroup\":\"GTS\",\"ibmEvName\":\"service\",\"ibmEvSection\":\"BT\",\"ibmEvTarget\":\"\",\"damVideoMP4\":\"\",\"damVideoWebM\":\"\",\"title\":\"\",\"eyebrow\":\"\",\"image\":\"\",\"copy\":\"\",\"button\":\"\",\"link\":\"\",\"timestamp\":1598626317181,\"airtableID\":\"\"},{\"videoType\":\"kaltura\",\"ibmEvLinkTitle\":\"Systems TechU Las Vegas\",\"ibmEvGroup\":\"STG\",\"ibmEvName\":\"event\",\"ibmEvSection\":\"ST\",\"ibmEvTarget\":\"\",\"damVideoMP4\":\"\",\"damVideoWebM\":\"\",\"videoID\":\"\",\"icon\":\"play\",\"airtableID\":\"\",\"title\":\"\",\"copy\":\"\",\"eyebrow\":\"\",\"link\":\"\",\"image\":\"\",\"button\":\"\",\"timestamp\":1598626329298}]}},\"trials\":{\"data\":{\"content\":[{\"subcopy\":\"\",\"ibmEvLinkTitle\":\"\",\"ibmEvGroup\":\"\",\"ibmEvName\":\"\",\"ibmEvSection\":\"T1\",\"ibmEvTarget\":\"\",\"button_mobile\":\"\",\"icon\":\"forward\",\"timestamp\":1631210666716,\"title\":\"1090 IBM Cloud Pak for Integration\",\"airtableID\":\"1090\",\"button\":\"Start your free trial now\",\"copy\":\"Level up your integration architecture and AI augmentation\",\"eyebrow\":\"IBM Cloud Pak for Integration\",\"link\":\"https://www.ibm.com/cloud/cloud-pak-for-integration?lnk=ushpv18t1\\u0026lnk2=trial_CloudPakInt\\u0026psrc=none\\u0026pexp=def\",\"image\":\"https://1.dam.s81c.com/public/content/dam/worldwide-content/homepage/ul/g/25/ff/cloud-pak-for-integration-444x254.png\"},{\"icon\":\"forward\",\"videoID\":\"\",\"videoImage\":\"\",\"videoType\":\"youtube\",\"ibmEvLinkTitle\":\"\",\"ibmEvGroup\":\"\",\"ibmEvName\":\"\",\"ibmEvSection\":\"T2\",\"ibmEvTarget\":\"\",\"damVideoMP4\":\"\",\"damVideoWebM\":\"\",\"timestamp\":1631291636471,\"title\":\"1092 IBM Micromedex with Watson\",\"airtableID\":\"1092\",\"button\":\"Register for a free trial\",\"copy\":\"Use AI for quick access to evidence\\u0026#8209;based clinical\\u0026nbsp;data\",\"eyebrow\":\"IBM Micromedex with Watson\",\"link\":\"https://www.ibm.com/products/micromedex-with-watson?lnk=ushpv18t2\\u0026psrc=none\\u0026pexp=def\\u0026lnk2=trial_MicromedexWat\",\"image\":\"https://1.dam.s81c.com/public/content/dam/worldwide-content/homepage/ul/g/57/ad/Micromodex-red-book-23404-700x420.png\"},{\"subcopy\":\"\",\"ibmEvLinkTitle\":\"\",\"ibmEvGroup\":\"\",\"ibmEvName\":\"\",\"ibmEvSection\":\"T3\",\"ibmEvTarget\":\"\",\"button_mobile\":\"T4\",\"timestamp\":1631291662108,\"airtableID\":\"1093\",\"title\":\"1093 IBM Cognos Analytics\",\"image\":\"https://1.dam.s81c.com/public/content/dam/worldwide-content/homepage/ul/g/6a/a5/Cognos-Analytics-20626-700x420.png\",\"eyebrow\":\"IBM Cognos Analytics\",\"copy\":\"Unearth hidden insights with personalized analytics driven by\\u0026nbsp;AI\",\"button\":\"Get a 30-day trial\",\"link\":\"https://www.ibm.com/products/cognos-analytics?lnk=ushpv18t3\\u0026lnk2=trial_CogAnalytics\\u0026psrc=none\\u0026pexp=def\"},{\"subcopy\":\"\",\"ibmEvLinkTitle\":\"\",\"ibmEvGroup\":\"\",\"ibmEvName\":\"\",\"ibmEvSection\":\"T4\",\"ibmEvTarget\":\"\",\"button_mobile\":\"T2\",\"icon\":\"forward\",\"timestamp\":1631282166445,\"title\":\"1094 IBM Cloud for VMWare Solutions\",\"airtableID\":\"1094\",\"button\":\"Try it with a \\u0026#36;500 credit\",\"copy\":\"Seamlessly migrate or deploy VMware workloads to the cloud\",\"eyebrow\":\"IBM Cloud for VMWare Solutions\",\"image\":\"https://1.dam.s81c.com/public/content/dam/worldwide-content/homepage/ul/g/54/79/IBM-Cloud-23059-700x420.png\",\"link\":\"https://www.ibm.com/cloud/vmware/shared?lnk=ushpv18t4\\u0026lnk2=trial_VMware\\u0026psrc=none\\u0026pexp=def\"}]}},\"contentspotlight\":{\"data\":{\"content\":[{\"alternate\":true,\"ctaColor\":\"red-50\",\"ibmEvLinkTitle\":\"\",\"ibmEvGroup\":\"\",\"ibmEvName\":\"case study\",\"ibmEvSection\":\"CS1\",\"ibmEvTarget\":\"\",\"imageMobile\":\"\",\"damVideoMP4\":\"\",\"damVideoWebM\":\"\",\"ctaCopyThree\":\"\",\"ctaLinkTwoThree\":\"\",\"imagePos\":\"center center\",\"copyTwo\":\"\",\"videoType\":\"kaltura\",\"eyebrow\":\"26086 Citi\",\"airtableID\":\"26086\",\"videoID\":\"1_hpgsclrk\",\"mobileColumnHalf\":true,\"timestamp\":1631292110355,\"ctaLinkOne\":\"https://www.ibm.com/blogs/journey-to-ai/2021/07/citi-transforms-critical-internal-audit-with-machine-learning-nlp-and-ai/?lnk=ushpv18cs1\",\"copyOne\":\"Automation transforms the daily work of 2,500 auditors through AI and machine learning\",\"title\":\"\\u0026#8216;The audit of the future\\u0026#8217;\",\"ctaCopyOne\":\"Explore Citi\\u0026#8217;s innovative use of Cloud Pak for Data and Watson Discovery\",\"image\":\"https://1.dam.s81c.com/public/content/dam/worldwide-content/homepage/ul/g/5d/f1/2020913-citi-internal-audit-26086-1042x1130.jpg\"},{\"alternate\":true,\"image\":\"https://1.dam.s81c.com/public/content/dam/worldwide-content/homepage/ul/g/ea/ca/cs-hub-logos-k-1042x1130.png\",\"ctaColor\":\"red-50\",\"videoID\":\"\",\"videoType\":\"youtube\",\"ibmEvLinkTitle\":\"\",\"ibmEvGroup\":\"\",\"ibmEvName\":\"case study\",\"ibmEvSection\":\"CS2\",\"ibmEvTarget\":\"\",\"imageMobile\":\"\",\"damVideoMP4\":\"\",\"damVideoWebM\":\"\",\"ctaCopyThree\":\"\",\"ctaLinkTwoThree\":\"\",\"imagePos\":\"center center\",\"eyebrow\":\"25339\",\"title\":\"Client success stories\",\"ctaCopyTwo\":\"\",\"ctaCopyOne\":\"Learn how industry leaders put smart to work\",\"ctaLinkTwo\":\"\",\"ctaLinkOne\":\"https://www.ibm.com/case-studies/search?search\\u0026lnk=ushpv18cs2\",\"copyOne\":\"\",\"copyTwo\":\"\",\"timestamp\":1630937277264,\"airtableID\":\"25339\",\"mobileColumnHalf\":true}]},\"config\":{\"type\":\"dos\"}},\"thinknews\":{\"data\":{\"content\":[{\"startHour\":\"19\",\"title1\":\"IBM Services\",\"title2\":\"IBM and Red Hat\",\"link2\":\"https://newsroom.ibm.com/2020-05-05-IBM-and-Red-Hat-Launch-New-Edge-Computing-Solutions-for-the-5G-Era?lnk=ushpv18Th2\",\"subhead1\":\"Create new revenue sources, improve efficiency and ensure IT delivers peak performance\",\"link1\":\"https://www.ibm.com/services?lnk=ushpv18Th1\",\"title4\":\"Think 2020 news\",\"subhead4\":\"Find all news and products announced at Think \\u0026mdash; and more\",\"link4\":\"https://newsroom.ibm.com/think?lnk=ushpv18Th4\",\"startDate\":\"05-06\",\"startMinute\":\"15\",\"subhead2\":\"New offerings pave the way for businesses to capitalize on edge and\\u0026nbsp;5G\",\"title3\":\"Women leaders in AI\",\"subhead3\":\"30 leaders from 13 countries who are shaping the future of AI\",\"link3\":\"https://newsroom.ibm.com/2020-05-06-Annual-IBM-List-Celebrates-Global-Women-Leaders-Shaping-the-Future-of-Artificial-Intelligence?lnk=ushpv18Th3\",\"timestamp\":1588793069185},{\"title4\":\"Think 2020 news\",\"subhead4\":\"Find all news and products announced at Think \\u0026mdash; and more\",\"link4\":\"https://newsroom.ibm.com/think?lnk=ushpv18Th4\",\"startDate\":\"05-06\",\"title1\":\"Smarter health\",\"subhead1\":\"Bringing data, technology and expertise together to transform health\",\"link1\":\"https://www.ibm.com/watson-health?lnk=ushpv18Th1\",\"title2\":\"IBM Cloud\",\"subhead2\":\"IBM Cloud with Red Hat: the most open and secure public cloud for business\",\"link2\":\"https://www.ibm.com/cloud?lnk=ushpv18Th2\",\"title3\":\"IBM Blockchain\",\"subhead3\":\"We need a more dependable global supply chain. IBM can help. \",\"link3\":\"https://www.ibm.com/blockchain?lnk=ushpv18Th3\",\"startHour\":\"14\",\"startMinute\":\"00\",\"timestamp\":1588787382369},{\"startHour\":\"20\",\"title1\":\"IBM Services\",\"title2\":\"Red Hat Marketplace\",\"link2\":\"https://developer.ibm.com/blogs/build-on-red-hat-marketplace/?lnk=ushpv18Th2\",\"subhead1\":\"Create new revenue sources, improve efficiency and ensure IT delivers peak performance\",\"link1\":\"https://www.ibm.com/services?lnk=ushpv18Th1\",\"title4\":\"Think 2020 news\",\"subhead4\":\"Find all news and products announced at Think \\u0026mdash; and more\",\"link4\":\"https://newsroom.ibm.com/think?lnk=ushpv18Th4\",\"startDate\":\"05-06\",\"startMinute\":\"00\",\"subhead2\":\"A simpler way to buy, manage and deploy certified software to any cloud\",\"title3\":\"Computing consortium\",\"subhead3\":\"The world\\u0026#8217;s fastest supercomputers join the search for a COVID\\u0026#8209;19 vaccine\",\"link3\":\"https://newsroom.ibm.com/IBM-helps-bring-supercomputers-into-the-global-fight-against-COVID-19?lnk=ushpv18Th3\",\"timestamp\":1588793412993},{\"title4\":\"Think 2020 news\",\"subhead4\":\"Find all news and products announced at Think \\u0026mdash; and more\",\"link4\":\"https://newsroom.ibm.com/think?lnk=ushpv18Th4\",\"startDate\":\"05-06\",\"startHour\":\"14\",\"title1\":\"IBM Watson Assistant\",\"subhead1\":\"Deliver responses to COVID-19 questions with U.S. CDC guidance\",\"link1\":\"https://www.ibm.com/watson/covid-response?lnk=ushpv18Th1\",\"startMinute\":\"40\",\"title2\":\"Open P-TECH\",\"subhead2\":\"Free learning events and resources for students, parents and teachers\",\"link2\":\"https://newsroom.ibm.com/2020-05-05-IBM-Launches-Open-P-TECH-Globally-Free-platform-focused-on-workplace-learning-and-skills-will-be-offered-in-English-Portuguese-and-Spanish?lnk=ushpv18Th2\",\"title3\":\"IBM Quantum Challenge\",\"subhead3\":\"Programming exercises on real quantum computers \\u0026mdash; join in now\",\"link3\":\"https://www.ibm.com/blogs/research/2020/04/ibm-quantum-challenge/?lnk=ushpv18Th3\",\"timestamp\":1588792534368},{\"startHour\":\"20\",\"title4\":\"Think 2020 news\",\"subhead4\":\"Find all news and products announced at Think \\u0026mdash; and more\",\"link4\":\"https://newsroom.ibm.com/think?lnk=ushpv18Th4\",\"startDate\":\"05-06\",\"title2\":\"Computing consortium\",\"subhead2\":\"The world\\u0026#8217;s fastest supercomputers join the search for a COVID\\u0026#8209;19 vaccine\",\"link2\":\"https://newsroom.ibm.com/IBM-helps-bring-supercomputers-into-the-global-fight-against-COVID-19?lnk=ushpv18Th2\",\"subhead1\":\"How AI is driving the new industrial revolution\",\"link1\":\"https://www.ibm.com/blogs/think/2020/03/how-ai-is-driving-the-new-industrial-revolution/?lnk=ushpv18Th1\",\"title3\":\"Watson AIOps\",\"subhead3\":\"Automate IT operations to increase resiliency and lower costs\",\"link3\":\"https://newsroom.ibm.com/2020-05-05-IBM-Unveils-New-AI-Designed-to-Help-CIOs-Automate-IT-Operations-for-Greater-Resiliency-and-Lower-Costs?lnk=ushpv18Th3\",\"title1\":\"Rapid AI adoption\",\"startMinute\":\"15\",\"timestamp\":1588793533710},{\"title4\":\"Think 2020 news\",\"subhead4\":\"Find all news and products announced at Think \\u0026mdash; and more\",\"link4\":\"https://newsroom.ibm.com/think?lnk=ushpv18Th4\",\"startDate\":\"05-06\",\"title2\":\"IBM Cloud\",\"subhead2\":\"IBM Cloud with Red Hat: the most open and secure public cloud for business\",\"link2\":\"https://www.ibm.com/cloud?lnk=ushpv18Th2\",\"title3\":\"IBM Blockchain\",\"subhead3\":\"We need a more dependable global supply chain. IBM can help. \",\"link3\":\"https://www.ibm.com/blockchain?lnk=ushpv18Th3\",\"startHour\":\"14\",\"startMinute\":\"25\",\"title1\":\"IBM Watson Assistant\",\"subhead1\":\"Deliver responses to COVID-19 questions with U.S. CDC guidance\",\"link1\":\"https://www.ibm.com/watson/covid-response?lnk=ushpv18Th1\",\"timestamp\":1588792543563},{\"title4\":\"Think 2020 news\",\"subhead4\":\"Find all news and products announced at Think \\u0026mdash; and more\",\"link4\":\"https://newsroom.ibm.com/think?lnk=ushpv18Th4\",\"startDate\":\"05-06\",\"title3\":\"PartnerWorld\",\"subhead3\":\"Learn about clear pathways to build, service and sell\",\"link3\":\"https://www.ibm.com/partnerworld/public/program-overview?lnk=ushpv18Th3\",\"title2\":\"Watson AIOps\",\"subhead2\":\"Automate IT operations to increase resiliency and lower costs\",\"link2\":\"https://www.ibm.com/watson/aiops?lnk=ushpv18Th2\",\"title1\":\"The new remote workforce\",\"subhead1\":\"Elevate your talent management for workforce resiliency\",\"link1\":\"https://www.ibm.com/talent-management/covid-19?lnk=ushpv18Th1\",\"startHour\":\"21\",\"startMinute\":\"00\",\"timestamp\":1588797765586},{\"title4\":\"Think 2020 news\",\"subhead4\":\"Find all news and products announced at Think \\u0026mdash; and more\",\"link4\":\"https://newsroom.ibm.com/think?lnk=ushpv18Th4\",\"startDate\":\"05-06\",\"title1\":\"IBM Watson Assistant\",\"subhead1\":\"Deliver responses to COVID-19 questions with U.S. CDC guidance\",\"link1\":\"https://www.ibm.com/watson/covid-response?lnk=ushpv18Th1\",\"title3\":\"IBM Quantum Challenge\",\"subhead3\":\"Programming exercises on real quantum computers \\u0026mdash; join in now\",\"link3\":\"https://www.ibm.com/blogs/research/2020/04/ibm-quantum-challenge/?lnk=ushpv18Th3\",\"startHour\":\"15\",\"startMinute\":\"00\",\"title2\":\"IBM and Red Hat\",\"subhead2\":\"New offerings pave the way for businesses to capitalize on edge and\\u0026nbsp;5G\",\"link2\":\"https://newsroom.ibm.com/2020-05-05-IBM-and-Red-Hat-Launch-New-Edge-Computing-Solutions-for-the-5G-Era?lnk=ushpv18Th2\",\"timestamp\":1588792543563},{\"title4\":\"Think 2020 news\",\"subhead4\":\"Find all news and products announced at Think \\u0026mdash; and more\",\"link4\":\"https://newsroom.ibm.com/think?lnk=ushpv18Th4\",\"startDate\":\"05-06\",\"subhead3\":\"Automate IT operations to increase resiliency and lower costs\",\"link3\":\"https://newsroom.ibm.com/2020-05-05-IBM-Unveils-New-AI-Designed-to-Help-CIOs-Automate-IT-Operations-for-Greater-Resiliency-and-Lower-Costs?lnk=ushpv18Th3\",\"startHour\":\"13\",\"title3\":\"Watson AIOps\",\"title2\":\"Open P-TECH\",\"subhead2\":\" Free learning events and resources for students, parents and teachers\",\"link2\":\"https://newsroom.ibm.com/2020-05-05-IBM-Launches-Open-P-TECH-Globally-Free-platform-focused-on-workplace-learning-and-skills-will-be-offered-in-English-Portuguese-and-Spanish?lnk=ushpv18Th2\",\"title1\":\"She can STEM\",\"subhead1\":\"If we want girls to succeed in STEM, we have to show them itâs possible\",\"link1\":\"https://www.ibm.com/thought-leadership/shecanstem/?lnk=ushpv18Th1\",\"startMinute\":\"15\",\"timestamp\":1588792534368},{\"startDate\":\"05-06\",\"startHour\":\"15\",\"startMinute\":\"01\",\"title1\":\"IBM Watson Assistant\",\"subhead1\":\"Deliver responses to COVID\\u0026#8209;19 questions with U.S. CDC guidance\",\"link1\":\"https://www.ibm.com/watson/covid-response?lnk=ushpv18Th1\",\"title2\":\"IBM and Red Hat\",\"subhead2\":\"New offerings pave the way for businesses to capitalize on edge and\\u0026nbsp;5G\",\"link2\":\"https://newsroom.ibm.com/2020-05-05-IBM-and-Red-Hat-Launch-New-Edge-Computing-Solutions-for-the-5G-Era?lnk=ushpv18Th2\",\"title3\":\"IBM Quantum Challenge\",\"subhead3\":\"Programming exercises on real quantum computers \\u0026mdash; join in now\",\"link3\":\"https://www.ibm.com/blogs/research/2020/04/ibm-quantum-challenge/?lnk=ushpv18Th3\",\"title4\":\"Think 2020 news\",\"subhead4\":\"Find all news and products announced at Think \\u0026mdash; and more\",\"link4\":\"https://newsroom.ibm.com/think?lnk=ushpv18Th4\",\"timestamp\":1588788721047}]}},\"big6LeadspaceCards\":{\"data\":{\"content\":[{\"title\":\"Work safe. Work smart.\",\"copy\":\"\",\"link\":\"https://www.ibm.com/smarter-business/work-safe?lnk=ushpv18cv1\",\"timestamp\":1591797887933},{\"title\":\"Engage customers anywhere with Watson\",\"copy\":\"\",\"link\":\"https://www.ibm.com/smarter-business/customer-experience?lnk=ushpv18cv2\",\"timestamp\":1591797833198},{\"title\":\"Enhance your IT resiliency and business continuity\",\"copy\":\"\",\"link\":\"https://www.ibm.com/services/business-continuity?lnk=ushpv18cv3\",\"timestamp\":1591797923124},{\"title\":\"Accelerate agility and efficiency with IBM Cloud\",\"copy\":\"\",\"link\":\"https://www.ibm.com/cloud/yourcloud?lnk=ushpv18cv4\",\"timestamp\":1591798189360},{\"title\":\"Protect against new cyber risks\",\"copy\":\"\",\"link\":\"https://www.ibm.com/security?lnk=ushpv18cv5\",\"timestamp\":1591990121847},{\"title\":\"Build resilient supply chains and operations\",\"copy\":\"\",\"link\":\"https://www.ibm.com/supply-chain?lnk=ushpv18cv6\",\"timestamp\":1591990130317}]}},\"certifications\":{\"data\":{\"content\":[{\"ibmEvSection\":\"tc1\",\"image\":\"https://1.dam.s81c.com/public/content/dam/worldwide-content/homepage/ul/g/0f/2f/20210913-center-for-cloud-training-26116.jpg\",\"eyebrow\":\"IBM Center for Cloud Training\",\"title\":\"26116 Center for Cloud Training\",\"button\":\"Get the credentials you need to compete and grow your career with role-based training\",\"timestamp\":1631292051442,\"airtableID\":\"26116\",\"link\":\"https://www.ibm.com/training/cloud?lnk=ushpv18tc1\",\"mobileImg\":\"https://1.dam.s81c.com/public/content/dam/worldwide-content/homepage/ul/g/0f/2f/20210913-center-for-cloud-training-26116.jpg\",\"copy\":\"Launch your new career with training right from your desktop\\n\"},{\"ibmEvSection\":\"tc2\",\"eyebrow\":\"IBM TechU: data protection\",\"title\":\"26117  IBM TechU Modern Data Protection\",\"button\":\"Learn how to establish a storage strategy for data protection in a hybrid cloud environment\",\"timestamp\":1631292074959,\"airtableID\":\"26117\",\"link\":\"https://www.ibm.com/training/course/TU00012G?lnk=ushpv18tc2\",\"mobileImg\":\"https://1.dam.s81c.com/public/content/dam/worldwide-content/homepage/ul/g/3a/f8/20210913-cert-tech-u-modern-data-protection-26117.png\",\"copy\":\"\\n\",\"image\":\"https://1.dam.s81c.com/public/content/dam/worldwide-content/homepage/ul/g/3a/f8/20210913-cert-tech-u-modern-data-protection-26117.png\"}]},\"config\":{\"enabled\":\"true\"}}}}},\"__N_SSG\":true},\"page\":\"/\",\"query\":{},\"buildId\":\"t0XI_SvTwtLvUoa-iP_L1\",\"assetPrefix\":\"/us-en\",\"isFallback\":false,\"dynamicIds\":[\"0v9E\",\"GaRW\",\"Yx+V\",\"E4ed\",\"HluU\"],\"gsp\":true}</script><script nomodule=\"\" src=\"/us-en/_next/static/chunks/polyfills-8a9ca68ce2f6a778e0e3.js\"></script><script async=\"\" src=\"/us-en/_next/static/chunks/12.702e733b0c0d59f22b4c.js\"></script><script async=\"\" src=\"/us-en/_next/static/chunks/17.9788ba91d4e361f18729.js\"></script><script async=\"\" src=\"/us-en/_next/static/chunks/14.8c5ef361f85a57d0dac6.js\"></script><script async=\"\" src=\"/us-en/_next/static/chunks/c8f7fe3b0e41be846d5687592cf2018ff6e22687.c69ae5862af97b0d669b.js\"></script><script async=\"\" src=\"/us-en/_next/static/chunks/16.f63486d2fe38b94f980a.js\"></script><script async=\"\" src=\"/us-en/_next/static/chunks/13.d5fc8f965189e4e3aece.js\"></script><script async=\"\" src=\"/us-en/_next/static/chunks/webpack-6c23e3718676ca1a1d36.js\"></script><script async=\"\" src=\"/us-en/_next/static/chunks/framework.9acfb6d543179d07991b.js\"></script><script async=\"\" src=\"/us-en/_next/static/chunks/commons.adb99aeee4c41d00e60e.js\"></script><script async=\"\" src=\"/us-en/_next/static/chunks/f6078781a05fe1bcb0902d23dbbb2662c8d200b3.52adfedbeb346ab0ce2b.js\"></script><script async=\"\" src=\"/us-en/_next/static/chunks/main-aa24c2b3a7779ac78cf1.js\"></script><script async=\"\" src=\"/us-en/_next/static/chunks/styles.7b27c848b04a5792aacf.js\"></script><script async=\"\" src=\"/us-en/_next/static/chunks/pages/_app-72dadb3994e2ca6fac70.js\"></script><script async=\"\" src=\"/us-en/_next/static/chunks/pages/index-54ad10d188496946ab02.js\"></script><script async=\"\" src=\"/us-en/_next/static/t0XI_SvTwtLvUoa-iP_L1/_buildManifest.js\"></script><script async=\"\" src=\"/us-en/_next/static/t0XI_SvTwtLvUoa-iP_L1/_ssgManifest.js\"></script><script src=\"/DBvVR9/cSHt9G/pR/DGe5/cz9YvW/OYXYkNJc/LlUCAg/MRp/uanoAKFsB\" type=\"text/javascript\"></script></body></html>"
      ]
     },
     "execution_count": 59,
     "metadata": {},
     "output_type": "execute_result"
    }
   ],
   "source": [
    "soup = BeautifulSoup(data,\"html5lib\")  # create a soup object using the variable 'data'\n",
    "soup"
   ]
  },
  {
   "cell_type": "markdown",
   "metadata": {},
   "source": [
    "Scrape all links\n"
   ]
  },
  {
   "cell_type": "code",
   "execution_count": 60,
   "metadata": {},
   "outputs": [
    {
     "name": "stdout",
     "output_type": "stream",
     "text": [
      "#main-content\n",
      "http://www.ibm.com\n",
      "https://www.ibm.com/cloud/paks?lnk=ushpv18l1\n",
      "https://www.ibm.com/it-infrastructure/power/power10?lnk=ushpv18f1\n",
      "https://www.ibm.com/thought-leadership/innovation-explanations/sekou-remy?lnk=ushpv18f2\n",
      "https://www.ibm.com/it-infrastructure/us-en/resources/technology-modernization-ebook/?lnk=ushpv18f3\n",
      "https://www.ibm.com/blogs/journey-to-ai/2021/06/reduce-sepsis-related-neonate-mortality-rates-with-ai-and-edge-computing/?lnk=ushpv18f4\n",
      "https://www.ibm.com/products/offers-and-discounts?link=ushpv18t5&lnk2=trial_mktpl_MPDISC\n",
      "https://www.ibm.com/cloud/cloud-pak-for-integration?lnk=ushpv18t1&lnk2=trial_CloudPakInt&psrc=none&pexp=def\n",
      "https://www.ibm.com/products/micromedex-with-watson?lnk=ushpv18t2&psrc=none&pexp=def&lnk2=trial_MicromedexWat\n",
      "https://www.ibm.com/products/cognos-analytics?lnk=ushpv18t3&lnk2=trial_CogAnalytics&psrc=none&pexp=def\n",
      "https://www.ibm.com/cloud/vmware/shared?lnk=ushpv18t4&lnk2=trial_VMware&psrc=none&pexp=def\n",
      "https://www.ibm.com/search?lnk=ushpv18srch&locale=en-us&q=\n",
      "https://www.ibm.com/products?lnk=ushpv18p1&lnk2=trial_mktpl&psrc=none&pexp=def\n",
      "https://www.ibm.com/cloud/hybrid?lnk=ushpv18pt14\n",
      "https://www.ibm.com/watson?lnk=ushpv18pt17\n",
      "https://www.ibm.com/it-infrastructure?lnk=ushpv18pt19\n",
      "https://www.ibm.com/us-en/products/categories?technologyTopics%5B0%5D%5B0%5D=cat.topic:Blockchain&isIBMOffering%5B0%5D=true&lnk=ushpv18pt4\n",
      "https://www.ibm.com/us-en/products/category/technology/security?lnk=ushpv18pt9\n",
      "https://www.ibm.com/us-en/products/category/technology/analytics?lnk=ushpv18pt1\n",
      "https://www.ibm.com/cloud/automation?lnk=ushpv18ct21\n",
      "https://www.ibm.com/quantum-computing?lnk=ushpv18pt16\n",
      "https://www.ibm.com/mysupport/s/?language=en_US&lnk=ushpv18ct11\n",
      "https://www.ibm.com/training/?lnk=ushpv18ct15\n",
      "https://developer.ibm.com/?lnk=ushpv18ct9\n",
      "https://www.ibm.com/garage?lnk=ushpv18pt18\n",
      "https://www.ibm.com/docs/en?lnk=ushpv18ct14\n",
      "https://www.redbooks.ibm.com/?lnk=ushpv18ct10\n",
      "https://www-03.ibm.com/employment/technicaltalent/developer/?lnk=ushpv18ct2\n",
      "https://www.ibm.com/training?link=ushpv18tc0\n",
      "https://www.ibm.com/training/cloud?lnk=ushpv18tc1\n",
      "https://www.ibm.com/training/course/TU00012G?lnk=ushpv18tc2\n",
      "https://www.ibm.com/\n"
     ]
    }
   ],
   "source": [
    "for link in soup.find_all('a',href=True):  # in html anchor/link is represented by the tag <a>\n",
    "\n",
    "    print(link.get('href'))\n"
   ]
  },
  {
   "cell_type": "markdown",
   "metadata": {},
   "source": [
    "## Scrape  all images  Tags\n"
   ]
  },
  {
   "cell_type": "code",
   "execution_count": 61,
   "metadata": {},
   "outputs": [
    {
     "name": "stdout",
     "output_type": "stream",
     "text": [
      "<img alt=\"\" aria-hidden=\"true\" role=\"presentation\" src=\"data:image/svg+xml;base64,PHN2ZyB3aWR0aD0iMTA1NSIgaGVpZ2h0PSI1MjcuNSIgeG1sbnM9Imh0dHA6Ly93d3cudzMub3JnLzIwMDAvc3ZnIiB2ZXJzaW9uPSIxLjEiLz4=\" style=\"max-width:100%;display:block;margin:0;border:none;padding:0\"/>\n",
      "data:image/svg+xml;base64,PHN2ZyB3aWR0aD0iMTA1NSIgaGVpZ2h0PSI1MjcuNSIgeG1sbnM9Imh0dHA6Ly93d3cudzMub3JnLzIwMDAvc3ZnIiB2ZXJzaW9uPSIxLjEiLz4=\n",
      "<img alt=\"leadspace mobile image\" class=\"ibm-resize\" decoding=\"async\" src=\"https://1.dam.s81c.com/public/content/dam/worldwide-content/homepage/ul/g/ce/a9/20210517-ls-cloud-paks-25904-720x360.jpg\" style=\"position:absolute;top:0;left:0;bottom:0;right:0;box-sizing:border-box;padding:0;border:none;margin:auto;display:block;width:0;height:0;min-width:100%;max-width:100%;min-height:100%;max-height:100%\"/>\n",
      "https://1.dam.s81c.com/public/content/dam/worldwide-content/homepage/ul/g/ce/a9/20210517-ls-cloud-paks-25904-720x360.jpg\n",
      "<img alt=\"\" aria-hidden=\"true\" role=\"presentation\" src=\"data:image/svg+xml;base64,PHN2ZyB3aWR0aD0iNDQwIiBoZWlnaHQ9IjMyMCIgeG1sbnM9Imh0dHA6Ly93d3cudzMub3JnLzIwMDAvc3ZnIiB2ZXJzaW9uPSIxLjEiLz4=\" style=\"max-width:100%;display:block;margin:0;border:none;padding:0\"/>\n",
      "data:image/svg+xml;base64,PHN2ZyB3aWR0aD0iNDQwIiBoZWlnaHQ9IjMyMCIgeG1sbnM9Imh0dHA6Ly93d3cudzMub3JnLzIwMDAvc3ZnIiB2ZXJzaW9uPSIxLjEiLz4=\n",
      "<img alt=\"Next&amp;#8209;generation IBM Power10\" class=\"ibm-resize ibm-ab-image featured-image\" decoding=\"async\" src=\"https://1.dam.s81c.com/public/content/dam/worldwide-content/homepage/ul/g/5b/de/2020913-cloud-pak-power10-b-26119-444x320.jpg\" style=\"position:absolute;top:0;left:0;bottom:0;right:0;box-sizing:border-box;padding:0;border:none;margin:auto;display:block;width:0;height:0;min-width:100%;max-width:100%;min-height:100%;max-height:100%\"/>\n",
      "https://1.dam.s81c.com/public/content/dam/worldwide-content/homepage/ul/g/5b/de/2020913-cloud-pak-power10-b-26119-444x320.jpg\n",
      "<img alt=\"\" aria-hidden=\"true\" role=\"presentation\" src=\"data:image/svg+xml;base64,PHN2ZyB3aWR0aD0iNDQwIiBoZWlnaHQ9IjMyMCIgeG1sbnM9Imh0dHA6Ly93d3cudzMub3JnLzIwMDAvc3ZnIiB2ZXJzaW9uPSIxLjEiLz4=\" style=\"max-width:100%;display:block;margin:0;border:none;padding:0\"/>\n",
      "data:image/svg+xml;base64,PHN2ZyB3aWR0aD0iNDQwIiBoZWlnaHQ9IjMyMCIgeG1sbnM9Imh0dHA6Ly93d3cudzMub3JnLzIwMDAvc3ZnIiB2ZXJzaW9uPSIxLjEiLz4=\n",
      "<img alt=\"Superhuman decision&amp;#8209;making\n",
      "\" class=\"ibm-resize ibm-ab-image featured-image\" decoding=\"async\" src=\"https://1.dam.s81c.com/public/content/dam/worldwide-content/homepage/ul/g/74/53/20210830-sekou-remy-innovation-explanations-444x320.jpg\" style=\"position:absolute;top:0;left:0;bottom:0;right:0;box-sizing:border-box;padding:0;border:none;margin:auto;display:block;width:0;height:0;min-width:100%;max-width:100%;min-height:100%;max-height:100%\"/>\n",
      "https://1.dam.s81c.com/public/content/dam/worldwide-content/homepage/ul/g/74/53/20210830-sekou-remy-innovation-explanations-444x320.jpg\n",
      "<img alt=\"\" aria-hidden=\"true\" role=\"presentation\" src=\"data:image/svg+xml;base64,PHN2ZyB3aWR0aD0iNDQwIiBoZWlnaHQ9IjMyMCIgeG1sbnM9Imh0dHA6Ly93d3cudzMub3JnLzIwMDAvc3ZnIiB2ZXJzaW9uPSIxLjEiLz4=\" style=\"max-width:100%;display:block;margin:0;border:none;padding:0\"/>\n",
      "data:image/svg+xml;base64,PHN2ZyB3aWR0aD0iNDQwIiBoZWlnaHQ9IjMyMCIgeG1sbnM9Imh0dHA6Ly93d3cudzMub3JnLzIwMDAvc3ZnIiB2ZXJzaW9uPSIxLjEiLz4=\n",
      "<img alt=\"Build a culture of change\" class=\"ibm-resize ibm-ab-image featured-image\" decoding=\"async\" src=\"https://1.dam.s81c.com/public/content/dam/worldwide-content/homepage/ul/g/8e/34/2020913-it-modernization-ebook-26079444x320.jpg\" style=\"position:absolute;top:0;left:0;bottom:0;right:0;box-sizing:border-box;padding:0;border:none;margin:auto;display:block;width:0;height:0;min-width:100%;max-width:100%;min-height:100%;max-height:100%\"/>\n",
      "https://1.dam.s81c.com/public/content/dam/worldwide-content/homepage/ul/g/8e/34/2020913-it-modernization-ebook-26079444x320.jpg\n",
      "<img alt=\"\" aria-hidden=\"true\" role=\"presentation\" src=\"data:image/svg+xml;base64,PHN2ZyB3aWR0aD0iNDQwIiBoZWlnaHQ9IjMyMCIgeG1sbnM9Imh0dHA6Ly93d3cudzMub3JnLzIwMDAvc3ZnIiB2ZXJzaW9uPSIxLjEiLz4=\" style=\"max-width:100%;display:block;margin:0;border:none;padding:0\"/>\n",
      "data:image/svg+xml;base64,PHN2ZyB3aWR0aD0iNDQwIiBoZWlnaHQ9IjMyMCIgeG1sbnM9Imh0dHA6Ly93d3cudzMub3JnLzIwMDAvc3ZnIiB2ZXJzaW9uPSIxLjEiLz4=\n",
      "<img alt=\"Artificial intelligence vs. neonatal sepsis\" class=\"ibm-resize ibm-ab-image featured-image\" decoding=\"async\" src=\"https://1.dam.s81c.com/public/content/dam/worldwide-content/homepage/ul/g/3f/97/2020913-ai-vs-neonatal-sepsis-26072-444x320.jpg\" style=\"position:absolute;top:0;left:0;bottom:0;right:0;box-sizing:border-box;padding:0;border:none;margin:auto;display:block;width:0;height:0;min-width:100%;max-width:100%;min-height:100%;max-height:100%\"/>\n",
      "https://1.dam.s81c.com/public/content/dam/worldwide-content/homepage/ul/g/3f/97/2020913-ai-vs-neonatal-sepsis-26072-444x320.jpg\n",
      "<img alt=\"\" aria-hidden=\"true\" role=\"presentation\" src=\"data:image/svg+xml;base64,PHN2ZyB3aWR0aD0iNDQwIiBoZWlnaHQ9IjI2MCIgeG1sbnM9Imh0dHA6Ly93d3cudzMub3JnLzIwMDAvc3ZnIiB2ZXJzaW9uPSIxLjEiLz4=\" style=\"max-width:100%;display:block;margin:0;border:none;padding:0\"/>\n",
      "data:image/svg+xml;base64,PHN2ZyB3aWR0aD0iNDQwIiBoZWlnaHQ9IjI2MCIgeG1sbnM9Imh0dHA6Ly93d3cudzMub3JnLzIwMDAvc3ZnIiB2ZXJzaW9uPSIxLjEiLz4=\n",
      "<img alt=\"IBM Cloud Pak for Integration\" class=\"ibm-resize ibm-ab-image trials-image\" decoding=\"async\" src=\"data:image/gif;base64,R0lGODlhAQABAIAAAAAAAP///yH5BAEAAAAALAAAAAABAAEAAAIBRAA7\" style=\"position:absolute;top:0;left:0;bottom:0;right:0;box-sizing:border-box;padding:0;border:none;margin:auto;display:block;width:0;height:0;min-width:100%;max-width:100%;min-height:100%;max-height:100%\"/>\n",
      "data:image/gif;base64,R0lGODlhAQABAIAAAAAAAP///yH5BAEAAAAALAAAAAABAAEAAAIBRAA7\n",
      "<img alt=\"\" aria-hidden=\"true\" role=\"presentation\" src=\"data:image/svg+xml;base64,PHN2ZyB3aWR0aD0iNDQwIiBoZWlnaHQ9IjI2MCIgeG1sbnM9Imh0dHA6Ly93d3cudzMub3JnLzIwMDAvc3ZnIiB2ZXJzaW9uPSIxLjEiLz4=\" style=\"max-width:100%;display:block;margin:0;border:none;padding:0\"/>\n",
      "data:image/svg+xml;base64,PHN2ZyB3aWR0aD0iNDQwIiBoZWlnaHQ9IjI2MCIgeG1sbnM9Imh0dHA6Ly93d3cudzMub3JnLzIwMDAvc3ZnIiB2ZXJzaW9uPSIxLjEiLz4=\n",
      "<img alt=\"IBM Micromedex with Watson\" class=\"ibm-resize ibm-ab-image trials-image\" decoding=\"async\" src=\"data:image/gif;base64,R0lGODlhAQABAIAAAAAAAP///yH5BAEAAAAALAAAAAABAAEAAAIBRAA7\" style=\"position:absolute;top:0;left:0;bottom:0;right:0;box-sizing:border-box;padding:0;border:none;margin:auto;display:block;width:0;height:0;min-width:100%;max-width:100%;min-height:100%;max-height:100%\"/>\n",
      "data:image/gif;base64,R0lGODlhAQABAIAAAAAAAP///yH5BAEAAAAALAAAAAABAAEAAAIBRAA7\n",
      "<img alt=\"\" aria-hidden=\"true\" role=\"presentation\" src=\"data:image/svg+xml;base64,PHN2ZyB3aWR0aD0iNDQwIiBoZWlnaHQ9IjI2MCIgeG1sbnM9Imh0dHA6Ly93d3cudzMub3JnLzIwMDAvc3ZnIiB2ZXJzaW9uPSIxLjEiLz4=\" style=\"max-width:100%;display:block;margin:0;border:none;padding:0\"/>\n",
      "data:image/svg+xml;base64,PHN2ZyB3aWR0aD0iNDQwIiBoZWlnaHQ9IjI2MCIgeG1sbnM9Imh0dHA6Ly93d3cudzMub3JnLzIwMDAvc3ZnIiB2ZXJzaW9uPSIxLjEiLz4=\n",
      "<img alt=\"IBM Cognos Analytics\" class=\"ibm-resize ibm-ab-image trials-image\" decoding=\"async\" src=\"data:image/gif;base64,R0lGODlhAQABAIAAAAAAAP///yH5BAEAAAAALAAAAAABAAEAAAIBRAA7\" style=\"position:absolute;top:0;left:0;bottom:0;right:0;box-sizing:border-box;padding:0;border:none;margin:auto;display:block;width:0;height:0;min-width:100%;max-width:100%;min-height:100%;max-height:100%\"/>\n",
      "data:image/gif;base64,R0lGODlhAQABAIAAAAAAAP///yH5BAEAAAAALAAAAAABAAEAAAIBRAA7\n",
      "<img alt=\"\" aria-hidden=\"true\" role=\"presentation\" src=\"data:image/svg+xml;base64,PHN2ZyB3aWR0aD0iNDQwIiBoZWlnaHQ9IjI2MCIgeG1sbnM9Imh0dHA6Ly93d3cudzMub3JnLzIwMDAvc3ZnIiB2ZXJzaW9uPSIxLjEiLz4=\" style=\"max-width:100%;display:block;margin:0;border:none;padding:0\"/>\n",
      "data:image/svg+xml;base64,PHN2ZyB3aWR0aD0iNDQwIiBoZWlnaHQ9IjI2MCIgeG1sbnM9Imh0dHA6Ly93d3cudzMub3JnLzIwMDAvc3ZnIiB2ZXJzaW9uPSIxLjEiLz4=\n",
      "<img alt=\"IBM Cloud for VMWare Solutions\" class=\"ibm-resize ibm-ab-image trials-image\" decoding=\"async\" src=\"data:image/gif;base64,R0lGODlhAQABAIAAAAAAAP///yH5BAEAAAAALAAAAAABAAEAAAIBRAA7\" style=\"position:absolute;top:0;left:0;bottom:0;right:0;box-sizing:border-box;padding:0;border:none;margin:auto;display:block;width:0;height:0;min-width:100%;max-width:100%;min-height:100%;max-height:100%\"/>\n",
      "data:image/gif;base64,R0lGODlhAQABAIAAAAAAAP///yH5BAEAAAAALAAAAAABAAEAAAIBRAA7\n",
      "<img alt=\"IBM Center for Cloud Training\" class=\"bx--image__img bx--card__img\" src=\"https://1.dam.s81c.com/public/content/dam/worldwide-content/homepage/ul/g/0f/2f/20210913-center-for-cloud-training-26116.jpg\"/>\n",
      "https://1.dam.s81c.com/public/content/dam/worldwide-content/homepage/ul/g/0f/2f/20210913-center-for-cloud-training-26116.jpg\n",
      "<img alt=\"IBM TechU: data protection\" class=\"bx--image__img bx--card__img\" src=\"https://1.dam.s81c.com/public/content/dam/worldwide-content/homepage/ul/g/3a/f8/20210913-cert-tech-u-modern-data-protection-26117.png\"/>\n",
      "https://1.dam.s81c.com/public/content/dam/worldwide-content/homepage/ul/g/3a/f8/20210913-cert-tech-u-modern-data-protection-26117.png\n"
     ]
    }
   ],
   "source": [
    "for link in soup.find_all('img'):# in html image is represented by the tag <img>\n",
    "    print(link)\n",
    "    print(link.get('src'))"
   ]
  },
  {
   "cell_type": "markdown",
   "metadata": {},
   "source": [
    "## Scrape data from HTML tables\n"
   ]
  },
  {
   "cell_type": "code",
   "execution_count": 62,
   "metadata": {},
   "outputs": [],
   "source": [
    "#The below url contains an html table with data about colors and color codes.\n",
    "url = \"https://cf-courses-data.s3.us.cloud-object-storage.appdomain.cloud/IBM-DA0321EN-SkillsNetwork/labs/datasets/HTMLColorCodes.html\""
   ]
  },
  {
   "cell_type": "markdown",
   "metadata": {},
   "source": [
    "Before proceeding to scrape a web site, you need to examine the contents, and the way data is organized on the website. Open the above url in your browser and check how many rows and columns are there in the color table.\n"
   ]
  },
  {
   "cell_type": "code",
   "execution_count": 63,
   "metadata": {},
   "outputs": [],
   "source": [
    "# get the contents of the webpage in text format and store in a variable called data\n",
    "data  = requests.get(url).text"
   ]
  },
  {
   "cell_type": "code",
   "execution_count": 64,
   "metadata": {},
   "outputs": [],
   "source": [
    "soup = BeautifulSoup(data,\"html5lib\")"
   ]
  },
  {
   "cell_type": "code",
   "execution_count": 65,
   "metadata": {},
   "outputs": [],
   "source": [
    "#find a html table in the web page\n",
    "table = soup.find('table') # in html table is represented by the tag <table>"
   ]
  },
  {
   "cell_type": "code",
   "execution_count": 66,
   "metadata": {},
   "outputs": [
    {
     "name": "stdout",
     "output_type": "stream",
     "text": [
      "Color Name--->None\n",
      "lightsalmon--->#FFA07A\n",
      "salmon--->#FA8072\n",
      "darksalmon--->#E9967A\n",
      "lightcoral--->#F08080\n",
      "coral--->#FF7F50\n",
      "tomato--->#FF6347\n",
      "orangered--->#FF4500\n",
      "gold--->#FFD700\n",
      "orange--->#FFA500\n",
      "darkorange--->#FF8C00\n",
      "lightyellow--->#FFFFE0\n",
      "lemonchiffon--->#FFFACD\n",
      "papayawhip--->#FFEFD5\n",
      "moccasin--->#FFE4B5\n",
      "peachpuff--->#FFDAB9\n",
      "palegoldenrod--->#EEE8AA\n",
      "khaki--->#F0E68C\n",
      "darkkhaki--->#BDB76B\n",
      "yellow--->#FFFF00\n",
      "lawngreen--->#7CFC00\n",
      "chartreuse--->#7FFF00\n",
      "limegreen--->#32CD32\n",
      "lime--->#00FF00\n",
      "forestgreen--->#228B22\n",
      "green--->#008000\n",
      "powderblue--->#B0E0E6\n",
      "lightblue--->#ADD8E6\n",
      "lightskyblue--->#87CEFA\n",
      "skyblue--->#87CEEB\n",
      "deepskyblue--->#00BFFF\n",
      "lightsteelblue--->#B0C4DE\n",
      "dodgerblue--->#1E90FF\n"
     ]
    }
   ],
   "source": [
    "#Get all rows from the table\n",
    "for row in table.find_all('tr'): # in html table row is represented by the tag <tr>\n",
    "    # Get all columns in each row.\n",
    "    cols = row.find_all('td') # in html a column is represented by the tag <td>\n",
    "    color_name = cols[2].string # store the value in column 3 as color_name\n",
    "    color_code = cols[3].string # store the value in column 4 as color_code\n",
    "    print(\"{}--->{}\".format(color_name,color_code))"
   ]
  },
  {
   "cell_type": "markdown",
   "metadata": {},
   "source": [
    "## Scrape data from HTML tables into a DataFrame using BeautifulSoup and Pandas\n"
   ]
  },
  {
   "cell_type": "code",
   "execution_count": 67,
   "metadata": {},
   "outputs": [],
   "source": [
    "import pandas as pd"
   ]
  },
  {
   "cell_type": "code",
   "execution_count": 68,
   "metadata": {},
   "outputs": [],
   "source": [
    "#The below url contains html tables with data about world population.\n",
    "url = \"https://en.wikipedia.org/wiki/World_population\""
   ]
  },
  {
   "cell_type": "markdown",
   "metadata": {},
   "source": [
    "Before proceeding to scrape a web site, you need to examine the contents, and the way data is organized on the website. Open the above url in your browser and check the tables on the webpage.\n"
   ]
  },
  {
   "cell_type": "code",
   "execution_count": 69,
   "metadata": {},
   "outputs": [],
   "source": [
    "# get the contents of the webpage in text format and store in a variable called data\n",
    "data  = requests.get(url).text"
   ]
  },
  {
   "cell_type": "code",
   "execution_count": 70,
   "metadata": {},
   "outputs": [],
   "source": [
    "soup = BeautifulSoup(data,\"html5lib\")"
   ]
  },
  {
   "cell_type": "code",
   "execution_count": 71,
   "metadata": {},
   "outputs": [],
   "source": [
    "#find all html tables in the web page\n",
    "tables = soup.find_all('table') # in html table is represented by the tag <table>"
   ]
  },
  {
   "cell_type": "code",
   "execution_count": 72,
   "metadata": {},
   "outputs": [
    {
     "data": {
      "text/plain": [
       "26"
      ]
     },
     "execution_count": 72,
     "metadata": {},
     "output_type": "execute_result"
    }
   ],
   "source": [
    "# we can see how many tables were found by checking the length of the tables list\n",
    "len(tables)"
   ]
  },
  {
   "cell_type": "markdown",
   "metadata": {},
   "source": [
    "Assume that we are looking for the `10 most densly populated countries` table, we can look through the tables list and find the right one we are look for based on the data in each table or we can search for the table name if it is in the table but this option might not always work.\n"
   ]
  },
  {
   "cell_type": "code",
   "execution_count": 73,
   "metadata": {},
   "outputs": [
    {
     "name": "stdout",
     "output_type": "stream",
     "text": [
      "5\n"
     ]
    }
   ],
   "source": [
    "for index,table in enumerate(tables):\n",
    "    if (\"10 most densely populated countries\" in str(table)):\n",
    "        table_index = index\n",
    "print(table_index)"
   ]
  },
  {
   "cell_type": "markdown",
   "metadata": {},
   "source": [
    "See if you can locate the table name of the table, `10 most densly populated countries`, below.\n"
   ]
  },
  {
   "cell_type": "code",
   "execution_count": 74,
   "metadata": {},
   "outputs": [
    {
     "name": "stdout",
     "output_type": "stream",
     "text": [
      "<table class=\"wikitable sortable\" style=\"text-align:right\">\n",
      " <caption>\n",
      "  10 most densely populated countries\n",
      "  <small>\n",
      "   (with population above 5 million)\n",
      "  </small>\n",
      " </caption>\n",
      " <tbody>\n",
      "  <tr>\n",
      "   <th>\n",
      "    Rank\n",
      "   </th>\n",
      "   <th>\n",
      "    Country\n",
      "   </th>\n",
      "   <th>\n",
      "    Population\n",
      "   </th>\n",
      "   <th>\n",
      "    Area\n",
      "    <br/>\n",
      "    <small>\n",
      "     (km\n",
      "     <sup>\n",
      "      2\n",
      "     </sup>\n",
      "     )\n",
      "    </small>\n",
      "   </th>\n",
      "   <th>\n",
      "    Density\n",
      "    <br/>\n",
      "    <small>\n",
      "     (pop/km\n",
      "     <sup>\n",
      "      2\n",
      "     </sup>\n",
      "     )\n",
      "    </small>\n",
      "   </th>\n",
      "  </tr>\n",
      "  <tr>\n",
      "   <td>\n",
      "    1\n",
      "   </td>\n",
      "   <td align=\"left\">\n",
      "    <span class=\"flagicon\">\n",
      "     <img alt=\"\" class=\"thumbborder\" data-file-height=\"3456\" data-file-width=\"5184\" decoding=\"async\" height=\"15\" src=\"//upload.wikimedia.org/wikipedia/commons/thumb/4/48/Flag_of_Singapore.svg/23px-Flag_of_Singapore.svg.png\" srcset=\"//upload.wikimedia.org/wikipedia/commons/thumb/4/48/Flag_of_Singapore.svg/35px-Flag_of_Singapore.svg.png 1.5x, //upload.wikimedia.org/wikipedia/commons/thumb/4/48/Flag_of_Singapore.svg/45px-Flag_of_Singapore.svg.png 2x\" width=\"23\"/>\n",
      "    </span>\n",
      "    <a href=\"/wiki/Singapore\" title=\"Singapore\">\n",
      "     Singapore\n",
      "    </a>\n",
      "   </td>\n",
      "   <td>\n",
      "    5,704,000\n",
      "   </td>\n",
      "   <td>\n",
      "    710\n",
      "   </td>\n",
      "   <td>\n",
      "    8,033\n",
      "   </td>\n",
      "  </tr>\n",
      "  <tr>\n",
      "   <td>\n",
      "    2\n",
      "   </td>\n",
      "   <td align=\"left\">\n",
      "    <span class=\"flagicon\">\n",
      "     <img alt=\"\" class=\"thumbborder\" data-file-height=\"600\" data-file-width=\"1000\" decoding=\"async\" height=\"14\" src=\"//upload.wikimedia.org/wikipedia/commons/thumb/f/f9/Flag_of_Bangladesh.svg/23px-Flag_of_Bangladesh.svg.png\" srcset=\"//upload.wikimedia.org/wikipedia/commons/thumb/f/f9/Flag_of_Bangladesh.svg/35px-Flag_of_Bangladesh.svg.png 1.5x, //upload.wikimedia.org/wikipedia/commons/thumb/f/f9/Flag_of_Bangladesh.svg/46px-Flag_of_Bangladesh.svg.png 2x\" width=\"23\"/>\n",
      "    </span>\n",
      "    <a href=\"/wiki/Bangladesh\" title=\"Bangladesh\">\n",
      "     Bangladesh\n",
      "    </a>\n",
      "   </td>\n",
      "   <td>\n",
      "    171,340,000\n",
      "   </td>\n",
      "   <td>\n",
      "    143,998\n",
      "   </td>\n",
      "   <td>\n",
      "    1,190\n",
      "   </td>\n",
      "  </tr>\n",
      "  <tr>\n",
      "   <td>\n",
      "    3\n",
      "   </td>\n",
      "   <td align=\"left\">\n",
      "    <span class=\"flagicon\">\n",
      "     <img alt=\"\" class=\"thumbborder\" data-file-height=\"600\" data-file-width=\"900\" decoding=\"async\" height=\"15\" src=\"//upload.wikimedia.org/wikipedia/commons/thumb/5/59/Flag_of_Lebanon.svg/23px-Flag_of_Lebanon.svg.png\" srcset=\"//upload.wikimedia.org/wikipedia/commons/thumb/5/59/Flag_of_Lebanon.svg/35px-Flag_of_Lebanon.svg.png 1.5x, //upload.wikimedia.org/wikipedia/commons/thumb/5/59/Flag_of_Lebanon.svg/45px-Flag_of_Lebanon.svg.png 2x\" width=\"23\"/>\n",
      "    </span>\n",
      "    <a href=\"/wiki/Lebanon\" title=\"Lebanon\">\n",
      "     Lebanon\n",
      "    </a>\n",
      "   </td>\n",
      "   <td>\n",
      "    6,856,000\n",
      "   </td>\n",
      "   <td>\n",
      "    10,452\n",
      "   </td>\n",
      "   <td>\n",
      "    656\n",
      "   </td>\n",
      "  </tr>\n",
      "  <tr>\n",
      "   <td>\n",
      "    4\n",
      "   </td>\n",
      "   <td align=\"left\">\n",
      "    <span class=\"flagicon\">\n",
      "     <img alt=\"\" class=\"thumbborder\" data-file-height=\"600\" data-file-width=\"900\" decoding=\"async\" height=\"15\" src=\"//upload.wikimedia.org/wikipedia/commons/thumb/7/72/Flag_of_the_Republic_of_China.svg/23px-Flag_of_the_Republic_of_China.svg.png\" srcset=\"//upload.wikimedia.org/wikipedia/commons/thumb/7/72/Flag_of_the_Republic_of_China.svg/35px-Flag_of_the_Republic_of_China.svg.png 1.5x, //upload.wikimedia.org/wikipedia/commons/thumb/7/72/Flag_of_the_Republic_of_China.svg/45px-Flag_of_the_Republic_of_China.svg.png 2x\" width=\"23\"/>\n",
      "    </span>\n",
      "    <a href=\"/wiki/Taiwan\" title=\"Taiwan\">\n",
      "     Taiwan\n",
      "    </a>\n",
      "   </td>\n",
      "   <td>\n",
      "    23,604,000\n",
      "   </td>\n",
      "   <td>\n",
      "    36,193\n",
      "   </td>\n",
      "   <td>\n",
      "    652\n",
      "   </td>\n",
      "  </tr>\n",
      "  <tr>\n",
      "   <td>\n",
      "    5\n",
      "   </td>\n",
      "   <td align=\"left\">\n",
      "    <span class=\"flagicon\">\n",
      "     <img alt=\"\" class=\"thumbborder\" data-file-height=\"600\" data-file-width=\"900\" decoding=\"async\" height=\"15\" src=\"//upload.wikimedia.org/wikipedia/commons/thumb/0/09/Flag_of_South_Korea.svg/23px-Flag_of_South_Korea.svg.png\" srcset=\"//upload.wikimedia.org/wikipedia/commons/thumb/0/09/Flag_of_South_Korea.svg/35px-Flag_of_South_Korea.svg.png 1.5x, //upload.wikimedia.org/wikipedia/commons/thumb/0/09/Flag_of_South_Korea.svg/45px-Flag_of_South_Korea.svg.png 2x\" width=\"23\"/>\n",
      "    </span>\n",
      "    <a href=\"/wiki/South_Korea\" title=\"South Korea\">\n",
      "     South Korea\n",
      "    </a>\n",
      "   </td>\n",
      "   <td>\n",
      "    51,781,000\n",
      "   </td>\n",
      "   <td>\n",
      "    99,538\n",
      "   </td>\n",
      "   <td>\n",
      "    520\n",
      "   </td>\n",
      "  </tr>\n",
      "  <tr>\n",
      "   <td>\n",
      "    6\n",
      "   </td>\n",
      "   <td align=\"left\">\n",
      "    <span class=\"flagicon\">\n",
      "     <img alt=\"\" class=\"thumbborder\" data-file-height=\"720\" data-file-width=\"1080\" decoding=\"async\" height=\"15\" src=\"//upload.wikimedia.org/wikipedia/commons/thumb/1/17/Flag_of_Rwanda.svg/23px-Flag_of_Rwanda.svg.png\" srcset=\"//upload.wikimedia.org/wikipedia/commons/thumb/1/17/Flag_of_Rwanda.svg/35px-Flag_of_Rwanda.svg.png 1.5x, //upload.wikimedia.org/wikipedia/commons/thumb/1/17/Flag_of_Rwanda.svg/45px-Flag_of_Rwanda.svg.png 2x\" width=\"23\"/>\n",
      "    </span>\n",
      "    <a href=\"/wiki/Rwanda\" title=\"Rwanda\">\n",
      "     Rwanda\n",
      "    </a>\n",
      "   </td>\n",
      "   <td>\n",
      "    12,374,000\n",
      "   </td>\n",
      "   <td>\n",
      "    26,338\n",
      "   </td>\n",
      "   <td>\n",
      "    470\n",
      "   </td>\n",
      "  </tr>\n",
      "  <tr>\n",
      "   <td>\n",
      "    7\n",
      "   </td>\n",
      "   <td align=\"left\">\n",
      "    <span class=\"flagicon\">\n",
      "     <img alt=\"\" class=\"thumbborder\" data-file-height=\"600\" data-file-width=\"1000\" decoding=\"async\" height=\"14\" src=\"//upload.wikimedia.org/wikipedia/commons/thumb/5/56/Flag_of_Haiti.svg/23px-Flag_of_Haiti.svg.png\" srcset=\"//upload.wikimedia.org/wikipedia/commons/thumb/5/56/Flag_of_Haiti.svg/35px-Flag_of_Haiti.svg.png 1.5x, //upload.wikimedia.org/wikipedia/commons/thumb/5/56/Flag_of_Haiti.svg/46px-Flag_of_Haiti.svg.png 2x\" width=\"23\"/>\n",
      "    </span>\n",
      "    <a href=\"/wiki/Haiti\" title=\"Haiti\">\n",
      "     Haiti\n",
      "    </a>\n",
      "   </td>\n",
      "   <td>\n",
      "    11,578,000\n",
      "   </td>\n",
      "   <td>\n",
      "    27,065\n",
      "   </td>\n",
      "   <td>\n",
      "    428\n",
      "   </td>\n",
      "  </tr>\n",
      "  <tr>\n",
      "   <td>\n",
      "    8\n",
      "   </td>\n",
      "   <td align=\"left\">\n",
      "    <span class=\"flagicon\">\n",
      "     <img alt=\"\" class=\"thumbborder\" data-file-height=\"600\" data-file-width=\"900\" decoding=\"async\" height=\"15\" src=\"//upload.wikimedia.org/wikipedia/commons/thumb/2/20/Flag_of_the_Netherlands.svg/23px-Flag_of_the_Netherlands.svg.png\" srcset=\"//upload.wikimedia.org/wikipedia/commons/thumb/2/20/Flag_of_the_Netherlands.svg/35px-Flag_of_the_Netherlands.svg.png 1.5x, //upload.wikimedia.org/wikipedia/commons/thumb/2/20/Flag_of_the_Netherlands.svg/45px-Flag_of_the_Netherlands.svg.png 2x\" width=\"23\"/>\n",
      "    </span>\n",
      "    <a href=\"/wiki/Netherlands\" title=\"Netherlands\">\n",
      "     Netherlands\n",
      "    </a>\n",
      "   </td>\n",
      "   <td>\n",
      "    17,640,000\n",
      "   </td>\n",
      "   <td>\n",
      "    41,526\n",
      "   </td>\n",
      "   <td>\n",
      "    425\n",
      "   </td>\n",
      "  </tr>\n",
      "  <tr>\n",
      "   <td>\n",
      "    9\n",
      "   </td>\n",
      "   <td align=\"left\">\n",
      "    <span class=\"flagicon\">\n",
      "     <img alt=\"\" class=\"thumbborder\" data-file-height=\"800\" data-file-width=\"1100\" decoding=\"async\" height=\"15\" src=\"//upload.wikimedia.org/wikipedia/commons/thumb/d/d4/Flag_of_Israel.svg/21px-Flag_of_Israel.svg.png\" srcset=\"//upload.wikimedia.org/wikipedia/commons/thumb/d/d4/Flag_of_Israel.svg/32px-Flag_of_Israel.svg.png 1.5x, //upload.wikimedia.org/wikipedia/commons/thumb/d/d4/Flag_of_Israel.svg/41px-Flag_of_Israel.svg.png 2x\" width=\"21\"/>\n",
      "    </span>\n",
      "    <a href=\"/wiki/Israel\" title=\"Israel\">\n",
      "     Israel\n",
      "    </a>\n",
      "   </td>\n",
      "   <td>\n",
      "    9,400,000\n",
      "   </td>\n",
      "   <td>\n",
      "    22,072\n",
      "   </td>\n",
      "   <td>\n",
      "    426\n",
      "   </td>\n",
      "  </tr>\n",
      "  <tr>\n",
      "   <td>\n",
      "    10\n",
      "   </td>\n",
      "   <td align=\"left\">\n",
      "    <span class=\"flagicon\">\n",
      "     <img alt=\"\" class=\"thumbborder\" data-file-height=\"900\" data-file-width=\"1350\" decoding=\"async\" height=\"15\" src=\"//upload.wikimedia.org/wikipedia/en/thumb/4/41/Flag_of_India.svg/23px-Flag_of_India.svg.png\" srcset=\"//upload.wikimedia.org/wikipedia/en/thumb/4/41/Flag_of_India.svg/35px-Flag_of_India.svg.png 1.5x, //upload.wikimedia.org/wikipedia/en/thumb/4/41/Flag_of_India.svg/45px-Flag_of_India.svg.png 2x\" width=\"23\"/>\n",
      "    </span>\n",
      "    <a href=\"/wiki/India\" title=\"India\">\n",
      "     India\n",
      "    </a>\n",
      "   </td>\n",
      "   <td>\n",
      "    1,381,750,000\n",
      "   </td>\n",
      "   <td>\n",
      "    3,287,240\n",
      "   </td>\n",
      "   <td>\n",
      "    420\n",
      "   </td>\n",
      "  </tr>\n",
      " </tbody>\n",
      "</table>\n",
      "\n"
     ]
    }
   ],
   "source": [
    "print(tables[table_index].prettify())"
   ]
  },
  {
   "cell_type": "code",
   "execution_count": 75,
   "metadata": {},
   "outputs": [
    {
     "data": {
      "text/html": [
       "<div>\n",
       "<style scoped>\n",
       "    .dataframe tbody tr th:only-of-type {\n",
       "        vertical-align: middle;\n",
       "    }\n",
       "\n",
       "    .dataframe tbody tr th {\n",
       "        vertical-align: top;\n",
       "    }\n",
       "\n",
       "    .dataframe thead th {\n",
       "        text-align: right;\n",
       "    }\n",
       "</style>\n",
       "<table border=\"1\" class=\"dataframe\">\n",
       "  <thead>\n",
       "    <tr style=\"text-align: right;\">\n",
       "      <th></th>\n",
       "      <th>Rank</th>\n",
       "      <th>Country</th>\n",
       "      <th>Population</th>\n",
       "      <th>Area</th>\n",
       "      <th>Density</th>\n",
       "    </tr>\n",
       "  </thead>\n",
       "  <tbody>\n",
       "    <tr>\n",
       "      <th>0</th>\n",
       "      <td>1</td>\n",
       "      <td>Singapore</td>\n",
       "      <td>5,704,000</td>\n",
       "      <td>710</td>\n",
       "      <td>8,033</td>\n",
       "    </tr>\n",
       "    <tr>\n",
       "      <th>1</th>\n",
       "      <td>2</td>\n",
       "      <td>Bangladesh</td>\n",
       "      <td>171,340,000</td>\n",
       "      <td>143,998</td>\n",
       "      <td>1,190</td>\n",
       "    </tr>\n",
       "    <tr>\n",
       "      <th>2</th>\n",
       "      <td>3</td>\n",
       "      <td>Lebanon</td>\n",
       "      <td>6,856,000</td>\n",
       "      <td>10,452</td>\n",
       "      <td>656</td>\n",
       "    </tr>\n",
       "    <tr>\n",
       "      <th>3</th>\n",
       "      <td>4</td>\n",
       "      <td>Taiwan</td>\n",
       "      <td>23,604,000</td>\n",
       "      <td>36,193</td>\n",
       "      <td>652</td>\n",
       "    </tr>\n",
       "    <tr>\n",
       "      <th>4</th>\n",
       "      <td>5</td>\n",
       "      <td>South Korea</td>\n",
       "      <td>51,781,000</td>\n",
       "      <td>99,538</td>\n",
       "      <td>520</td>\n",
       "    </tr>\n",
       "    <tr>\n",
       "      <th>5</th>\n",
       "      <td>6</td>\n",
       "      <td>Rwanda</td>\n",
       "      <td>12,374,000</td>\n",
       "      <td>26,338</td>\n",
       "      <td>470</td>\n",
       "    </tr>\n",
       "    <tr>\n",
       "      <th>6</th>\n",
       "      <td>7</td>\n",
       "      <td>Haiti</td>\n",
       "      <td>11,578,000</td>\n",
       "      <td>27,065</td>\n",
       "      <td>428</td>\n",
       "    </tr>\n",
       "    <tr>\n",
       "      <th>7</th>\n",
       "      <td>8</td>\n",
       "      <td>Netherlands</td>\n",
       "      <td>17,640,000</td>\n",
       "      <td>41,526</td>\n",
       "      <td>425</td>\n",
       "    </tr>\n",
       "    <tr>\n",
       "      <th>8</th>\n",
       "      <td>9</td>\n",
       "      <td>Israel</td>\n",
       "      <td>9,400,000</td>\n",
       "      <td>22,072</td>\n",
       "      <td>426</td>\n",
       "    </tr>\n",
       "    <tr>\n",
       "      <th>9</th>\n",
       "      <td>10</td>\n",
       "      <td>India</td>\n",
       "      <td>1,381,750,000</td>\n",
       "      <td>3,287,240</td>\n",
       "      <td>420</td>\n",
       "    </tr>\n",
       "  </tbody>\n",
       "</table>\n",
       "</div>"
      ],
      "text/plain": [
       "  Rank       Country     Population       Area Density\n",
       "0    1     Singapore      5,704,000        710   8,033\n",
       "1    2    Bangladesh    171,340,000    143,998   1,190\n",
       "2    3       Lebanon      6,856,000     10,452     656\n",
       "3    4        Taiwan     23,604,000     36,193     652\n",
       "4    5   South Korea     51,781,000     99,538     520\n",
       "5    6        Rwanda     12,374,000     26,338     470\n",
       "6    7         Haiti     11,578,000     27,065     428\n",
       "7    8   Netherlands     17,640,000     41,526     425\n",
       "8    9        Israel      9,400,000     22,072     426\n",
       "9   10         India  1,381,750,000  3,287,240     420"
      ]
     },
     "execution_count": 75,
     "metadata": {},
     "output_type": "execute_result"
    }
   ],
   "source": [
    "population_data = pd.DataFrame(columns=[\"Rank\", \"Country\", \"Population\", \"Area\", \"Density\"])\n",
    "\n",
    "for row in tables[table_index].tbody.find_all(\"tr\"):\n",
    "    col = row.find_all(\"td\")\n",
    "    if (col != []):\n",
    "        rank = col[0].text\n",
    "        country = col[1].text\n",
    "        population = col[2].text.strip()\n",
    "        area = col[3].text.strip()\n",
    "        density = col[4].text.strip()\n",
    "        population_data = population_data.append({\"Rank\":rank, \"Country\":country, \"Population\":population, \"Area\":area, \"Density\":density}, ignore_index=True)\n",
    "\n",
    "population_data"
   ]
  },
  {
   "cell_type": "markdown",
   "metadata": {},
   "source": [
    "## Scrape data from HTML tables into a DataFrame using BeautifulSoup and read_html\n"
   ]
  },
  {
   "cell_type": "markdown",
   "metadata": {},
   "source": [
    "Using the same `url`, `data`, `soup`, and `tables` object as in the last section we can use the `read_html` function to create a DataFrame.\n",
    "\n",
    "Remember the table we need is located in `tables[table_index]`\n",
    "\n",
    "We can now use the `pandas` function `read_html` and give it the string version of the table as well as the `flavor` which is the parsing engine `bs4`.\n"
   ]
  },
  {
   "cell_type": "code",
   "execution_count": null,
   "metadata": {},
   "outputs": [],
   "source": [
    "pd.read_html(str(tables[5]), flavor='bs4')"
   ]
  },
  {
   "cell_type": "markdown",
   "metadata": {},
   "source": [
    "The function `read_html` always returns a list of DataFrames so we must pick the one we want out of the list.\n"
   ]
  },
  {
   "cell_type": "code",
   "execution_count": null,
   "metadata": {},
   "outputs": [],
   "source": [
    "population_data_read_html = pd.read_html(str(tables[5]), flavor='bs4')[0]\n",
    "\n",
    "population_data_read_html"
   ]
  },
  {
   "cell_type": "markdown",
   "metadata": {},
   "source": [
    "## Scrape data from HTML tables into a DataFrame using read_html\n"
   ]
  },
  {
   "cell_type": "markdown",
   "metadata": {},
   "source": [
    "We can also use the `read_html` function to directly get DataFrames from a `url`.\n"
   ]
  },
  {
   "cell_type": "code",
   "execution_count": null,
   "metadata": {},
   "outputs": [],
   "source": [
    "dataframe_list = pd.read_html(url, flavor='bs4')"
   ]
  },
  {
   "cell_type": "markdown",
   "metadata": {},
   "source": [
    "We can see there are 25 DataFrames just like when we used `find_all` on the `soup` object.\n"
   ]
  },
  {
   "cell_type": "code",
   "execution_count": null,
   "metadata": {},
   "outputs": [],
   "source": [
    "len(dataframe_list)"
   ]
  },
  {
   "cell_type": "markdown",
   "metadata": {},
   "source": [
    "Finally we can pick the DataFrame we need out of the list.\n"
   ]
  },
  {
   "cell_type": "code",
   "execution_count": null,
   "metadata": {},
   "outputs": [],
   "source": [
    "dataframe_list[5]"
   ]
  },
  {
   "cell_type": "markdown",
   "metadata": {},
   "source": [
    "We can also use the `match` parameter to select the specific table we want. If the table contains a string matching the text it will be read.\n"
   ]
  },
  {
   "cell_type": "code",
   "execution_count": null,
   "metadata": {},
   "outputs": [],
   "source": [
    "pd.read_html(url, match=\"10 most densely populated countries\", flavor='bs4')[0]"
   ]
  },
  {
   "cell_type": "markdown",
   "metadata": {},
   "source": [
    "## Authors\n"
   ]
  },
  {
   "cell_type": "markdown",
   "metadata": {},
   "source": [
    "Ramesh Sannareddy\n"
   ]
  },
  {
   "cell_type": "markdown",
   "metadata": {},
   "source": [
    "### Other Contributors\n"
   ]
  },
  {
   "cell_type": "markdown",
   "metadata": {},
   "source": [
    "Rav Ahuja\n"
   ]
  },
  {
   "cell_type": "markdown",
   "metadata": {},
   "source": [
    "## Change Log\n"
   ]
  },
  {
   "cell_type": "markdown",
   "metadata": {},
   "source": [
    "| Date (YYYY-MM-DD) | Version | Changed By                                               | Change Description |\n",
    "| ----------------- | ------- | -------------------------------------------------------- | ------------------ |\n",
    "| 2021-08-04        | 0.2     | Made changes to markdown of nextsibling                  |                    |\n",
    "| 2020-10-17        | 0.1     | Joseph Santarcangelo  Created initial version of the lab |                    |\n"
   ]
  },
  {
   "cell_type": "markdown",
   "metadata": {},
   "source": [
    "Copyright © 2020 IBM Corporation. This notebook and its source code are released under the terms of the [MIT License](https://cognitiveclass.ai/mit-license?utm_medium=Exinfluencer&utm_source=Exinfluencer&utm_content=000026UJ&utm_term=10006555&utm_id=NA-SkillsNetwork-Channel-SkillsNetworkCoursesIBMDeveloperSkillsNetworkPY0220ENSkillsNetwork23455606-2021-01-01&cm_mmc=Email_Newsletter-\\_-Developer_Ed%2BTech-\\_-WW_WW-\\_-SkillsNetwork-Courses-IBMDeveloperSkillsNetwork-PY0101EN-SkillsNetwork-19487395&cm_mmca1=000026UJ&cm_mmca2=10006555&cm_mmca3=M12345678&cvosrc=email.Newsletter.M12345678&cvo_campaign=000026UJ).\n"
   ]
  }
 ],
 "metadata": {
  "kernelspec": {
   "display_name": "Python",
   "language": "python",
   "name": "conda-env-python-py"
  },
  "language_info": {
   "codemirror_mode": {
    "name": "ipython",
    "version": 3
   },
   "file_extension": ".py",
   "mimetype": "text/x-python",
   "name": "python",
   "nbconvert_exporter": "python",
   "pygments_lexer": "ipython3",
   "version": "3.6.13"
  }
 },
 "nbformat": 4,
 "nbformat_minor": 4
}
